{
 "cells": [
  {
   "cell_type": "markdown",
   "metadata": {
    "pycharm": {
     "name": "#%% md\n"
    }
   },
   "source": [
    "## Handling Files\n",
    "   1. 📂 [Openning Files](#Openning_Files)\n",
    "   2. 📖 [Reading Files & Encoding](#Reading_Files)\n",
    "   3. 🔒 [Closing Files](#Closing_Files)\n",
    "   4. 📖 [Context Manager](#Reading_Files)\n",
    "   5. ✍️ [Writing Files](#Writing_Files)\n",
    "   6. 📖 [Seek](#seek)\n",
    "   7. 💡 [Import_OS](#Import_os)                                                                                               \n",
    "        1.🚫 [Delete Files](#Delete_File)                                                                                         \n",
    "        2.🔖 [Delete Directory](#Delete_Folder)                                                                                     \n",
    "        3.🔖 [Access_to_Files](#Access_To_Files)                                                                                 \n",
    "        4.🗄️  [Create_Directory](#Create_directory)                                                                                 \n",
    "        5.🔖 [Split path](#Split_Path)</br>\n",
    "        6.🔖 [Split Extension](#Split_Extension)\n",
    "    \n",
    "   8. 💡[Shutil-rmtree, move, copy](#Shutil)"
   ]
  },
  {
   "cell_type": "markdown",
   "metadata": {
    "pycharm": {
     "name": "#%% md\n"
    }
   },
   "source": [
    "<a id=\"Openning_Files\"></a>\n",
    "### 📂 Openning Files\n"
   ]
  },
  {
   "cell_type": "markdown",
   "metadata": {
    "pycharm": {
     "name": "#%% md\n"
    }
   },
   "source": [
    "#####   ⭐ \"r\" - Read - Default value. Opens a file for reading. Raises I/O error if the file does not exist\n",
    "\n",
    "#####   ⭐ \"r+\" - Read - Default value. Open the file for reading and writing. Raises I/O error if the file does not exists.\n",
    "\n",
    "#####       ⭐ \"a\" - Append - Opens a file for appending, creates the file if it does not exist\n",
    "\n",
    "#####       ⭐ \"a+\" - Open the file for reading and writing. The file is created if it does not exist. .The data being written will be inserted at the end,  after the existing data.\n",
    "\n",
    "#####       ⭐ \"w\" - Write - Opens a file for writing, creates the file if it does not exist\n",
    "\n",
    "#####       ⭐ \"w+\" -Open the file for reading and writing. For existing file, data is truncated and over-written\n"
   ]
  },
  {
   "cell_type": "code",
   "execution_count": 2,
   "metadata": {
    "scrolled": true
   },
   "outputs": [],
   "source": [
    "#To open a file for reading it is enough to specify the name of the file:\n",
    "# (same directory) in append mode and \n",
    "file1 = open(\"my_file.txt\")"
   ]
  },
  {
   "cell_type": "code",
   "execution_count": 3,
   "metadata": {},
   "outputs": [
    {
     "data": {
      "text/plain": [
       "<_io.TextIOWrapper name='my_file.txt' mode='r' encoding='cp1252'>"
      ]
     },
     "execution_count": 3,
     "metadata": {},
     "output_type": "execute_result"
    }
   ],
   "source": [
    "file1"
   ]
  },
  {
   "cell_type": "code",
   "execution_count": 4,
   "metadata": {
    "pycharm": {
     "name": "#%%\n"
    }
   },
   "outputs": [],
   "source": [
    "# The code above is the same as:\n",
    "# (same directory) in append mode and \n",
    "file1 = open(\"my_file.txt\", mode=\"r\") "
   ]
  },
  {
   "cell_type": "code",
   "execution_count": 5,
   "metadata": {
    "pycharm": {
     "name": "#%%\n"
    }
   },
   "outputs": [
    {
     "data": {
      "text/plain": [
       "<_io.TextIOWrapper name='C:\\\\Users\\\\pooya\\\\projects\\\\intro_to_python\\\\my_file_2.txt' mode='w' encoding='cp1252'>"
      ]
     },
     "execution_count": 5,
     "metadata": {},
     "output_type": "execute_result"
    }
   ],
   "source": [
    "# store its reference in the variable file1 \n",
    "# and \"MyFile2.txt\" in D:\\Text in file2 \n",
    "file2 = open(r\"C:\\Users\\pooya\\projects\\intro_to_python\\my_file_2.txt\", mode=\"w\") \n",
    "file2"
   ]
  },
  {
   "cell_type": "markdown",
   "metadata": {},
   "source": [
    "<a id=\"Reading_Files\"></a>\n",
    "## 📖 Reading Files"
   ]
  },
  {
   "cell_type": "code",
   "execution_count": 6,
   "metadata": {
    "pycharm": {
     "name": "#%%\n"
    },
    "scrolled": true
   },
   "outputs": [
    {
     "name": "stdout",
     "output_type": "stream",
     "text": [
      "Hello World\n",
      "Introduction to python\n",
      "This is Pooya!\n"
     ]
    }
   ],
   "source": [
    "file = open(\"my_file.txt\")\n",
    "print(file.read())"
   ]
  },
  {
   "cell_type": "code",
   "execution_count": 7,
   "metadata": {
    "pycharm": {
     "name": "#%%\n"
    },
    "scrolled": true
   },
   "outputs": [
    {
     "name": "stdout",
     "output_type": "stream",
     "text": [
      "0 Hello World\n",
      "\n",
      "1 Introduction to python\n",
      "\n",
      "2 This is Pooya!\n"
     ]
    }
   ],
   "source": [
    "# iterate over lines\n",
    "for en, line in enumerate(open('my_file.txt')):\n",
    "    print(en, line)"
   ]
  },
  {
   "cell_type": "code",
   "execution_count": 10,
   "metadata": {
    "pycharm": {
     "name": "#%%\n"
    },
    "scrolled": true
   },
   "outputs": [
    {
     "data": {
      "text/plain": [
       "['Hello World\\n', 'Introduction to python\\n', 'This is Pooya!']"
      ]
     },
     "execution_count": 10,
     "metadata": {},
     "output_type": "execute_result"
    }
   ],
   "source": [
    "file = open(\"my_file.txt\")\n",
    "lines = file.readlines()\n",
    "lines"
   ]
  },
  {
   "cell_type": "markdown",
   "metadata": {},
   "source": [
    "### Encoding\n"
   ]
  },
  {
   "cell_type": "code",
   "execution_count": 12,
   "metadata": {},
   "outputs": [
    {
     "name": "stdout",
     "output_type": "stream",
     "text": [
      "Hello World\n",
      "Introduction to python\n",
      "This is Pooya!\n",
      "Ù¾ÙˆÛŒØ§ Ù…Ø­Ù…Ø¯ÛŒ \n"
     ]
    }
   ],
   "source": [
    "file = open(\"my_file.txt\", mode=\"r\")\n",
    "print(file.read())"
   ]
  },
  {
   "cell_type": "code",
   "execution_count": 51,
   "metadata": {},
   "outputs": [
    {
     "name": "stdout",
     "output_type": "stream",
     "text": [
      "Hello World!!!\n",
      "This is Introduction to python\n"
     ]
    }
   ],
   "source": [
    "file = open(\"my_file.txt\", mode=\"r\", encoding=\"utf-8\") \n",
    "print(file.read())\n",
    "file.close()"
   ]
  },
  {
   "cell_type": "markdown",
   "metadata": {
    "pycharm": {
     "name": "#%% md\n"
    }
   },
   "source": [
    "<a id=\"Closing_Files\"></a>\n",
    "### 🔒Closing Files"
   ]
  },
  {
   "cell_type": "code",
   "execution_count": 14,
   "metadata": {
    "pycharm": {
     "name": "#%%\n"
    }
   },
   "outputs": [],
   "source": [
    "# Opening and Closing a file \"MyFile.txt\" \n",
    "# for object name file1. \n",
    "file1 = open(\"my_file.txt\", \"r\") \n",
    "file1.close() "
   ]
  },
  {
   "cell_type": "code",
   "execution_count": 15,
   "metadata": {},
   "outputs": [
    {
     "ename": "ValueError",
     "evalue": "I/O operation on closed file.",
     "output_type": "error",
     "traceback": [
      "\u001b[1;31m---------------------------------------------------------------------------\u001b[0m",
      "\u001b[1;31mValueError\u001b[0m                                Traceback (most recent call last)",
      "Cell \u001b[1;32mIn [15], line 1\u001b[0m\n\u001b[1;32m----> 1\u001b[0m \u001b[43mfile1\u001b[49m\u001b[38;5;241;43m.\u001b[39;49m\u001b[43mread\u001b[49m\u001b[43m(\u001b[49m\u001b[43m)\u001b[49m\n",
      "\u001b[1;31mValueError\u001b[0m: I/O operation on closed file."
     ]
    }
   ],
   "source": [
    "file1.read()"
   ]
  },
  {
   "cell_type": "markdown",
   "metadata": {
    "pycharm": {
     "name": "#%% md\n"
    }
   },
   "source": [
    "<a id=\"Reading_Files\"></a>\n",
    "### 📖Context Manager\n",
    "It automatically closes the opened file! You may forget to close a file, but using a context manager you won't have any worries!\n"
   ]
  },
  {
   "cell_type": "code",
   "execution_count": 16,
   "metadata": {},
   "outputs": [],
   "source": [
    "# why context manager:\n",
    "f = open(\"my_file_3.txt\", mode=\"w\")\n",
    "# you cannot remove the file manually!"
   ]
  },
  {
   "cell_type": "code",
   "execution_count": 17,
   "metadata": {},
   "outputs": [],
   "source": [
    "f.close()\n",
    "# now you can remove it!"
   ]
  },
  {
   "cell_type": "code",
   "execution_count": 19,
   "metadata": {
    "pycharm": {
     "name": "#%%\n"
    }
   },
   "outputs": [
    {
     "name": "stdout",
     "output_type": "stream",
     "text": [
      "Hello World\n",
      "Introduction to python\n",
      "This is Pooya!\n",
      "پویا محمدی \n"
     ]
    }
   ],
   "source": [
    "# Recommended!\n",
    "with open(\"my_file.txt\", encoding=\"utf-8\") as file: \n",
    "    data = file.read()\n",
    "\n",
    "print(data)\n",
    "# do something with data \n"
   ]
  },
  {
   "cell_type": "code",
   "execution_count": 20,
   "metadata": {},
   "outputs": [
    {
     "ename": "ValueError",
     "evalue": "I/O operation on closed file.",
     "output_type": "error",
     "traceback": [
      "\u001b[1;31m---------------------------------------------------------------------------\u001b[0m",
      "\u001b[1;31mValueError\u001b[0m                                Traceback (most recent call last)",
      "Cell \u001b[1;32mIn [20], line 3\u001b[0m\n\u001b[0;32m      1\u001b[0m \u001b[38;5;66;03m# I/O operation on closed file.\u001b[39;00m\n\u001b[0;32m      2\u001b[0m \u001b[38;5;66;03m# Automatically closed!\u001b[39;00m\n\u001b[1;32m----> 3\u001b[0m \u001b[43mfile\u001b[49m\u001b[38;5;241;43m.\u001b[39;49m\u001b[43mread\u001b[49m\u001b[43m(\u001b[49m\u001b[43m)\u001b[49m\n",
      "\u001b[1;31mValueError\u001b[0m: I/O operation on closed file."
     ]
    }
   ],
   "source": [
    "# I/O operation on closed file.\n",
    "# Automatically closed!\n",
    "file.read()"
   ]
  },
  {
   "cell_type": "code",
   "execution_count": 22,
   "metadata": {},
   "outputs": [
    {
     "name": "stdout",
     "output_type": "stream",
     "text": [
      "0 Hello World\n",
      "\n",
      "1 Introduction to python\n",
      "\n",
      "2 This is Pooya!\n",
      "\n",
      "3 پویا محمدی \n"
     ]
    }
   ],
   "source": [
    "# iterate over lines!\n",
    "with open(\"my_file.txt\", encoding=\"utf-8\") as file: \n",
    "    for en, line in enumerate(file.readlines()):\n",
    "        print(en, line)"
   ]
  },
  {
   "cell_type": "markdown",
   "metadata": {
    "pycharm": {
     "name": "#%% md\n"
    }
   },
   "source": [
    "<a id=\"Writing_Files\"></a>\n",
    "### ✍️Writing Files"
   ]
  },
  {
   "cell_type": "code",
   "execution_count": 53,
   "metadata": {
    "pycharm": {
     "name": "#%%\n"
    }
   },
   "outputs": [],
   "source": [
    "with open(\"my_file.txt\", \"w\") as f:  \n",
    "    f.write(\"Hello World!!!\\n\") \n",
    "    f.write(\"This is Introduction to python\")"
   ]
  },
  {
   "cell_type": "code",
   "execution_count": 54,
   "metadata": {
    "pycharm": {
     "name": "#%%\n"
    }
   },
   "outputs": [
    {
     "name": "stdout",
     "output_type": "stream",
     "text": [
      "['Hello World!!!\\n', 'This is Introduction to python']\n"
     ]
    }
   ],
   "source": [
    "with open(\"my_file.txt\", \"r\") as f:  \n",
    "    print(f.readlines())"
   ]
  },
  {
   "cell_type": "markdown",
   "metadata": {},
   "source": [
    "<a id=\"Seek\"></a>\n",
    "### 📖 Seek"
   ]
  },
  {
   "cell_type": "code",
   "execution_count": 47,
   "metadata": {},
   "outputs": [
    {
     "data": {
      "text/plain": [
       "['Hello World!!!\\n', 'This is Introduction to python']"
      ]
     },
     "execution_count": 47,
     "metadata": {},
     "output_type": "execute_result"
    }
   ],
   "source": [
    "file = open(\"my_file.txt\", \"r\")\n",
    "lines = file.readlines()\n",
    "lines"
   ]
  },
  {
   "cell_type": "code",
   "execution_count": 48,
   "metadata": {},
   "outputs": [
    {
     "name": "stdout",
     "output_type": "stream",
     "text": [
      "[]\n"
     ]
    }
   ],
   "source": [
    "lines = file.readlines()\n",
    "print(lines)"
   ]
  },
  {
   "cell_type": "code",
   "execution_count": 49,
   "metadata": {
    "pycharm": {
     "name": "#%%\n"
    }
   },
   "outputs": [
    {
     "data": {
      "text/plain": [
       "['Hello World!!!\\n', 'This is Introduction to python']"
      ]
     },
     "execution_count": 49,
     "metadata": {},
     "output_type": "execute_result"
    }
   ],
   "source": [
    "# After reading the file once and moving the cursor to the end of the line:\n",
    "file.seek(0)\n",
    "lines = file.readlines()\n",
    "lines"
   ]
  },
  {
   "cell_type": "code",
   "execution_count": 50,
   "metadata": {},
   "outputs": [],
   "source": [
    "file.close()"
   ]
  },
  {
   "cell_type": "markdown",
   "metadata": {
    "pycharm": {
     "name": "#%% md\n"
    }
   },
   "source": [
    "<a id=\"Import_os\"></a>\n",
    "### 💡Import OS"
   ]
  },
  {
   "cell_type": "code",
   "execution_count": 33,
   "metadata": {},
   "outputs": [
    {
     "data": {
      "text/plain": [
       "'C:\\\\Users\\\\pooya\\\\projects\\\\intro_to_python'"
      ]
     },
     "execution_count": 33,
     "metadata": {},
     "output_type": "execute_result"
    }
   ],
   "source": [
    "# get current working directory :)\n",
    "import os\n",
    "os.getcwd()"
   ]
  },
  {
   "cell_type": "code",
   "execution_count": 34,
   "metadata": {
    "scrolled": true
   },
   "outputs": [
    {
     "name": "stdout",
     "output_type": "stream",
     "text": [
      "['DirEntry', 'F_OK', 'GenericAlias', 'Mapping', 'MutableMapping', 'O_APPEND', 'O_BINARY', 'O_CREAT', 'O_EXCL', 'O_NOINHERIT', 'O_RANDOM', 'O_RDONLY', 'O_RDWR', 'O_SEQUENTIAL', 'O_SHORT_LIVED', 'O_TEMPORARY', 'O_TEXT', 'O_TRUNC', 'O_WRONLY', 'P_DETACH', 'P_NOWAIT', 'P_NOWAITO', 'P_OVERLAY', 'P_WAIT', 'PathLike', 'R_OK', 'SEEK_CUR', 'SEEK_END', 'SEEK_SET', 'TMP_MAX', 'W_OK', 'X_OK', '_AddedDllDirectory', '_Environ', '__all__', '__builtins__', '__cached__', '__doc__', '__file__', '__loader__', '__name__', '__package__', '__spec__', '_check_methods', '_execvpe', '_exists', '_exit', '_fspath', '_get_exports_list', '_walk', '_wrap_close', 'abc', 'abort', 'access', 'add_dll_directory', 'altsep', 'chdir', 'chmod', 'close', 'closerange', 'cpu_count', 'curdir', 'defpath', 'device_encoding', 'devnull', 'dup', 'dup2', 'environ', 'error', 'execl', 'execle', 'execlp', 'execlpe', 'execv', 'execve', 'execvp', 'execvpe', 'extsep', 'fdopen', 'fsdecode', 'fsencode', 'fspath', 'fstat', 'fsync', 'ftruncate', 'get_exec_path', 'get_handle_inheritable', 'get_inheritable', 'get_terminal_size', 'getcwd', 'getcwdb', 'getenv', 'getlogin', 'getpid', 'getppid', 'isatty', 'kill', 'linesep', 'link', 'listdir', 'lseek', 'lstat', 'makedirs', 'mkdir', 'name', 'open', 'pardir', 'path', 'pathsep', 'pipe', 'popen', 'putenv', 'read', 'readlink', 'remove', 'removedirs', 'rename', 'renames', 'replace', 'rmdir', 'scandir', 'sep', 'set_handle_inheritable', 'set_inheritable', 'spawnl', 'spawnle', 'spawnv', 'spawnve', 'st', 'startfile', 'stat', 'stat_result', 'statvfs_result', 'strerror', 'supports_bytes_environ', 'supports_dir_fd', 'supports_effective_ids', 'supports_fd', 'supports_follow_symlinks', 'symlink', 'sys', 'system', 'terminal_size', 'times', 'times_result', 'truncate', 'umask', 'uname_result', 'unlink', 'unsetenv', 'urandom', 'utime', 'waitpid', 'waitstatus_to_exitcode', 'walk', 'write']\n"
     ]
    }
   ],
   "source": [
    "print(dir(os))"
   ]
  },
  {
   "cell_type": "markdown",
   "metadata": {},
   "source": [
    "<a id=\"Access_To_Files\"></a>\n",
    "#### 🔖 Access to Files"
   ]
  },
  {
   "cell_type": "code",
   "execution_count": 35,
   "metadata": {},
   "outputs": [
    {
     "data": {
      "text/plain": [
       "['.git',\n",
       " '.gitignore',\n",
       " '.idea',\n",
       " '.ipynb_checkpoints',\n",
       " '01_jupyter_notebook_introduction.ipynb',\n",
       " '02_variables_autocomplete.ipynb',\n",
       " '03_data_types_strings.ipynb',\n",
       " '04_data_types_lists.ipynb',\n",
       " '05_basic_operators.ipynb',\n",
       " '06_if_statement.ipynb',\n",
       " '07_loops.ipynb',\n",
       " '08_loops_if_else_exercises.ipynb',\n",
       " '09_data_types_tuple.ipynb',\n",
       " '10_data_types_sets.ipynb',\n",
       " '11_data_types_dictionaries.ipynb',\n",
       " '12_data_type_conversion.ipynb',\n",
       " '13_loops_part_02.ipynb',\n",
       " '14_dictionary_loops_exercises.ipynb',\n",
       " '15_function_basics.ipynb',\n",
       " '16_function_docstrings.ipynb',\n",
       " '17_functions_type_hints.ipynb',\n",
       " '17_try_except.ipynb',\n",
       " '18_functions_advanced.ipynb',\n",
       " '19_comprehension_single_if.ipynb',\n",
       " '20_file_handling.ipynb',\n",
       " 'intro_to_python[fa]',\n",
       " 'LICENSE',\n",
       " 'my_file.txt',\n",
       " 'my_file_2.txt',\n",
       " 'README.md',\n",
       " 'recursion.ipynb',\n",
       " 'task.ipynb']"
      ]
     },
     "execution_count": 35,
     "metadata": {},
     "output_type": "execute_result"
    }
   ],
   "source": [
    "# list current working directories \n",
    "os.listdir(\".\")"
   ]
  },
  {
   "cell_type": "code",
   "execution_count": 36,
   "metadata": {},
   "outputs": [
    {
     "data": {
      "text/plain": [
       "['$Recycle.Bin',\n",
       " '$WinREAgent',\n",
       " 'Documents and Settings',\n",
       " 'DumpStack.log.tmp',\n",
       " 'hiberfil.sys',\n",
       " 'Intel',\n",
       " 'MSOCache',\n",
       " 'OneDriveTemp',\n",
       " 'pagefile.sys',\n",
       " 'PerfLogs',\n",
       " 'Program Files',\n",
       " 'Program Files (x86)',\n",
       " 'ProgramData',\n",
       " 'Recovery',\n",
       " 'swapfile.sys',\n",
       " 'System Volume Information',\n",
       " 'Users',\n",
       " 'Windows']"
      ]
     },
     "execution_count": 36,
     "metadata": {},
     "output_type": "execute_result"
    }
   ],
   "source": [
    "os.listdir('C:\\\\')"
   ]
  },
  {
   "cell_type": "code",
   "execution_count": 37,
   "metadata": {
    "scrolled": true
   },
   "outputs": [
    {
     "name": "stdout",
     "output_type": "stream",
     "text": [
      ".git\n",
      ".gitignore\n",
      ".idea\n",
      ".ipynb_checkpoints\n",
      "01_jupyter_notebook_introduction.ipynb\n",
      "02_variables_autocomplete.ipynb\n",
      "03_data_types_strings.ipynb\n",
      "04_data_types_lists.ipynb\n",
      "05_basic_operators.ipynb\n",
      "06_if_statement.ipynb\n",
      "07_loops.ipynb\n",
      "08_loops_if_else_exercises.ipynb\n",
      "09_data_types_tuple.ipynb\n",
      "10_data_types_sets.ipynb\n",
      "11_data_types_dictionaries.ipynb\n",
      "12_data_type_conversion.ipynb\n",
      "13_loops_part_02.ipynb\n",
      "14_dictionary_loops_exercises.ipynb\n",
      "15_function_basics.ipynb\n",
      "16_function_docstrings.ipynb\n",
      "17_functions_type_hints.ipynb\n",
      "17_try_except.ipynb\n",
      "18_functions_advanced.ipynb\n",
      "19_comprehension_single_if.ipynb\n",
      "20_file_handling.ipynb\n",
      "intro_to_python[fa]\n",
      "LICENSE\n",
      "my_file.txt\n",
      "my_file_2.txt\n",
      "README.md\n",
      "recursion.ipynb\n",
      "task.ipynb\n"
     ]
    }
   ],
   "source": [
    "# Access to Files\n",
    "for path in os.listdir():\n",
    "    print(path)"
   ]
  },
  {
   "cell_type": "code",
   "execution_count": 38,
   "metadata": {},
   "outputs": [
    {
     "name": "stdout",
     "output_type": "stream",
     "text": [
      "[INFO] root: C:\\Users\\pooya\\projects\\intro_to_python\n",
      "directories:\n",
      ".git\n",
      ".idea\n",
      ".ipynb_checkpoints\n",
      "intro_to_python[fa]\n",
      "files:\n",
      ".gitignore\n",
      "01_jupyter_notebook_introduction.ipynb\n",
      "02_variables_autocomplete.ipynb\n",
      "03_data_types_strings.ipynb\n",
      "04_data_types_lists.ipynb\n",
      "05_basic_operators.ipynb\n",
      "06_if_statement.ipynb\n",
      "07_loops.ipynb\n",
      "08_loops_if_else_exercises.ipynb\n",
      "09_data_types_tuple.ipynb\n",
      "10_data_types_sets.ipynb\n",
      "11_data_types_dictionaries.ipynb\n",
      "12_data_type_conversion.ipynb\n",
      "13_loops_part_02.ipynb\n",
      "14_dictionary_loops_exercises.ipynb\n",
      "15_function_basics.ipynb\n",
      "16_function_docstrings.ipynb\n",
      "17_functions_type_hints.ipynb\n",
      "17_try_except.ipynb\n",
      "18_functions_advanced.ipynb\n",
      "19_comprehension_single_if.ipynb\n",
      "20_file_handling.ipynb\n",
      "LICENSE\n",
      "my_file.txt\n",
      "my_file_2.txt\n",
      "README.md\n",
      "recursion.ipynb\n",
      "task.ipynb\n",
      "[INFO] root: C:\\Users\\pooya\\projects\\intro_to_python\\.git\n",
      "directories:\n",
      "hooks\n",
      "info\n",
      "logs\n",
      "objects\n",
      "refs\n",
      "files:\n",
      "COMMIT_EDITMSG\n",
      "config\n",
      "description\n",
      "FETCH_HEAD\n",
      "HEAD\n",
      "index\n",
      "ORIG_HEAD\n",
      "packed-refs\n",
      "[INFO] root: C:\\Users\\pooya\\projects\\intro_to_python\\.git\\hooks\n",
      "directories:\n",
      "files:\n",
      "applypatch-msg.sample\n",
      "commit-msg.sample\n",
      "fsmonitor-watchman.sample\n",
      "post-update.sample\n",
      "pre-applypatch.sample\n",
      "pre-commit.sample\n",
      "pre-merge-commit.sample\n",
      "pre-push.sample\n",
      "pre-rebase.sample\n",
      "pre-receive.sample\n",
      "prepare-commit-msg.sample\n",
      "push-to-checkout.sample\n",
      "update.sample\n",
      "[INFO] root: C:\\Users\\pooya\\projects\\intro_to_python\\.git\\info\n",
      "directories:\n",
      "files:\n",
      "exclude\n",
      "[INFO] root: C:\\Users\\pooya\\projects\\intro_to_python\\.git\\logs\n",
      "directories:\n",
      "refs\n",
      "files:\n",
      "HEAD\n",
      "[INFO] root: C:\\Users\\pooya\\projects\\intro_to_python\\.git\\logs\\refs\n",
      "directories:\n",
      "heads\n",
      "remotes\n",
      "files:\n",
      "stash\n",
      "[INFO] root: C:\\Users\\pooya\\projects\\intro_to_python\\.git\\logs\\refs\\heads\n",
      "directories:\n",
      "files:\n",
      "main\n",
      "[INFO] root: C:\\Users\\pooya\\projects\\intro_to_python\\.git\\logs\\refs\\remotes\n",
      "directories:\n",
      "origin\n",
      "files:\n",
      "[INFO] root: C:\\Users\\pooya\\projects\\intro_to_python\\.git\\logs\\refs\\remotes\\origin\n",
      "directories:\n",
      "files:\n",
      "HEAD\n",
      "main\n",
      "[INFO] root: C:\\Users\\pooya\\projects\\intro_to_python\\.git\\objects\n",
      "directories:\n",
      "02\n",
      "04\n",
      "0e\n",
      "19\n",
      "1d\n",
      "1f\n",
      "20\n",
      "21\n",
      "25\n",
      "27\n",
      "42\n",
      "44\n",
      "47\n",
      "48\n",
      "53\n",
      "55\n",
      "56\n",
      "58\n",
      "59\n",
      "5b\n",
      "5c\n",
      "5d\n",
      "5f\n",
      "60\n",
      "61\n",
      "65\n",
      "68\n",
      "6c\n",
      "75\n",
      "7b\n",
      "84\n",
      "8d\n",
      "9c\n",
      "a5\n",
      "b8\n",
      "b9\n",
      "bb\n",
      "c5\n",
      "c6\n",
      "ca\n",
      "cc\n",
      "cf\n",
      "d3\n",
      "dc\n",
      "dd\n",
      "df\n",
      "e4\n",
      "e7\n",
      "e9\n",
      "ef\n",
      "f0\n",
      "f2\n",
      "f3\n",
      "fd\n",
      "info\n",
      "pack\n",
      "files:\n",
      "[INFO] root: C:\\Users\\pooya\\projects\\intro_to_python\\.git\\objects\\02\n",
      "directories:\n",
      "files:\n",
      "7ad91ae5ffa0c1ebe5f166e1bd18e35b2ec327\n",
      "[INFO] root: C:\\Users\\pooya\\projects\\intro_to_python\\.git\\objects\\04\n",
      "directories:\n",
      "files:\n",
      "e7be4f63bbef299b147518d637e2c83195a254\n",
      "[INFO] root: C:\\Users\\pooya\\projects\\intro_to_python\\.git\\objects\\0e\n",
      "directories:\n",
      "files:\n",
      "1fa5a93037212e81c82cab6fe984548d86f4e6\n",
      "[INFO] root: C:\\Users\\pooya\\projects\\intro_to_python\\.git\\objects\\19\n",
      "directories:\n",
      "files:\n",
      "279a105adbddb8bb9d6a0168222a67d0f74c40\n",
      "[INFO] root: C:\\Users\\pooya\\projects\\intro_to_python\\.git\\objects\\1d\n",
      "directories:\n",
      "files:\n",
      "dd28dfad050f34c6be184587a012ee14bca009\n",
      "[INFO] root: C:\\Users\\pooya\\projects\\intro_to_python\\.git\\objects\\1f\n",
      "directories:\n",
      "files:\n",
      "775c65d58ee2c5d067d0e8eacd1eff26c55c55\n",
      "[INFO] root: C:\\Users\\pooya\\projects\\intro_to_python\\.git\\objects\\20\n",
      "directories:\n",
      "files:\n",
      "e56591d3401a12a97f139c45883806f1591530\n",
      "[INFO] root: C:\\Users\\pooya\\projects\\intro_to_python\\.git\\objects\\21\n",
      "directories:\n",
      "files:\n",
      "97d3fc73ecc77f80cb3b2dd60396490e0835b9\n",
      "[INFO] root: C:\\Users\\pooya\\projects\\intro_to_python\\.git\\objects\\25\n",
      "directories:\n",
      "files:\n",
      "ece294c5261d86e0e59151165ce19975309d37\n",
      "[INFO] root: C:\\Users\\pooya\\projects\\intro_to_python\\.git\\objects\\27\n",
      "directories:\n",
      "files:\n",
      "c460f118b7e13162a12bf1ad9ae0770bcbb3e4\n",
      "[INFO] root: C:\\Users\\pooya\\projects\\intro_to_python\\.git\\objects\\42\n",
      "directories:\n",
      "files:\n",
      "12c3d10a211f0def71f91729da561ef9e59688\n",
      "[INFO] root: C:\\Users\\pooya\\projects\\intro_to_python\\.git\\objects\\44\n",
      "directories:\n",
      "files:\n",
      "f0ca3cfd24bb378c574329e529628cac40a84f\n",
      "[INFO] root: C:\\Users\\pooya\\projects\\intro_to_python\\.git\\objects\\47\n",
      "directories:\n",
      "files:\n",
      "060cf154cddf4c1c8b9b866fe7d577d3a0eedf\n",
      "[INFO] root: C:\\Users\\pooya\\projects\\intro_to_python\\.git\\objects\\48\n",
      "directories:\n",
      "files:\n",
      "8a5df27f7b4c0ae0edc8bddd77cb5086b83086\n",
      "c1015767d7656ab61bb8b51193a0f343731095\n",
      "[INFO] root: C:\\Users\\pooya\\projects\\intro_to_python\\.git\\objects\\53\n",
      "directories:\n",
      "files:\n",
      "f6ba406193fe0679317383946b7c131dd3f025\n",
      "[INFO] root: C:\\Users\\pooya\\projects\\intro_to_python\\.git\\objects\\55\n",
      "directories:\n",
      "files:\n",
      "daec33c15cc69d51bed2ba5fd1f927b96dba67\n",
      "[INFO] root: C:\\Users\\pooya\\projects\\intro_to_python\\.git\\objects\\56\n",
      "directories:\n",
      "files:\n",
      "755ce0b176854b4b0837066231980c8125febb\n",
      "[INFO] root: C:\\Users\\pooya\\projects\\intro_to_python\\.git\\objects\\58\n",
      "directories:\n",
      "files:\n",
      "f9548824ad6a08c4c32a881661cafb9d5a2d40\n",
      "[INFO] root: C:\\Users\\pooya\\projects\\intro_to_python\\.git\\objects\\59\n",
      "directories:\n",
      "files:\n",
      "00d41474aca53caa188baca22dcbc1e22bf56a\n",
      "[INFO] root: C:\\Users\\pooya\\projects\\intro_to_python\\.git\\objects\\5b\n",
      "directories:\n",
      "files:\n",
      "dc7c8b5ef3d9cb3afcf945f61f18ee643f2011\n",
      "[INFO] root: C:\\Users\\pooya\\projects\\intro_to_python\\.git\\objects\\5c\n",
      "directories:\n",
      "files:\n",
      "5adebc9662e6ad90819e206f370ee721fda3fb\n",
      "[INFO] root: C:\\Users\\pooya\\projects\\intro_to_python\\.git\\objects\\5d\n",
      "directories:\n",
      "files:\n",
      "c833cb100a49ef95327b6d5b76208f5c5b4088\n",
      "[INFO] root: C:\\Users\\pooya\\projects\\intro_to_python\\.git\\objects\\5f\n",
      "directories:\n",
      "files:\n",
      "378dda7bdc700230cd364a5b2d0267eb6297d7\n",
      "[INFO] root: C:\\Users\\pooya\\projects\\intro_to_python\\.git\\objects\\60\n",
      "directories:\n",
      "files:\n",
      "6d8afbb725d8e3425e8f3089e57686f54ea350\n",
      "[INFO] root: C:\\Users\\pooya\\projects\\intro_to_python\\.git\\objects\\61\n",
      "directories:\n",
      "files:\n",
      "00bd404c2c421d36c9e0b6fc5e17555178a2bc\n",
      "2fb40d19058fea6a9f75579c2522b8f11a2445\n",
      "e760c2e2c4b19a053566961f933016c1988977\n",
      "[INFO] root: C:\\Users\\pooya\\projects\\intro_to_python\\.git\\objects\\65\n",
      "directories:\n",
      "files:\n",
      "49ff9763b4f58ffc19095b1f8248e7c9a71b4e\n",
      "c0ea2d6ff3d28b5d03cb21c269b3b0ac13c340\n",
      "[INFO] root: C:\\Users\\pooya\\projects\\intro_to_python\\.git\\objects\\68\n",
      "directories:\n",
      "files:\n",
      "e4ba049d48446ff4441d5f9f76ec63b6e17316\n",
      "[INFO] root: C:\\Users\\pooya\\projects\\intro_to_python\\.git\\objects\\6c\n",
      "directories:\n",
      "files:\n",
      "97e5219aff696fb6e6dac498457747de91037a\n",
      "[INFO] root: C:\\Users\\pooya\\projects\\intro_to_python\\.git\\objects\\75\n",
      "directories:\n",
      "files:\n",
      "47a7b6626ac51558019ed58e19cf65d2780550\n",
      "496b97616275dd13069a7d2bc5e9940b152020\n",
      "[INFO] root: C:\\Users\\pooya\\projects\\intro_to_python\\.git\\objects\\7b\n",
      "directories:\n",
      "files:\n",
      "e37c2d7ac19e31d68e31676f9349949b693247\n",
      "[INFO] root: C:\\Users\\pooya\\projects\\intro_to_python\\.git\\objects\\84\n",
      "directories:\n",
      "files:\n",
      "55e3f304dceed74612f19677213523a61b0b73\n",
      "6931cdd17403a7ef2be18120add93483da3e4a\n",
      "[INFO] root: C:\\Users\\pooya\\projects\\intro_to_python\\.git\\objects\\8d\n",
      "directories:\n",
      "files:\n",
      "95323b2823df7a72f37ef32d2decd6fc7de251\n",
      "dba7caf3810decd0c346c023ac440b74f6aa83\n",
      "[INFO] root: C:\\Users\\pooya\\projects\\intro_to_python\\.git\\objects\\9c\n",
      "directories:\n",
      "files:\n",
      "30cbca3c29a4664fbde265c4e2c77b1af74376\n",
      "[INFO] root: C:\\Users\\pooya\\projects\\intro_to_python\\.git\\objects\\a5\n",
      "directories:\n",
      "files:\n",
      "80d6b6a19ecee06cd5c4504304e0649ca27138\n",
      "[INFO] root: C:\\Users\\pooya\\projects\\intro_to_python\\.git\\objects\\b8\n",
      "directories:\n",
      "files:\n",
      "5510a89a36184104ad85b45476b20dac31ce8a\n",
      "[INFO] root: C:\\Users\\pooya\\projects\\intro_to_python\\.git\\objects\\b9\n",
      "directories:\n",
      "files:\n",
      "9b8927fce7d60cc0d82a625af998dffadc1431\n",
      "[INFO] root: C:\\Users\\pooya\\projects\\intro_to_python\\.git\\objects\\bb\n",
      "directories:\n",
      "files:\n",
      "3812ebae7af4d9b29cacd5b777559670487479\n",
      "7cca0dd4ba2bf73385a46515db5eb1430edb4c\n",
      "994dda984c377a0d9a2ac41f847eeaa1c2ed30\n",
      "[INFO] root: C:\\Users\\pooya\\projects\\intro_to_python\\.git\\objects\\c5\n",
      "directories:\n",
      "files:\n",
      "94a8a41f84c0942ceafc4925f57e98bb7e6a2f\n",
      "[INFO] root: C:\\Users\\pooya\\projects\\intro_to_python\\.git\\objects\\c6\n",
      "directories:\n",
      "files:\n",
      "47af462dc19761ae84985a647b4c18186c4289\n",
      "[INFO] root: C:\\Users\\pooya\\projects\\intro_to_python\\.git\\objects\\ca\n",
      "directories:\n",
      "files:\n",
      "9c5795e8cee4296b1b35fad6be1b82cc662bf0\n",
      "[INFO] root: C:\\Users\\pooya\\projects\\intro_to_python\\.git\\objects\\cc\n",
      "directories:\n",
      "files:\n",
      "c1379465dde5b5c007bd5918cb143d9eacfb36\n",
      "[INFO] root: C:\\Users\\pooya\\projects\\intro_to_python\\.git\\objects\\cf\n",
      "directories:\n",
      "files:\n",
      "5f9fe8da99c267742a3c9f49b1ba905337ecda\n",
      "[INFO] root: C:\\Users\\pooya\\projects\\intro_to_python\\.git\\objects\\d3\n",
      "directories:\n",
      "files:\n",
      "ae36de913d9979a33c84414e161fa9ce2f64ca\n",
      "[INFO] root: C:\\Users\\pooya\\projects\\intro_to_python\\.git\\objects\\dc\n",
      "directories:\n",
      "files:\n",
      "5d84e510c82763b57c3e46da15385c1c487d42\n",
      "[INFO] root: C:\\Users\\pooya\\projects\\intro_to_python\\.git\\objects\\dd\n",
      "directories:\n",
      "files:\n",
      "7bc3cf773226ed9b8812d3e6bfd8d623395c2d\n",
      "[INFO] root: C:\\Users\\pooya\\projects\\intro_to_python\\.git\\objects\\df\n",
      "directories:\n",
      "files:\n",
      "a6f75169071b505d0c513d6489b89d73170150\n",
      "[INFO] root: C:\\Users\\pooya\\projects\\intro_to_python\\.git\\objects\\e4\n",
      "directories:\n",
      "files:\n",
      "b159bd565277892c159605571ffe213edc9eb1\n",
      "[INFO] root: C:\\Users\\pooya\\projects\\intro_to_python\\.git\\objects\\e7\n",
      "directories:\n",
      "files:\n",
      "7f7cebdc2719665b75dff1f2ebe3c3f1c1b5df\n",
      "[INFO] root: C:\\Users\\pooya\\projects\\intro_to_python\\.git\\objects\\e9\n",
      "directories:\n",
      "files:\n",
      "6406f7399b9cfefb2b565299d3d22c51892333\n",
      "d82daf1f18ca3bca8eb47c7723d0a62dd3eba1\n",
      "[INFO] root: C:\\Users\\pooya\\projects\\intro_to_python\\.git\\objects\\ef\n",
      "directories:\n",
      "files:\n",
      "2c2eaab18981f3ede1d642d746175a2e1face1\n",
      "[INFO] root: C:\\Users\\pooya\\projects\\intro_to_python\\.git\\objects\\f0\n",
      "directories:\n",
      "files:\n",
      "df9d65726821b00d50e12b0365df208ce41b24\n",
      "[INFO] root: C:\\Users\\pooya\\projects\\intro_to_python\\.git\\objects\\f2\n",
      "directories:\n",
      "files:\n",
      "c89a996169572d7f4ae7194e335a1febf6cd21\n",
      "[INFO] root: C:\\Users\\pooya\\projects\\intro_to_python\\.git\\objects\\f3\n",
      "directories:\n",
      "files:\n",
      "3909c74746deda183300416169ba299797ac93\n",
      "[INFO] root: C:\\Users\\pooya\\projects\\intro_to_python\\.git\\objects\\fd\n",
      "directories:\n",
      "files:\n",
      "28124f18aa463549d3578d13af7e39fa8082b8\n",
      "[INFO] root: C:\\Users\\pooya\\projects\\intro_to_python\\.git\\objects\\info\n",
      "directories:\n",
      "files:\n",
      "[INFO] root: C:\\Users\\pooya\\projects\\intro_to_python\\.git\\objects\\pack\n",
      "directories:\n",
      "files:\n",
      "pack-e6f30b23a34d9c7b715b7d7c38cb15769a9432d0.idx\n",
      "pack-e6f30b23a34d9c7b715b7d7c38cb15769a9432d0.pack\n",
      "[INFO] root: C:\\Users\\pooya\\projects\\intro_to_python\\.git\\refs\n",
      "directories:\n",
      "heads\n",
      "remotes\n",
      "tags\n",
      "files:\n",
      "stash\n",
      "[INFO] root: C:\\Users\\pooya\\projects\\intro_to_python\\.git\\refs\\heads\n",
      "directories:\n",
      "files:\n",
      "main\n",
      "[INFO] root: C:\\Users\\pooya\\projects\\intro_to_python\\.git\\refs\\remotes\n",
      "directories:\n",
      "origin\n",
      "files:\n",
      "[INFO] root: C:\\Users\\pooya\\projects\\intro_to_python\\.git\\refs\\remotes\\origin\n",
      "directories:\n",
      "files:\n",
      "HEAD\n",
      "main\n",
      "[INFO] root: C:\\Users\\pooya\\projects\\intro_to_python\\.git\\refs\\tags\n",
      "directories:\n",
      "files:\n",
      "[INFO] root: C:\\Users\\pooya\\projects\\intro_to_python\\.idea\n",
      "directories:\n",
      "inspectionProfiles\n",
      "files:\n",
      ".gitignore\n",
      "intro_to_python.iml\n",
      "misc.xml\n",
      "modules.xml\n",
      "vcs.xml\n",
      "workspace.xml\n",
      "[INFO] root: C:\\Users\\pooya\\projects\\intro_to_python\\.idea\\inspectionProfiles\n",
      "directories:\n",
      "files:\n",
      "profiles_settings.xml\n",
      "[INFO] root: C:\\Users\\pooya\\projects\\intro_to_python\\.ipynb_checkpoints\n",
      "directories:\n",
      "files:\n",
      "15_function_basics-checkpoint.ipynb\n",
      "16_function_docstrings-checkpoint.ipynb\n",
      "17_functions_type_hints-checkpoint.ipynb\n",
      "18_functions_advanced-checkpoint.ipynb\n",
      "19_comprehension_single_if-checkpoint.ipynb\n",
      "20_file_handling-checkpoint.ipynb\n",
      "[INFO] root: C:\\Users\\pooya\\projects\\intro_to_python\\intro_to_python[fa]\n",
      "directories:\n",
      "Session_01\n",
      "Session_02\n",
      "Session_03\n",
      "Session_04\n",
      "Session_05\n",
      "Session_06\n",
      "files:\n",
      "README.md\n",
      "[INFO] root: C:\\Users\\pooya\\projects\\intro_to_python\\intro_to_python[fa]\\Session_01\n",
      "directories:\n",
      "files:\n",
      "00_Jupyter_notebook_introduction.ipynb\n",
      "01_data_types_part_01.ipynb\n",
      "02_operations.ipynb\n",
      "03_if_statement.ipynb\n",
      "04_loops_part_01.ipynb\n",
      "exercises.ipynb\n",
      "[INFO] root: C:\\Users\\pooya\\projects\\intro_to_python\\intro_to_python[fa]\\Session_02\n",
      "directories:\n",
      "files:\n",
      "05_data_types_part_2.ipynb\n",
      "06_functions.ipynb\n",
      "07_import_install.ipynb\n",
      "08_loops_part_02.ipynb\n",
      "09_comprehension_single_if.ipynb\n",
      "10_file_handeling.ipynb\n",
      "challenge.ipynb\n",
      "file.txt\n",
      "MyFile.txt\n",
      "MyFile2.txt\n",
      "project_01.ipynb\n",
      "words.txt\n",
      "[INFO] root: C:\\Users\\pooya\\projects\\intro_to_python\\intro_to_python[fa]\\Session_03\n",
      "directories:\n",
      "files:\n",
      "challenge.ipynb\n",
      "functions.ipynb\n",
      "lambda.ipynb\n",
      "mutables.ipynb\n",
      "try_except.ipynb\n",
      "[INFO] root: C:\\Users\\pooya\\projects\\intro_to_python\\intro_to_python[fa]\\Session_04\n",
      "directories:\n",
      "files:\n",
      "01_arrays.ipynb\n",
      "02_indexing.ipynb\n",
      "03_dates.ipynb\n",
      "04_math.ipynb\n",
      "example.npy\n",
      "exercises.ipynb\n",
      "functions.ipynb\n",
      "mutables.ipynb\n",
      "[INFO] root: C:\\Users\\pooya\\projects\\intro_to_python\\intro_to_python[fa]\\Session_05\n",
      "directories:\n",
      "files:\n",
      "encapsulation.py\n",
      "exercise.txt\n",
      "inheretance.py\n",
      "parrot.py\n",
      "parrot_method.py\n",
      "polymorphism.py\n",
      "[INFO] root: C:\\Users\\pooya\\projects\\intro_to_python\\intro_to_python[fa]\\Session_06\n",
      "directories:\n",
      "files:\n",
      "01_heights_weights_genders.csv\n",
      "01_series.ipynb\n",
      "02_dataframes_01.ipynb\n",
      "03_dataframes_02.ipynb\n",
      "04_aggregation.ipynb\n",
      "digits.png\n",
      "hist.png\n",
      "iris.png\n",
      "matpplotlib.ipynb\n",
      "person_employee.py\n",
      "tips.csv\n"
     ]
    }
   ],
   "source": [
    "for root, dirs, files in os.walk(r\"C:\\Users\\pooya\\projects\\intro_to_python\"):\n",
    "    print(f\"[INFO] root: {root}\\ndirectories:\")\n",
    "    for dir_ in dirs:\n",
    "        print(dir_)\n",
    "    print(f\"files:\")\n",
    "    for file in files:\n",
    "        print(file)"
   ]
  },
  {
   "cell_type": "markdown",
   "metadata": {},
   "source": [
    "<a id=\"Create_directoryr\"></a>\n",
    "#### 🗄️ Creat directory\n"
   ]
  },
  {
   "cell_type": "code",
   "execution_count": 39,
   "metadata": {},
   "outputs": [],
   "source": [
    "os.mkdir(\"zahra\")"
   ]
  },
  {
   "cell_type": "code",
   "execution_count": 40,
   "metadata": {
    "scrolled": true
   },
   "outputs": [
    {
     "ename": "FileNotFoundError",
     "evalue": "[WinError 3] The system cannot find the path specified: 'pooya\\\\mohamadi'",
     "output_type": "error",
     "traceback": [
      "\u001b[1;31m---------------------------------------------------------------------------\u001b[0m",
      "\u001b[1;31mFileNotFoundError\u001b[0m                         Traceback (most recent call last)",
      "Cell \u001b[1;32mIn [40], line 2\u001b[0m\n\u001b[0;32m      1\u001b[0m \u001b[38;5;66;03m# We cannot define a file inside a directory that we have not created!\u001b[39;00m\n\u001b[1;32m----> 2\u001b[0m \u001b[43mos\u001b[49m\u001b[38;5;241;43m.\u001b[39;49m\u001b[43mmkdir\u001b[49m\u001b[43m(\u001b[49m\u001b[38;5;124;43m\"\u001b[39;49m\u001b[38;5;124;43mpooya\u001b[39;49m\u001b[38;5;124;43m\\\u001b[39;49m\u001b[38;5;124;43mmohamadi\u001b[39;49m\u001b[38;5;124;43m\"\u001b[39;49m\u001b[43m)\u001b[49m\n",
      "\u001b[1;31mFileNotFoundError\u001b[0m: [WinError 3] The system cannot find the path specified: 'pooya\\\\mohamadi'"
     ]
    }
   ],
   "source": [
    "# We cannot define a file inside a directory that we have not created!\n",
    "os.mkdir(\"pooya\\mohamadi\")"
   ]
  },
  {
   "cell_type": "code",
   "execution_count": 41,
   "metadata": {},
   "outputs": [],
   "source": [
    "os.makedirs(\"pooya\\mohamadi\")"
   ]
  },
  {
   "cell_type": "markdown",
   "metadata": {},
   "source": [
    "<a id=\"Delete_File\"></a>\n",
    "#### 🚫Delete  Files"
   ]
  },
  {
   "cell_type": "code",
   "execution_count": 63,
   "metadata": {},
   "outputs": [],
   "source": [
    "# To delete a file, you must import the OS module and run its remove() function: \n",
    "import os\n",
    "\n",
    "with open(\"my_file_3.txt\", mode=\"w\") as f:\n",
    "    f.write(\"hellow\")\n",
    "\n",
    "os.remove(\"my_file_3.txt\")"
   ]
  },
  {
   "cell_type": "code",
   "execution_count": 64,
   "metadata": {},
   "outputs": [
    {
     "ename": "FileNotFoundError",
     "evalue": "[WinError 2] The system cannot find the file specified: 'my_file_3.txt'",
     "output_type": "error",
     "traceback": [
      "\u001b[1;31m---------------------------------------------------------------------------\u001b[0m",
      "\u001b[1;31mFileNotFoundError\u001b[0m                         Traceback (most recent call last)",
      "Cell \u001b[1;32mIn [64], line 1\u001b[0m\n\u001b[1;32m----> 1\u001b[0m \u001b[43mos\u001b[49m\u001b[38;5;241;43m.\u001b[39;49m\u001b[43mremove\u001b[49m\u001b[43m(\u001b[49m\u001b[38;5;124;43m\"\u001b[39;49m\u001b[38;5;124;43mmy_file_3.txt\u001b[39;49m\u001b[38;5;124;43m\"\u001b[39;49m\u001b[43m)\u001b[49m\n",
      "\u001b[1;31mFileNotFoundError\u001b[0m: [WinError 2] The system cannot find the file specified: 'my_file_3.txt'"
     ]
    }
   ],
   "source": [
    "os.remove(\"my_file_3.txt\")"
   ]
  },
  {
   "cell_type": "code",
   "execution_count": 62,
   "metadata": {},
   "outputs": [
    {
     "name": "stdout",
     "output_type": "stream",
     "text": [
      "The file does not exist\n"
     ]
    }
   ],
   "source": [
    "# Check if File exist:\n",
    "import os\n",
    "if os.path.exists(\"demofile.txt\"):\n",
    "    os.remove(\"demofile.txt\")\n",
    "else:\n",
    "    print(\"The file does not exist\")"
   ]
  },
  {
   "cell_type": "markdown",
   "metadata": {},
   "source": [
    "<a id=\"Delete_Folder\"></a>\n",
    "#### 🔖Delete Directory"
   ]
  },
  {
   "cell_type": "code",
   "execution_count": 65,
   "metadata": {},
   "outputs": [],
   "source": [
    "# To delete an entire directory, use the os.rmdir() method:\n",
    "import os\n",
    "os.rmdir(\"zahra\")"
   ]
  },
  {
   "cell_type": "code",
   "execution_count": 66,
   "metadata": {},
   "outputs": [],
   "source": [
    "# Remove whithout this directory\n",
    "os.rmdir(\"pooya\\mohamadi\")"
   ]
  },
  {
   "cell_type": "code",
   "execution_count": 67,
   "metadata": {},
   "outputs": [
    {
     "ename": "OSError",
     "evalue": "[WinError 145] The directory is not empty: 'pooya'",
     "output_type": "error",
     "traceback": [
      "\u001b[1;31m---------------------------------------------------------------------------\u001b[0m",
      "\u001b[1;31mOSError\u001b[0m                                   Traceback (most recent call last)",
      "Cell \u001b[1;32mIn [67], line 2\u001b[0m\n\u001b[0;32m      1\u001b[0m \u001b[38;5;66;03m# Remove whithout this directory\u001b[39;00m\n\u001b[1;32m----> 2\u001b[0m \u001b[43mos\u001b[49m\u001b[38;5;241;43m.\u001b[39;49m\u001b[43mrmdir\u001b[49m\u001b[43m(\u001b[49m\u001b[38;5;124;43m\"\u001b[39;49m\u001b[38;5;124;43mpooya\u001b[39;49m\u001b[38;5;124;43m\"\u001b[39;49m\u001b[43m)\u001b[49m\n",
      "\u001b[1;31mOSError\u001b[0m: [WinError 145] The directory is not empty: 'pooya'"
     ]
    }
   ],
   "source": [
    "# Remove nested directories\n",
    "os.rmdir(\"pooya\")"
   ]
  },
  {
   "cell_type": "markdown",
   "metadata": {},
   "source": [
    "<a id=\"Split_Directory\"></a>\n",
    "#### 🔖Split Directory"
   ]
  },
  {
   "cell_type": "code",
   "execution_count": 68,
   "metadata": {},
   "outputs": [
    {
     "name": "stdout",
     "output_type": "stream",
     "text": [
      "root: C:\\Users\\pooya\\projects, last_part: intro_to_python\n"
     ]
    }
   ],
   "source": [
    "directory_path = r\"C:\\Users\\pooya\\projects\\intro_to_python\"\n",
    "root, last_part = os.path.split(directory_path)\n",
    "print(f\"root: {root}, last_part: {last_part}\")"
   ]
  },
  {
   "cell_type": "markdown",
   "metadata": {},
   "source": [
    "<a id=\"Split_Extension\"></a>\n",
    "#### 🔖Split Extension"
   ]
  },
  {
   "cell_type": "code",
   "execution_count": 69,
   "metadata": {},
   "outputs": [
    {
     "name": "stdout",
     "output_type": "stream",
     "text": [
      "root_file_name: C:\\Users\\pooya\\projects\\intro_to_python, ext: .ipynp\n"
     ]
    }
   ],
   "source": [
    "file = r\"C:\\Users\\pooya\\projects\\intro_to_python.ipynp\"\n",
    "root_file_name, ext = os.path.splitext(file)\n",
    "print(f\"root_file_name: {root_file_name}, ext: {ext}\")"
   ]
  },
  {
   "cell_type": "markdown",
   "metadata": {},
   "source": [
    "<a id=\"Shutil\"></a>\n",
    "### 💡Shutil"
   ]
  },
  {
   "cell_type": "code",
   "execution_count": 84,
   "metadata": {
    "scrolled": true
   },
   "outputs": [
    {
     "name": "stdout",
     "output_type": "stream",
     "text": [
      "tmp_1\\test.txt\n"
     ]
    }
   ],
   "source": [
    "# remove a directory with files\n",
    "import shutil\n",
    "os.makedirs(\"tmp_1\", exist_ok=True)\n",
    "\n",
    "text_path = os.path.join(\"tmp_1\", \"test.txt\")\n",
    "print(text_path)\n",
    "with open(text_path, mode=\"w\") as file: # create a file\n",
    "    pass"
   ]
  },
  {
   "cell_type": "code",
   "execution_count": 80,
   "metadata": {},
   "outputs": [
    {
     "ename": "OSError",
     "evalue": "[WinError 145] The directory is not empty: 'tmp'",
     "output_type": "error",
     "traceback": [
      "\u001b[1;31m---------------------------------------------------------------------------\u001b[0m",
      "\u001b[1;31mOSError\u001b[0m                                   Traceback (most recent call last)",
      "Cell \u001b[1;32mIn [80], line 1\u001b[0m\n\u001b[1;32m----> 1\u001b[0m \u001b[43mos\u001b[49m\u001b[38;5;241;43m.\u001b[39;49m\u001b[43mrmdir\u001b[49m\u001b[43m(\u001b[49m\u001b[38;5;124;43m\"\u001b[39;49m\u001b[38;5;124;43mtmp\u001b[39;49m\u001b[38;5;124;43m\"\u001b[39;49m\u001b[43m)\u001b[49m\n",
      "\u001b[1;31mOSError\u001b[0m: [WinError 145] The directory is not empty: 'tmp'"
     ]
    }
   ],
   "source": [
    "os.rmdir(\"tmp\")"
   ]
  },
  {
   "cell_type": "code",
   "execution_count": 82,
   "metadata": {},
   "outputs": [],
   "source": [
    "shutil.rmtree(\"tmp_1/\") "
   ]
  },
  {
   "cell_type": "code",
   "execution_count": 86,
   "metadata": {},
   "outputs": [
    {
     "data": {
      "text/plain": [
       "'tmp/my_file_3.txt'"
      ]
     },
     "execution_count": 86,
     "metadata": {},
     "output_type": "execute_result"
    }
   ],
   "source": [
    "# move a file\n",
    "os.makedirs(\"tmp\", exist_ok=True)\n",
    "shutil.move(\"my_file_3.txt\", \"tmp/my_file_3.txt\")"
   ]
  },
  {
   "cell_type": "code",
   "execution_count": 87,
   "metadata": {},
   "outputs": [
    {
     "data": {
      "text/plain": [
       "'tmp_1/my_file.txt'"
      ]
     },
     "execution_count": 87,
     "metadata": {},
     "output_type": "execute_result"
    }
   ],
   "source": [
    "shutil.move(\"my_file_3.txt\", \"tmp_1/my_file.txt\")"
   ]
  },
  {
   "cell_type": "code",
   "execution_count": 88,
   "metadata": {},
   "outputs": [
    {
     "data": {
      "text/plain": [
       "'tmp-2/my_file.txt'"
      ]
     },
     "execution_count": 88,
     "metadata": {},
     "output_type": "execute_result"
    }
   ],
   "source": [
    "# copy a file\n",
    "os.makedirs(\"tmp-2\", exist_ok=True)\n",
    "shutil.copy(\"tmp/my_file.txt\", \"tmp-2/my_file.txt\")"
   ]
  },
  {
   "cell_type": "markdown",
   "metadata": {},
   "source": [
    "### Task: \n",
    "    Step 1: Create a directory which contains text files with the same name as the ipynb files in current directory!\n",
    "    Step 2: Move the text files to directories as their own names\n",
    "    Step 3: Remove them all!\n"
   ]
  },
  {
   "cell_type": "code",
   "execution_count": 91,
   "metadata": {},
   "outputs": [
    {
     "name": "stdout",
     "output_type": "stream",
     "text": [
      "C:\\Users\\pooya\\projects\\intro_to_python\\temporary\n"
     ]
    }
   ],
   "source": [
    "tmp_name = \"temporary\"\n",
    "directory = r\"C:\\Users\\pooya\\projects\\intro_to_python\"\n",
    "\n",
    "tmp_dir = os.path.join(directory, tmp_name)\n",
    "print(tmp_dir)\n",
    "os.makedirs(tmp_dir, exist_ok=True)"
   ]
  },
  {
   "cell_type": "code",
   "execution_count": 92,
   "metadata": {},
   "outputs": [
    {
     "name": "stdout",
     "output_type": "stream",
     "text": [
      "[INFO] file_name: .git\n",
      "[INFO] file_name: .gitignore\n",
      "[INFO] file_name: .idea\n",
      "[INFO] file_name: .ipynb_checkpoints\n",
      "[INFO] file_name: 01_jupyter_notebook_introduction.ipynb\n",
      "[INFO] file_name: 02_variables_autocomplete.ipynb\n",
      "[INFO] file_name: 03_data_types_strings.ipynb\n",
      "[INFO] file_name: 04_data_types_lists.ipynb\n",
      "[INFO] file_name: 05_basic_operators.ipynb\n",
      "[INFO] file_name: 06_if_statement.ipynb\n",
      "[INFO] file_name: 07_loops.ipynb\n",
      "[INFO] file_name: 08_loops_if_else_exercises.ipynb\n",
      "[INFO] file_name: 09_data_types_tuple.ipynb\n",
      "[INFO] file_name: 10_data_types_sets.ipynb\n",
      "[INFO] file_name: 11_data_types_dictionaries.ipynb\n",
      "[INFO] file_name: 12_data_type_conversion.ipynb\n",
      "[INFO] file_name: 13_loops_part_02.ipynb\n",
      "[INFO] file_name: 14_dictionary_loops_exercises.ipynb\n",
      "[INFO] file_name: 15_function_basics.ipynb\n",
      "[INFO] file_name: 16_function_docstrings.ipynb\n",
      "[INFO] file_name: 17_functions_type_hints.ipynb\n",
      "[INFO] file_name: 17_try_except.ipynb\n",
      "[INFO] file_name: 18_functions_advanced.ipynb\n",
      "[INFO] file_name: 19_comprehension_single_if.ipynb\n",
      "[INFO] file_name: 20_file_handling.ipynb\n",
      "[INFO] file_name: intro_to_python[fa]\n",
      "[INFO] file_name: LICENSE\n",
      "[INFO] file_name: my_file.txt\n",
      "[INFO] file_name: my_file_2.txt\n",
      "[INFO] file_name: pooya\n",
      "[INFO] file_name: README.md\n",
      "[INFO] file_name: recursion.ipynb\n",
      "[INFO] file_name: task.ipynb\n",
      "[INFO] file_name: temporary\n",
      "[INFO] file_name: tmp\n",
      "[INFO] file_name: tmp-2\n",
      "[INFO] file_name: tmp_1\n"
     ]
    }
   ],
   "source": [
    "# Step 1!\n",
    "for file_name in os.listdir(directory):\n",
    "    print(f\"[INFO] file_name: {file_name}\")\n",
    "    if file_name.endswith(\".ipynb\"):\n",
    "        name, ext = os.path.splitext(file_name)\n",
    "        text_file_path = os.path.join(tmp_dir, name + \".txt\") \n",
    "        with open(text_file_path, mode=\"w\") as file:\n",
    "            file.write(name)"
   ]
  },
  {
   "cell_type": "code",
   "execution_count": 96,
   "metadata": {},
   "outputs": [
    {
     "name": "stdout",
     "output_type": "stream",
     "text": [
      "[INFO] file_name: 01_jupyter_notebook_introduction.txt\n",
      "[INFO]  dir_name: C:\\Users\\pooya\\projects\\intro_to_python\\temporary\\01_jupyter_notebook_introduction\n",
      "[INFO] file_name: 02_variables_autocomplete.txt\n",
      "[INFO]  dir_name: C:\\Users\\pooya\\projects\\intro_to_python\\temporary\\02_variables_autocomplete\n",
      "[INFO] file_name: 03_data_types_strings.txt\n",
      "[INFO]  dir_name: C:\\Users\\pooya\\projects\\intro_to_python\\temporary\\03_data_types_strings\n",
      "[INFO] file_name: 04_data_types_lists.txt\n",
      "[INFO]  dir_name: C:\\Users\\pooya\\projects\\intro_to_python\\temporary\\04_data_types_lists\n",
      "[INFO] file_name: 05_basic_operators.txt\n",
      "[INFO]  dir_name: C:\\Users\\pooya\\projects\\intro_to_python\\temporary\\05_basic_operators\n",
      "[INFO] file_name: 06_if_statement.txt\n",
      "[INFO]  dir_name: C:\\Users\\pooya\\projects\\intro_to_python\\temporary\\06_if_statement\n",
      "[INFO] file_name: 07_loops.txt\n",
      "[INFO]  dir_name: C:\\Users\\pooya\\projects\\intro_to_python\\temporary\\07_loops\n",
      "[INFO] file_name: 08_loops_if_else_exercises.txt\n",
      "[INFO]  dir_name: C:\\Users\\pooya\\projects\\intro_to_python\\temporary\\08_loops_if_else_exercises\n",
      "[INFO] file_name: 09_data_types_tuple.txt\n",
      "[INFO]  dir_name: C:\\Users\\pooya\\projects\\intro_to_python\\temporary\\09_data_types_tuple\n",
      "[INFO] file_name: 10_data_types_sets.txt\n",
      "[INFO]  dir_name: C:\\Users\\pooya\\projects\\intro_to_python\\temporary\\10_data_types_sets\n",
      "[INFO] file_name: 11_data_types_dictionaries.txt\n",
      "[INFO]  dir_name: C:\\Users\\pooya\\projects\\intro_to_python\\temporary\\11_data_types_dictionaries\n",
      "[INFO] file_name: 12_data_type_conversion.txt\n",
      "[INFO]  dir_name: C:\\Users\\pooya\\projects\\intro_to_python\\temporary\\12_data_type_conversion\n",
      "[INFO] file_name: 13_loops_part_02.txt\n",
      "[INFO]  dir_name: C:\\Users\\pooya\\projects\\intro_to_python\\temporary\\13_loops_part_02\n",
      "[INFO] file_name: 14_dictionary_loops_exercises.txt\n",
      "[INFO]  dir_name: C:\\Users\\pooya\\projects\\intro_to_python\\temporary\\14_dictionary_loops_exercises\n",
      "[INFO] file_name: 15_function_basics.txt\n",
      "[INFO]  dir_name: C:\\Users\\pooya\\projects\\intro_to_python\\temporary\\15_function_basics\n",
      "[INFO] file_name: 16_function_docstrings.txt\n",
      "[INFO]  dir_name: C:\\Users\\pooya\\projects\\intro_to_python\\temporary\\16_function_docstrings\n",
      "[INFO] file_name: 17_functions_type_hints.txt\n",
      "[INFO]  dir_name: C:\\Users\\pooya\\projects\\intro_to_python\\temporary\\17_functions_type_hints\n",
      "[INFO] file_name: 17_try_except.txt\n",
      "[INFO]  dir_name: C:\\Users\\pooya\\projects\\intro_to_python\\temporary\\17_try_except\n",
      "[INFO] file_name: 18_functions_advanced.txt\n",
      "[INFO]  dir_name: C:\\Users\\pooya\\projects\\intro_to_python\\temporary\\18_functions_advanced\n",
      "[INFO] file_name: 19_comprehension_single_if.txt\n",
      "[INFO]  dir_name: C:\\Users\\pooya\\projects\\intro_to_python\\temporary\\19_comprehension_single_if\n",
      "[INFO] file_name: 20_file_handling.txt\n",
      "[INFO]  dir_name: C:\\Users\\pooya\\projects\\intro_to_python\\temporary\\20_file_handling\n",
      "[INFO] file_name: recursion.txt\n",
      "[INFO]  dir_name: C:\\Users\\pooya\\projects\\intro_to_python\\temporary\\recursion\n",
      "[INFO] file_name: task.txt\n",
      "[INFO]  dir_name: C:\\Users\\pooya\\projects\\intro_to_python\\temporary\\task\n"
     ]
    }
   ],
   "source": [
    "# Step 2!\n",
    "for file_name in os.listdir(tmp_dir):\n",
    "    print(f\"[INFO] file_name: {file_name}\")\n",
    "    if file_name.endswith(\".txt\"):\n",
    "        name = file_name[:-4]\n",
    "        inner_dir = os.path.join(tmp_dir, name)\n",
    "        print(f\"[INFO]  dir_name: {inner_dir}\")\n",
    "        os.makedirs(inner_dir, exist_ok=True)\n",
    "        shutil.move(os.path.join(tmp_dir, file_name), os.path.join(inner_dir, file_name))"
   ]
  },
  {
   "cell_type": "code",
   "execution_count": 97,
   "metadata": {},
   "outputs": [],
   "source": [
    "# Step 3!\n",
    "shutil.rmtree(tmp_dir)"
   ]
  },
  {
   "cell_type": "markdown",
   "metadata": {},
   "source": [
    "*_:-)_*"
   ]
  }
 ],
 "metadata": {
  "kernelspec": {
   "display_name": "Python 3 (ipykernel)",
   "language": "python",
   "name": "python3"
  },
  "language_info": {
   "codemirror_mode": {
    "name": "ipython",
    "version": 3
   },
   "file_extension": ".py",
   "mimetype": "text/x-python",
   "name": "python",
   "nbconvert_exporter": "python",
   "pygments_lexer": "ipython3",
   "version": "3.10.6"
  }
 },
 "nbformat": 4,
 "nbformat_minor": 2
}
