{
 "cells": [
  {
   "cell_type": "markdown",
   "id": "57950fa0",
   "metadata": {},
   "source": [
    "# Functions-Docstrings\n",
    "    1. Docstrings\n",
    "    2. Tests\n",
    "    3. Test Failures!"
   ]
  },
  {
   "cell_type": "markdown",
   "id": "720af867",
   "metadata": {},
   "source": [
    "## Docstring\n",
    "    a function's docstring provides neccessary information about it, so users would have a clear and concise understanding of how the function works, what the input parameters should be, what would be outputs, and sometimes they may contain tests to further illusterate the functionalities implemented in the function."
   ]
  },
  {
   "cell_type": "code",
   "execution_count": 1,
   "id": "cc738c7d",
   "metadata": {},
   "outputs": [],
   "source": [
    "# a simple function with two parameters\n",
    "def get_power(num, power):\n",
    "    \"\"\"\n",
    "    This function simulates power operation!\n",
    "    returns num to the power of power variable\n",
    "    :param num: the base number\n",
    "    :param power: the base number will be raised to the power of this input/power variable.  \n",
    "    :return: return the num to the power of power variable.\n",
    "    \"\"\"\n",
    "    return num ** power"
   ]
  },
  {
   "cell_type": "code",
   "execution_count": 2,
   "id": "2fee5871",
   "metadata": {},
   "outputs": [
    {
     "name": "stdout",
     "output_type": "stream",
     "text": [
      "Help on function get_power in module __main__:\n",
      "\n",
      "get_power(num, power)\n",
      "    This function simulates power operation!\n",
      "    returns num to the power of power variable\n",
      "    :param num: the base number\n",
      "    :param power: the base number will be raised to the power of this input/power variable.  \n",
      "    :return: return the num to the power of power variable.\n",
      "\n"
     ]
    }
   ],
   "source": [
    "# get help -> recommended!\n",
    "help(get_power)"
   ]
  },
  {
   "cell_type": "code",
   "execution_count": 3,
   "id": "e0637ba1",
   "metadata": {},
   "outputs": [
    {
     "name": "stdout",
     "output_type": "stream",
     "text": [
      "Help on built-in function print in module builtins:\n",
      "\n",
      "print(...)\n",
      "    print(value, ..., sep=' ', end='\\n', file=sys.stdout, flush=False)\n",
      "    \n",
      "    Prints the values to a stream, or to sys.stdout by default.\n",
      "    Optional keyword arguments:\n",
      "    file:  a file-like object (stream); defaults to the current sys.stdout.\n",
      "    sep:   string inserted between values, default a space.\n",
      "    end:   string appended after the last value, default a newline.\n",
      "    flush: whether to forcibly flush the stream.\n",
      "\n"
     ]
    }
   ],
   "source": [
    "help(print)"
   ]
  },
  {
   "cell_type": "code",
   "execution_count": 4,
   "id": "b1589a10",
   "metadata": {},
   "outputs": [],
   "source": [
    "# Shows docstring\n",
    "?get_power"
   ]
  },
  {
   "cell_type": "code",
   "execution_count": 5,
   "id": "fe9dc9ec",
   "metadata": {},
   "outputs": [],
   "source": [
    "# shows functionality\n",
    "??get_power"
   ]
  },
  {
   "cell_type": "code",
   "execution_count": 6,
   "id": "e795d4d4",
   "metadata": {},
   "outputs": [
    {
     "name": "stdout",
     "output_type": "stream",
     "text": [
      "\n",
      "    This function simulates power operation!\n",
      "    returns num to the power of power variable\n",
      "    :param num: the base number\n",
      "    :param power: the base number will be raised to the power of this input/power variable.  \n",
      "    :return: return the num to the power of power variable.\n",
      "    \n"
     ]
    }
   ],
   "source": [
    "# get help -> using special methods -> not recommended\n",
    "print(get_power.__doc__)"
   ]
  },
  {
   "cell_type": "markdown",
   "id": "84aa9be2",
   "metadata": {},
   "source": [
    "## Docstring with tests"
   ]
  },
  {
   "cell_type": "code",
   "execution_count": 7,
   "id": "2f279943",
   "metadata": {},
   "outputs": [],
   "source": [
    "def get_power(num, power):\n",
    "    \"\"\" (float, int) -> float\n",
    "    Return the exponentioal power of the num\n",
    "    \n",
    "    >>> get_power(1, 10)\n",
    "    1\n",
    "    >>> get_power(2.0, 3)\n",
    "    8.0\n",
    "    \"\"\"\n",
    "    num = float(num)\n",
    "    return num ** power"
   ]
  },
  {
   "cell_type": "code",
   "execution_count": 8,
   "id": "859c8269",
   "metadata": {},
   "outputs": [
    {
     "name": "stdout",
     "output_type": "stream",
     "text": [
      "[INFO] starting the test!\n",
      "Trying:\n",
      "    get_power(1, 10)\n",
      "Expecting:\n",
      "    1\n",
      "**********************************************************************\n",
      "File \"__main__\", line 5, in __main__.get_power\n",
      "Failed example:\n",
      "    get_power(1, 10)\n",
      "Expected:\n",
      "    1\n",
      "Got:\n",
      "    1.0\n",
      "Trying:\n",
      "    get_power(2.0, 3)\n",
      "Expecting:\n",
      "    8.0\n",
      "ok\n",
      "1 items had no tests:\n",
      "    __main__\n",
      "**********************************************************************\n",
      "1 items had failures:\n",
      "   1 of   2 in __main__.get_power\n",
      "2 tests in 2 items.\n",
      "1 passed and 1 failed.\n",
      "***Test Failed*** 1 failures.\n"
     ]
    },
    {
     "data": {
      "text/plain": [
       "TestResults(failed=1, attempted=2)"
      ]
     },
     "execution_count": 8,
     "metadata": {},
     "output_type": "execute_result"
    }
   ],
   "source": [
    "# To validate tests in docstrings\n",
    "import doctest\n",
    "print(\"[INFO] starting the test!\")\n",
    "doctest.testmod(verbose=True)"
   ]
  },
  {
   "cell_type": "markdown",
   "id": "a1614ce0",
   "metadata": {},
   "source": [
    "    One of the tests did not pass and failed while the other one did!\n",
    "    The test expected to get 1, but the code returned 1.0; therefore, it failed\n",
    "    Let's fix it!"
   ]
  },
  {
   "cell_type": "code",
   "execution_count": 9,
   "id": "fe2f2432",
   "metadata": {},
   "outputs": [
    {
     "name": "stdout",
     "output_type": "stream",
     "text": [
      "[INFO] starting the test!\n",
      "Trying:\n",
      "    get_power(1, 10)\n",
      "Expecting:\n",
      "    1.0\n",
      "ok\n",
      "Trying:\n",
      "    get_power(2.0, 3)\n",
      "Expecting:\n",
      "    8.0\n",
      "ok\n",
      "1 items had no tests:\n",
      "    __main__\n",
      "1 items passed all tests:\n",
      "   2 tests in __main__.get_power\n",
      "2 tests in 2 items.\n",
      "2 passed and 0 failed.\n",
      "Test passed.\n"
     ]
    },
    {
     "data": {
      "text/plain": [
       "TestResults(failed=0, attempted=2)"
      ]
     },
     "execution_count": 9,
     "metadata": {},
     "output_type": "execute_result"
    }
   ],
   "source": [
    "def get_power(num, power):\n",
    "    \"\"\" (float, int) -> float\n",
    "    Return num to the power of power\n",
    "    \n",
    "    >>> get_power(1, 10)\n",
    "    1.0\n",
    "    >>> get_power(2.0, 3)\n",
    "    8.0\n",
    "    \"\"\"\n",
    "    num = float(num)\n",
    "    return num ** power\n",
    "print(\"[INFO] starting the test!\")\n",
    "doctest.testmod(verbose=True)"
   ]
  },
  {
   "cell_type": "code",
   "execution_count": 10,
   "id": "72922dd9",
   "metadata": {},
   "outputs": [
    {
     "name": "stdout",
     "output_type": "stream",
     "text": [
      "Help on function get_power in module __main__:\n",
      "\n",
      "get_power(num, power)\n",
      "    (float, int) -> float\n",
      "    Return num to the power of power\n",
      "    \n",
      "    >>> get_power(1, 10)\n",
      "    1.0\n",
      "    >>> get_power(2.0, 3)\n",
      "    8.0\n",
      "\n"
     ]
    }
   ],
   "source": [
    "help(get_power)"
   ]
  },
  {
   "cell_type": "code",
   "execution_count": 11,
   "id": "5b163e3a",
   "metadata": {},
   "outputs": [
    {
     "name": "stdout",
     "output_type": "stream",
     "text": [
      "[INFO] starting the test!\n"
     ]
    },
    {
     "data": {
      "text/plain": [
       "TestResults(failed=0, attempted=3)"
      ]
     },
     "execution_count": 11,
     "metadata": {},
     "output_type": "execute_result"
    }
   ],
   "source": [
    "def get_square_tuple(tuple_):\n",
    "    \"\"\" (tuple) -> tuple\n",
    "    Returns square tuple \n",
    "    \n",
    "    >>> get_square_tuple((1, 2, 3, 5))\n",
    "    (1, 4, 9, 25)\n",
    "    \"\"\"\n",
    "    res = tuple()\n",
    "    for t in tuple_:\n",
    "        res = res + (t**2, )\n",
    "    return res\n",
    "print(\"[INFO] starting the test!\")\n",
    "doctest.testmod()\n",
    "# No failures\n",
    "# All three tests are passed. two of them are from get_power!"
   ]
  },
  {
   "cell_type": "markdown",
   "id": "8470c7b2",
   "metadata": {},
   "source": [
    "## Tests Failures!\n",
    "    In some tests, you may want to show failure cases to warn the users!\n",
    "    Only the Traceback and the final error message should be included in the test!"
   ]
  },
  {
   "cell_type": "code",
   "execution_count": 16,
   "id": "903d4387",
   "metadata": {},
   "outputs": [
    {
     "name": "stdout",
     "output_type": "stream",
     "text": [
      "[INFO] starting the test!\n",
      "Trying:\n",
      "    division(10, 2)\n",
      "Expecting:\n",
      "    5.0\n",
      "ok\n",
      "Trying:\n",
      "    division(10, 0)\n",
      "Expecting:\n",
      "    Traceback (most recent call last):\n",
      "    ZeroDivisionError: division by zero\n",
      "ok\n",
      "Trying:\n",
      "    get_power(1, 10)\n",
      "Expecting:\n",
      "    1.0\n",
      "ok\n",
      "Trying:\n",
      "    get_power(2.0, 3)\n",
      "Expecting:\n",
      "    8.0\n",
      "ok\n",
      "Trying:\n",
      "    get_square_tuple((1, 2, 3, 5))\n",
      "Expecting:\n",
      "    (1, 4, 9, 25)\n",
      "ok\n",
      "1 items had no tests:\n",
      "    __main__\n",
      "3 items passed all tests:\n",
      "   2 tests in __main__.division\n",
      "   2 tests in __main__.get_power\n",
      "   1 tests in __main__.get_square_tuple\n",
      "5 tests in 4 items.\n",
      "5 passed and 0 failed.\n",
      "Test passed.\n"
     ]
    },
    {
     "data": {
      "text/plain": [
       "TestResults(failed=0, attempted=5)"
      ]
     },
     "execution_count": 16,
     "metadata": {},
     "output_type": "execute_result"
    }
   ],
   "source": [
    "# In the first test, I want\n",
    "def division(a, b):\n",
    "    \"\"\"\n",
    "    Divides a by b\n",
    "    \n",
    "    >>> division(10, 2)\n",
    "    5.0\n",
    "    >>> division(10, 0)\n",
    "    Traceback (most recent call last):\n",
    "    ZeroDivisionError: division by zero\n",
    "    \"\"\"\n",
    "    return a / b\n",
    "print(\"[INFO] starting the test!\")\n",
    "doctest.testmod(verbose=True)"
   ]
  },
  {
   "cell_type": "code",
   "execution_count": 13,
   "id": "681d541a",
   "metadata": {},
   "outputs": [
    {
     "ename": "ZeroDivisionError",
     "evalue": "division by zero",
     "output_type": "error",
     "traceback": [
      "\u001b[1;31m---------------------------------------------------------------------------\u001b[0m",
      "\u001b[1;31mZeroDivisionError\u001b[0m                         Traceback (most recent call last)",
      "Cell \u001b[1;32mIn [13], line 1\u001b[0m\n\u001b[1;32m----> 1\u001b[0m \u001b[43mdivision\u001b[49m\u001b[43m(\u001b[49m\u001b[38;5;241;43m10\u001b[39;49m\u001b[43m,\u001b[49m\u001b[43m \u001b[49m\u001b[38;5;241;43m0\u001b[39;49m\u001b[43m)\u001b[49m\n",
      "Cell \u001b[1;32mIn [12], line 12\u001b[0m, in \u001b[0;36mdivision\u001b[1;34m(a, b)\u001b[0m\n\u001b[0;32m      2\u001b[0m \u001b[38;5;28;01mdef\u001b[39;00m \u001b[38;5;21mdivision\u001b[39m(a, b):\n\u001b[0;32m      3\u001b[0m     \u001b[38;5;124;03m\"\"\"\u001b[39;00m\n\u001b[0;32m      4\u001b[0m \u001b[38;5;124;03m    Divides a by b\u001b[39;00m\n\u001b[0;32m      5\u001b[0m \u001b[38;5;124;03m    \u001b[39;00m\n\u001b[1;32m   (...)\u001b[0m\n\u001b[0;32m     10\u001b[0m \u001b[38;5;124;03m    ZeroDivisionError: division by zero\u001b[39;00m\n\u001b[0;32m     11\u001b[0m \u001b[38;5;124;03m    \"\"\"\u001b[39;00m\n\u001b[1;32m---> 12\u001b[0m     \u001b[38;5;28;01mreturn\u001b[39;00m \u001b[43ma\u001b[49m\u001b[43m \u001b[49m\u001b[38;5;241;43m/\u001b[39;49m\u001b[43m \u001b[49m\u001b[43mb\u001b[49m\n",
      "\u001b[1;31mZeroDivisionError\u001b[0m: division by zero"
     ]
    }
   ],
   "source": [
    "division(10, 0)"
   ]
  },
  {
   "cell_type": "code",
   "execution_count": 17,
   "id": "c082aa06",
   "metadata": {},
   "outputs": [],
   "source": [
    "?division"
   ]
  },
  {
   "cell_type": "code",
   "execution_count": 18,
   "id": "af0908c9",
   "metadata": {},
   "outputs": [
    {
     "name": "stdout",
     "output_type": "stream",
     "text": [
      "[INFO] starting the test!\n"
     ]
    },
    {
     "data": {
      "text/plain": [
       "TestResults(failed=0, attempted=9)"
      ]
     },
     "execution_count": 18,
     "metadata": {},
     "output_type": "execute_result"
    }
   ],
   "source": [
    "# In the first test, I want\n",
    "def adv_division(a, b):\n",
    "    \"\"\"\n",
    "    Divides a by b\n",
    "    \n",
    "    >>> adv_division(10, 2)\n",
    "    5.0\n",
    "    >>> adv_division(10, 0)\n",
    "    inf\n",
    "    >>> adv_division(-10, 0)\n",
    "    -inf\n",
    "    >>> adv_division(0, 0)\n",
    "    1\n",
    "    \"\"\"\n",
    "    if a and b:\n",
    "        return a / b\n",
    "    elif a == 0 and b == 0:\n",
    "        return 1\n",
    "    else:\n",
    "        return (a/abs(a)) * float(\"inf\")\n",
    "        \n",
    "print(\"[INFO] starting the test!\")\n",
    "doctest.testmod()"
   ]
  },
  {
   "cell_type": "markdown",
   "id": "9ca253b6",
   "metadata": {},
   "source": [
    "*_:-)_*"
   ]
  }
 ],
 "metadata": {
  "kernelspec": {
   "display_name": "Python 3 (ipykernel)",
   "language": "python",
   "name": "python3"
  },
  "language_info": {
   "codemirror_mode": {
    "name": "ipython",
    "version": 3
   },
   "file_extension": ".py",
   "mimetype": "text/x-python",
   "name": "python",
   "nbconvert_exporter": "python",
   "pygments_lexer": "ipython3",
   "version": "3.10.6"
  }
 },
 "nbformat": 4,
 "nbformat_minor": 5
}
