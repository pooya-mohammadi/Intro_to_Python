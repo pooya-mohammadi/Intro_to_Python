{
 "cells": [
  {
   "cell_type": "markdown",
   "metadata": {},
   "source": [
    "# Try & Exept\n",
    "   1. 🚫  [Error Types in Python](#Error_Types_in_Python)\n",
    "   2. 💪  [Python Try Except](#Python_Try_Except)                                                                          \n",
    "        1. [Exception Handling](#Exception_Handling)                                                                                        \n",
    "        2. [Many Exceptions](#Many_Exceptions)                                                                                     \n",
    "        3. [Else](#Else)                                                                                 \n",
    "        4.  [Finally](#Finally)\n",
    "        \n",
    "   3. ⚡ [Raise an exception](#Raise_an_exception)     \n",
    "   \n",
    "   \n",
    "   \n",
    "   \n",
    "   \n",
    "   "
   ]
  },
  {
   "cell_type": "markdown",
   "metadata": {},
   "source": [
    "  <a id=\"Error_Types_in_Python\"></a>\n",
    "  ### 🚫 Error Types in Python"
   ]
  },
  {
   "cell_type": "markdown",
   "metadata": {},
   "source": [
    " | | Exception  | Description   |\n",
    "|---:|:-------------|:-----------|\n",
    "| 1 | AssertionError  | Raised when the assert statement fails.      | \n",
    "| 2 | AttributeError  | Raised on the attribute assignment or reference fails    | \n",
    "| 3 | EOFError  | Raised when the input() function hits the end-of-file condition.    | \n",
    "| 4 | FloatingPointError  | Raised when a floating point operation fails.    | \n",
    "| 5 | GeneratorExit  | Raised when a generator's close() method is called.    | \n",
    "| 6 | ImportError  | Raised when the imported module is not found.    | \n",
    "| 7 | IndexError  | Raised when the index of a sequence is out of range.   | \n",
    "| 8 | KeyError  | Raised when a key is not found in a dictionary.    | \n",
    "| 9 | KeyboardInterrupt | Raised when the user hits the interrupt key (Ctrl+c or delete).    | \n",
    "| 10 | MemoryError  | Raised when an operation runs out of memory.   | \n",
    "| 11 | NameError  | Raised when a variable is not found in the local or global scope.    | \n",
    "| 12 | NotImplementedError  | Raised by abstract methods.    | \n",
    "| 13 | OSError\tRaised  |  when a system operation causes a system-related error.    | \n",
    "| 14 | OverflowError  |  Raised when the result of an arithmetic operation is too large to be represented.   | \n",
    "| 15 | ReferenceError  | Raised when a weak reference proxy is used to access a garbage collected referent.    | \n",
    "| 16 | RuntimeError  | Raised when an error does not fall under any other category.   | \n",
    "| 17 | StopIteration  | Raised by the next() function to indicate that there is no further item to be returned by the iterator.  | \n",
    "| 18 | SyntaxError  | Raised by the parser when a syntax error is encountered.   | \n",
    "| 19 | IndentationError  | Raised when there is an incorrect indentation.    | \n",
    "| 20 | TabError  | Raised when the indentation consists of inconsistent tabs and spaces   | \n",
    "| 21 | SystemError  | Raised when the interpreter detects internal error.    | \n",
    "| 22 | SystemExit | Raised by the sys.exit() function.    | \n",
    "| 23 | TypeError | Raised when a function or operation is applied to an object of an incorrect type.    | \n",
    "| 24 | UnboundLocalError |Raised when a reference is made to a local variable in a function or method, but no value has been bound to that variable.   | \n",
    "| 25 | UnicodeError | Raised when a Unicode-related encoding or decoding error occurs.    | \n",
    "| 26 | UnicodeEncodeError | Raised when a Unicode-related error occurs during encoding.    | \n",
    "| 27 | UnicodeDecodeError | Raised when a Unicode-related error occurs during decoding.   | \n",
    "| 28 | UnicodeTranslateError |Raised when a Unicode-related error occurs during translation.   |\n",
    "| 29 | ValueError | Raised when a function gets an argument of correct type but improper value.   | \n",
    "| 30 | ZeroDivisionError | Raised when the second operand of a division or module operation is zero.   | "
   ]
  },
  {
   "cell_type": "markdown",
   "metadata": {},
   "source": [
    "  <a id=\"Python_Try_Except\"></a>\n",
    "###  💪 Python Try Except"
   ]
  },
  {
   "cell_type": "markdown",
   "metadata": {},
   "source": [
    "⭐ The `try` block lets you test a block of code for errors.\n",
    "\n",
    "⭐ The `except` block lets you handle the error.\n",
    "\n",
    "⭐ The `else` block lets you execute code when there is no error.\n",
    "\n",
    "⭐ The `finally` block lets you execute code, regardless of the result of the try- and except blocks."
   ]
  },
  {
   "cell_type": "markdown",
   "metadata": {},
   "source": [
    "  <a id=\"Exception_Handling\"></a>\n",
    "### Exception Handling"
   ]
  },
  {
   "cell_type": "code",
   "execution_count": 3,
   "metadata": {},
   "outputs": [
    {
     "ename": "ZeroDivisionError",
     "evalue": "division by zero",
     "output_type": "error",
     "traceback": [
      "\u001b[1;31m---------------------------------------------------------------------------\u001b[0m",
      "\u001b[1;31mZeroDivisionError\u001b[0m                         Traceback (most recent call last)",
      "\u001b[1;32m<ipython-input-3-48ec6e3146b3>\u001b[0m in \u001b[0;36m<module>\u001b[1;34m\u001b[0m\n\u001b[1;32m----> 1\u001b[1;33m \u001b[0mprint\u001b[0m\u001b[1;33m(\u001b[0m\u001b[1;36m10\u001b[0m\u001b[1;33m/\u001b[0m\u001b[1;36m0\u001b[0m\u001b[1;33m)\u001b[0m\u001b[1;33m\u001b[0m\u001b[1;33m\u001b[0m\u001b[0m\n\u001b[0m\u001b[0;32m      2\u001b[0m \u001b[0mprint\u001b[0m\u001b[1;33m(\u001b[0m\u001b[1;34m'Hello World'\u001b[0m\u001b[1;33m)\u001b[0m\u001b[1;33m\u001b[0m\u001b[1;33m\u001b[0m\u001b[0m\n",
      "\u001b[1;31mZeroDivisionError\u001b[0m: division by zero"
     ]
    }
   ],
   "source": [
    "print(10/0)\n",
    "print('Hello World')"
   ]
  },
  {
   "cell_type": "code",
   "execution_count": 2,
   "metadata": {},
   "outputs": [
    {
     "name": "stdout",
     "output_type": "stream",
     "text": [
      "it's impossible!!!\n"
     ]
    }
   ],
   "source": [
    "try:\n",
    "    print(10/0)\n",
    "except ZeroDivisionError:\n",
    "    print(\"it's impossible!!!\")"
   ]
  },
  {
   "cell_type": "markdown",
   "metadata": {},
   "source": [
    "  <a id=\"Many_Exceptions\"></a>\n",
    "### Many Exceptions"
   ]
  },
  {
   "cell_type": "code",
   "execution_count": 1,
   "metadata": {},
   "outputs": [
    {
     "ename": "IndexError",
     "evalue": "list index out of range",
     "output_type": "error",
     "traceback": [
      "\u001b[1;31m---------------------------------------------------------------------------\u001b[0m",
      "\u001b[1;31mIndexError\u001b[0m                                Traceback (most recent call last)",
      "Input \u001b[1;32mIn [1]\u001b[0m, in \u001b[0;36m<cell line: 1>\u001b[1;34m()\u001b[0m\n\u001b[0;32m      1\u001b[0m \u001b[38;5;28;01mtry\u001b[39;00m:\n\u001b[0;32m      2\u001b[0m     lst \u001b[38;5;241m=\u001b[39m [\u001b[38;5;241m1\u001b[39m,\u001b[38;5;241m2\u001b[39m]\n\u001b[1;32m----> 3\u001b[0m     \u001b[38;5;28mprint\u001b[39m(\u001b[43mlst\u001b[49m\u001b[43m[\u001b[49m\u001b[38;5;241;43m12\u001b[39;49m\u001b[43m]\u001b[49m)\n\u001b[0;32m      4\u001b[0m     \u001b[38;5;28mprint\u001b[39m(\u001b[38;5;241m10\u001b[39m\u001b[38;5;241m/\u001b[39m\u001b[38;5;241m0\u001b[39m)\n\u001b[0;32m      5\u001b[0m \u001b[38;5;28;01mexcept\u001b[39;00m \u001b[38;5;167;01mZeroDivisionError\u001b[39;00m:\n",
      "\u001b[1;31mIndexError\u001b[0m: list index out of range"
     ]
    }
   ],
   "source": [
    "try:\n",
    "    lst = [1,2]\n",
    "    print(lst[12])\n",
    "    print(10/0)\n",
    "except ZeroDivisionError:\n",
    "    print(\"it's impossible!!!\")"
   ]
  },
  {
   "cell_type": "code",
   "execution_count": 4,
   "metadata": {},
   "outputs": [
    {
     "name": "stdout",
     "output_type": "stream",
     "text": [
      "IndexErrorr\n"
     ]
    }
   ],
   "source": [
    "try:\n",
    "    lst = [1,2]\n",
    "    print(lst[12])\n",
    "    print(10/0)\n",
    "except ZeroDivisionError:\n",
    "    print(\"it's impossible!!!\")\n",
    "except IndexError:\n",
    "    print(\"IndexErrorr\")"
   ]
  },
  {
   "cell_type": "markdown",
   "metadata": {},
   "source": [
    "  <a id=\"Else\"></a>\n",
    "### Else"
   ]
  },
  {
   "cell_type": "code",
   "execution_count": 8,
   "metadata": {},
   "outputs": [
    {
     "ename": "IndexError",
     "evalue": "list index out of range",
     "output_type": "error",
     "traceback": [
      "\u001b[1;31m---------------------------------------------------------------------------\u001b[0m",
      "\u001b[1;31mIndexError\u001b[0m                                Traceback (most recent call last)",
      "Input \u001b[1;32mIn [8]\u001b[0m, in \u001b[0;36m<cell line: 1>\u001b[1;34m()\u001b[0m\n\u001b[0;32m      1\u001b[0m \u001b[38;5;28;01mtry\u001b[39;00m:\n\u001b[0;32m      2\u001b[0m     lst \u001b[38;5;241m=\u001b[39m [\u001b[38;5;241m1\u001b[39m,\u001b[38;5;241m2\u001b[39m]\n\u001b[1;32m----> 3\u001b[0m     \u001b[43mlst\u001b[49m\u001b[43m[\u001b[49m\u001b[38;5;241;43m12\u001b[39;49m\u001b[43m]\u001b[49m\n\u001b[0;32m      4\u001b[0m \u001b[38;5;28;01mexcept\u001b[39;00m \u001b[38;5;167;01mZeroDivisionError\u001b[39;00m:\n\u001b[0;32m      5\u001b[0m     \u001b[38;5;28mprint\u001b[39m(\u001b[38;5;124m\"\u001b[39m\u001b[38;5;124mit\u001b[39m\u001b[38;5;124m'\u001b[39m\u001b[38;5;124ms impossible!!!\u001b[39m\u001b[38;5;124m\"\u001b[39m)\n",
      "\u001b[1;31mIndexError\u001b[0m: list index out of range"
     ]
    }
   ],
   "source": [
    "try:\n",
    "    lst = [1,2]\n",
    "    lst[12]\n",
    "except ZeroDivisionError:\n",
    "    print(\"it's impossible!!!\")\n",
    "else:\n",
    "    print(\"Everything is safe and secure=)\")"
   ]
  },
  {
   "cell_type": "code",
   "execution_count": 9,
   "metadata": {},
   "outputs": [
    {
     "name": "stdout",
     "output_type": "stream",
     "text": [
      "Everything is safe and secure=)\n"
     ]
    }
   ],
   "source": [
    "#In this example, the try block does not generate any error:\n",
    "try:\n",
    "    lst = [1,2]\n",
    "    lst[1]\n",
    "except ZeroDivisionError:\n",
    "    print(\"it's impossible!!!\")\n",
    "else:\n",
    "    print(\"Everything is safe and secure=)\")"
   ]
  },
  {
   "cell_type": "markdown",
   "metadata": {},
   "source": [
    "  <a id=\"Finally\"></a>\n",
    "### Finally"
   ]
  },
  {
   "cell_type": "code",
   "execution_count": 10,
   "metadata": {},
   "outputs": [
    {
     "name": "stdout",
     "output_type": "stream",
     "text": [
      "Whatever happens, I exist\n"
     ]
    },
    {
     "ename": "IndexError",
     "evalue": "list index out of range",
     "output_type": "error",
     "traceback": [
      "\u001b[1;31m---------------------------------------------------------------------------\u001b[0m",
      "\u001b[1;31mIndexError\u001b[0m                                Traceback (most recent call last)",
      "Input \u001b[1;32mIn [10]\u001b[0m, in \u001b[0;36m<cell line: 2>\u001b[1;34m()\u001b[0m\n\u001b[0;32m      2\u001b[0m \u001b[38;5;28;01mtry\u001b[39;00m:\n\u001b[0;32m      3\u001b[0m     lst \u001b[38;5;241m=\u001b[39m [\u001b[38;5;241m1\u001b[39m,\u001b[38;5;241m2\u001b[39m]\n\u001b[1;32m----> 4\u001b[0m     \u001b[43mlst\u001b[49m\u001b[43m[\u001b[49m\u001b[38;5;241;43m12\u001b[39;49m\u001b[43m]\u001b[49m\n\u001b[0;32m      5\u001b[0m \u001b[38;5;28;01mexcept\u001b[39;00m \u001b[38;5;167;01mZeroDivisionError\u001b[39;00m:\n\u001b[0;32m      6\u001b[0m     \u001b[38;5;28mprint\u001b[39m(\u001b[38;5;124m\"\u001b[39m\u001b[38;5;124mit\u001b[39m\u001b[38;5;124m'\u001b[39m\u001b[38;5;124ms impossible!!!\u001b[39m\u001b[38;5;124m\"\u001b[39m)\n",
      "\u001b[1;31mIndexError\u001b[0m: list index out of range"
     ]
    }
   ],
   "source": [
    "#The finally block, if specified, will be executed regardless if the try block raises an error or not.\n",
    "try:\n",
    "    lst = [1,2]\n",
    "    lst[12]\n",
    "except ZeroDivisionError:\n",
    "    print(\"it's impossible!!!\")\n",
    "else:\n",
    "    print(\"Everything is safe and secure=)\")\n",
    "finally :\n",
    "    print(\"Whatever happens, I exist\")"
   ]
  },
  {
   "cell_type": "code",
   "execution_count": 11,
   "metadata": {},
   "outputs": [
    {
     "name": "stdout",
     "output_type": "stream",
     "text": [
      "10\n",
      "I have no clue what has gone bad!!\n",
      "this is finally\n"
     ]
    }
   ],
   "source": [
    "try:\n",
    "    print(10) \n",
    "    lst = [1,2]\n",
    "    print(lst[12])\n",
    "except ValueError:\n",
    "    print(\"it's impossible!!!\")\n",
    "except ZeroDivisionError:\n",
    "    print(\"ZeroDivisionError\")\n",
    "except:\n",
    "    print(\"I have no clue what has gone bad!!\")\n",
    "finally:\n",
    "    print('Whatever happens, I exist')\n",
    "# mostly close the connection to database to lower the load on system and unlock db"
   ]
  },
  {
   "cell_type": "markdown",
   "metadata": {},
   "source": [
    "*:)*"
   ]
  },
  {
   "cell_type": "markdown",
   "metadata": {},
   "source": [
    "  <a id=\"Raise_an_exception\"></a>\n",
    "### Raise an exception\n",
    "As a Python developer you can choose to throw an exception if a condition occurs.\n",
    "\n",
    "To throw (or raise) an exception, use the` raise` keyword"
   ]
  },
  {
   "cell_type": "code",
   "execution_count": 12,
   "metadata": {},
   "outputs": [
    {
     "ename": "Exception",
     "evalue": "Sorry, no numbers below zero",
     "output_type": "error",
     "traceback": [
      "\u001b[1;31m---------------------------------------------------------------------------\u001b[0m",
      "\u001b[1;31mException\u001b[0m                                 Traceback (most recent call last)",
      "Input \u001b[1;32mIn [12]\u001b[0m, in \u001b[0;36m<cell line: 4>\u001b[1;34m()\u001b[0m\n\u001b[0;32m      2\u001b[0m x \u001b[38;5;241m=\u001b[39m \u001b[38;5;241m-\u001b[39m\u001b[38;5;241m1\u001b[39m\n\u001b[0;32m      4\u001b[0m \u001b[38;5;28;01mif\u001b[39;00m x \u001b[38;5;241m<\u001b[39m \u001b[38;5;241m0\u001b[39m:\n\u001b[1;32m----> 5\u001b[0m   \u001b[38;5;28;01mraise\u001b[39;00m \u001b[38;5;167;01mException\u001b[39;00m(\u001b[38;5;124m\"\u001b[39m\u001b[38;5;124mSorry, no numbers below zero\u001b[39m\u001b[38;5;124m\"\u001b[39m)\n",
      "\u001b[1;31mException\u001b[0m: Sorry, no numbers below zero"
     ]
    }
   ],
   "source": [
    "#Raise an error and stop the program if x is lower than 0:\n",
    "x = -1\n",
    "\n",
    "if x < 0:\n",
    "  raise Exception(\"Sorry, no numbers below zero\")"
   ]
  },
  {
   "cell_type": "code",
   "execution_count": 13,
   "metadata": {
    "scrolled": true
   },
   "outputs": [
    {
     "ename": "TypeError",
     "evalue": "Only integers are allowed",
     "output_type": "error",
     "traceback": [
      "\u001b[1;31m---------------------------------------------------------------------------\u001b[0m",
      "\u001b[1;31mTypeError\u001b[0m                                 Traceback (most recent call last)",
      "Input \u001b[1;32mIn [13]\u001b[0m, in \u001b[0;36m<cell line: 4>\u001b[1;34m()\u001b[0m\n\u001b[0;32m      2\u001b[0m x \u001b[38;5;241m=\u001b[39m \u001b[38;5;124m\"\u001b[39m\u001b[38;5;124mhello\u001b[39m\u001b[38;5;124m\"\u001b[39m\n\u001b[0;32m      4\u001b[0m \u001b[38;5;28;01mif\u001b[39;00m \u001b[38;5;129;01mnot\u001b[39;00m \u001b[38;5;28mtype\u001b[39m(x) \u001b[38;5;129;01mis\u001b[39;00m \u001b[38;5;28mint\u001b[39m:\n\u001b[1;32m----> 5\u001b[0m   \u001b[38;5;28;01mraise\u001b[39;00m \u001b[38;5;167;01mTypeError\u001b[39;00m(\u001b[38;5;124m\"\u001b[39m\u001b[38;5;124mOnly integers are allowed\u001b[39m\u001b[38;5;124m\"\u001b[39m)\n",
      "\u001b[1;31mTypeError\u001b[0m: Only integers are allowed"
     ]
    }
   ],
   "source": [
    "#Raise a TypeError if x is not an integer:\n",
    "x = \"hello\"\n",
    "\n",
    "if not type(x) is int:\n",
    "  raise TypeError(\"Only integers are allowed\")"
   ]
  },
  {
   "cell_type": "markdown",
   "metadata": {},
   "source": [
    ":)"
   ]
  },
  {
   "cell_type": "markdown",
   "metadata": {},
   "source": [
    "### Exercise\n",
    " Write a python program to detect integer numbers in a list of strings and cast them to int and print them\n",
    " example: input: lst = ['11', 'pooya', '10', '10.5']\n",
    "\n",
    " result: 11 10\n"
   ]
  },
  {
   "cell_type": "code",
   "execution_count": 3,
   "metadata": {},
   "outputs": [
    {
     "data": {
      "text/plain": [
       "[11, 10]"
      ]
     },
     "execution_count": 3,
     "metadata": {},
     "output_type": "execute_result"
    }
   ],
   "source": [
    "lst = ['11', 'pooya', '10', '10.5','10pooya']\n",
    "lst_2 = []\n",
    "for item in lst:\n",
    "    try:\n",
    "        lst_2.append(int(item))\n",
    "    except:\n",
    "        pass\n",
    "lst_2"
   ]
  }
 ],
 "metadata": {
  "kernelspec": {
   "display_name": "Python 3 (ipykernel)",
   "language": "python",
   "name": "python3"
  },
  "language_info": {
   "codemirror_mode": {
    "name": "ipython",
    "version": 3
   },
   "file_extension": ".py",
   "mimetype": "text/x-python",
   "name": "python",
   "nbconvert_exporter": "python",
   "pygments_lexer": "ipython3",
   "version": "3.9.12"
  }
 },
 "nbformat": 4,
 "nbformat_minor": 2
}
