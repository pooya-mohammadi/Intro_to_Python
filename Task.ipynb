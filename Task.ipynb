{
 "cells": [
  {
   "cell_type": "markdown",
   "id": "ba3f00c2",
   "metadata": {},
   "source": [
    "# Survey\n",
    "In a survey, moviegoers were asked to list 3 of their favorite genres. They are given 6 different genres to choose from, including:\n",
    "</p>\"Horror, Romance, Comedy, History, Adventure, Action\"</p>\n",
    "Write a program that takes the number of people, then takes the name of each person with their favorite genres and prints the name of each genre and the number of people interested in that genre in the order of the most interested in the output. (If the level of interest in different genres is the same, print in the order of the English alphabet in the output.) If no genre is selected, consider its value as zero and print the name and number 0 in the output.</p>\n"
   ]
  },
  {
   "cell_type": "markdown",
   "id": "75f5f3d0",
   "metadata": {},
   "source": [
    "`4 \n",
    "hossein Horror  Romance Comedy\n",
    "mohsen Horror Action Comedy \n",
    "mina Adventure Action History\n",
    "sajjad Romance History Action`"
   ]
  },
  {
   "cell_type": "markdown",
   "id": "42374f90",
   "metadata": {},
   "source": [
    "### Sample output:"
   ]
  },
  {
   "cell_type": "markdown",
   "id": "d3733d20",
   "metadata": {},
   "source": [
    "`Action : 3\n",
    "Comedy : 2\n",
    "History : 2\n",
    "Horror : 2\n",
    "Romance : 2\n",
    "Adventure : 1`"
   ]
  },
  {
   "cell_type": "markdown",
   "id": "3117fd2b",
   "metadata": {},
   "source": [
    "## -----------------------------------------------------------------------------------------------------------------------------"
   ]
  },
  {
   "cell_type": "markdown",
   "id": "8852269b",
   "metadata": {},
   "source": [
    "The standard form of names is such that the first letter of the name is capitalized and the rest of the letters of the name are lowercase. Write programs that read the number, nouns, genders, and accepted languages ​​from the input, separate the nouns based on gender, standardize them, and write in front of each noun the language with which he participated in the competition. (In the output, the female gender should be printed first and then the male gender. The names of each gender are printed in the order of the English alphabet.)."
   ]
  },
  {
   "cell_type": "markdown",
   "id": "1ae326b1",
   "metadata": {},
   "source": [
    "# Computer Olympiad \n",
    "Ahmed is sending the final list of those accepted to the Computer Olympiad to the results review committee so that the committee can print the entry cards for the final competitions. However, because the test did not specify a specific format for registering names, participants must use standard names.They didn't think of themselves, moreover, the language with which they partook in the opposition is written in the continuation of each name, and the orientation of individuals is additionally determined toward the start of each name.</p>\n",
    "The standard form of names is such that the first letter of the name is capitalized and the rest of the letters of the name are lowercase. Write programs that read the number, nouns, genders, and accepted languages ​​from the input, separate the nouns based on gender, standardize them, and write in front of each noun the language with which he participated in the competition. (In the output, the female gender should be printed first and then the male gender. The names of each gender are printed in the order of the English alphabet.)."
   ]
  },
  {
   "cell_type": "markdown",
   "id": "6f44be09",
   "metadata": {},
   "source": [
    "### Sample input:\n",
    "`4\n",
    "m.hosSein.python\n",
    "f.miNa.C\n",
    "m.aHMad.C++\n",
    "f.Sara.java`"
   ]
  },
  {
   "cell_type": "markdown",
   "id": "ae2c973e",
   "metadata": {},
   "source": [
    "### Sample output:\n",
    "`f Mina C\n",
    "f Sara java\n",
    "m Ahmad C++\n",
    "m Hossein python`"
   ]
  },
  {
   "cell_type": "markdown",
   "id": "82ce0c81",
   "metadata": {},
   "source": [
    "## -----------------------------------------------------------------------------------------------------------------------------"
   ]
  },
  {
   "cell_type": "markdown",
   "id": "a6f861d9",
   "metadata": {},
   "source": [
    "# Groh B\n",
    "Iran, Portugal, Spain and Morocco are present in Group B of the World Cup. Write a program that, upon receiving the results of the games, will print the team name, the number of wins and losses, and the difference in goals and points respectively in one line. Each team should be printed in order of points in one line. (If the points are equal, the number of wins will be considered. If both the number of wins and the points are equal, they will be printed in alphabetical order.)</p>\n",
    "\n",
    "Note: The team gets zero points in case of loss, one point in case of draw and three points in case of win.</p>\n",
    "Goal difference is the difference between goals scored and goals conceded by a team</p>\n",
    "\n",
    "Read the results of the games in the following order: (in the sample entry, the left number corresponds to the right team.)</p>\n",
    "Iran - Spain</p>\n",
    "Iran - Portugal</p>\n",
    "Iran - Morocco</p>\n",
    "Spain - Portugal</p>\n",
    "Spain - Morocco</p>\n",
    "Portugal - Morocco</p>"
   ]
  },
  {
   "cell_type": "markdown",
   "id": "f3339ec2",
   "metadata": {},
   "source": [
    "### Sample input:\n",
    "`2-2\n",
    "2-1\n",
    "1-2\n",
    "2-2\n",
    "3-1\n",
    "2-1`"
   ]
  },
  {
   "cell_type": "markdown",
   "id": "597f34ef",
   "metadata": {},
   "source": [
    "### Sample output:\n",
    "`Spain  wins:1 , loses:0 , draws:2 , goal difference:2 , points:5\n",
    "Iran  wins:1 , loses:1 , draws:1 , goal difference:0 , points:4\n",
    "Portugal  wins:1 , loses:1 , draws:1 , goal difference:0 , points:4\n",
    "Morocco  wins:1 , loses:2 , draws:0 , goal difference:-2 , points:3`"
   ]
  },
  {
   "cell_type": "code",
   "execution_count": null,
   "id": "8f43c7ee",
   "metadata": {},
   "outputs": [],
   "source": []
  }
 ],
 "metadata": {
  "kernelspec": {
   "display_name": "Python 3 (ipykernel)",
   "language": "python",
   "name": "python3"
  },
  "language_info": {
   "codemirror_mode": {
    "name": "ipython",
    "version": 3
   },
   "file_extension": ".py",
   "mimetype": "text/x-python",
   "name": "python",
   "nbconvert_exporter": "python",
   "pygments_lexer": "ipython3",
   "version": "3.10.7"
  }
 },
 "nbformat": 4,
 "nbformat_minor": 5
}
