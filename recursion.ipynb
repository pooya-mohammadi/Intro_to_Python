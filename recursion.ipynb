{
 "cells": [
  {
   "cell_type": "markdown",
   "metadata": {},
   "source": [
    "## Recursion\n",
    "\n",
    "    Python also accepts function recursion, which means a defined function can call itself.\n",
    "\n",
    "    Recursion is a common mathematical and programming concept. It means that a function calls itself.\n",
    "\n",
    "    This has the benefit of meaning that you can loop through data to reach a result"
   ]
  },
  {
   "cell_type": "code",
   "execution_count": 48,
   "metadata": {},
   "outputs": [
    {
     "data": {
      "text/plain": [
       "120"
      ]
     },
     "execution_count": 48,
     "metadata": {},
     "output_type": "execute_result"
    }
   ],
   "source": [
    "#Factorial function:\n",
    "\n",
    "def fuctorial(n):\n",
    "    \"\"\"\n",
    "    fuctorial(5) = 5 * fuctorial(4)\n",
    "    fuctorial(4) = 4 * fuctorial(3)\n",
    "    fuctorial(3) = 3 * fuctorial(2)\n",
    "    fuctorial(2) = 2 * fuctorial(1)\n",
    "    fuctorial(1) = 1\n",
    "    or simply: \n",
    "    fuctorial(5) = 5 * 4 * 3 * 2 * 1\n",
    "    fuctorial(5) = 120\n",
    "    \"\"\"\n",
    "    \n",
    "    if n <= 1:\n",
    "        return 1\n",
    "    else:\n",
    "        return n * fuctorial(n - 1)\n",
    "fuctorial(5)"
   ]
  },
  {
   "cell_type": "code",
   "execution_count": 66,
   "metadata": {},
   "outputs": [
    {
     "data": {
      "text/plain": [
       "21"
      ]
     },
     "execution_count": 66,
     "metadata": {},
     "output_type": "execute_result"
    }
   ],
   "source": [
    "def my_func(k: int) -> int:\n",
    "    \"\"\"\n",
    "    my_func(6) = 6 + my_func(5)\n",
    "    my_func(5) = 5 + my_func(4)\n",
    "    my_func(4) = 4 + my_func(3)\n",
    "    my_func(3) = 3 + my_func(2)\n",
    "    my_func(2) = 2 + my_func(1)\n",
    "    my_func(1) = 1 + my_func(0)\n",
    "    my_func(0) = 0\n",
    "    \n",
    "    my_func(6) = 6 + 5 + 4 + 3 + 2 + 1 + 0\n",
    "    my_func(6) = 21\n",
    "    \n",
    "    \"\"\"\n",
    "    if (k > 0):\n",
    "        result = k + my_func(k - 1)    \n",
    "    else:\n",
    "        result = 0\n",
    "    return result         \n",
    "\n",
    "my_func(6)"
   ]
  },
  {
   "cell_type": "markdown",
   "metadata": {
    "collapsed": true
   },
   "source": [
    "*:)*"
   ]
  }
 ],
 "metadata": {
  "kernelspec": {
   "display_name": "Python 3 (ipykernel)",
   "language": "python",
   "name": "python3"
  },
  "language_info": {
   "codemirror_mode": {
    "name": "ipython",
    "version": 3
   },
   "file_extension": ".py",
   "mimetype": "text/x-python",
   "name": "python",
   "nbconvert_exporter": "python",
   "pygments_lexer": "ipython3",
   "version": "3.9.12"
  }
 },
 "nbformat": 4,
 "nbformat_minor": 2
}
