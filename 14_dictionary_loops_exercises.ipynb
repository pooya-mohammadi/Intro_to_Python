{
 "cells": [
  {
   "cell_type": "markdown",
   "id": "c7c8c51f",
   "metadata": {},
   "source": [
    "# Dictionary Exercises"
   ]
  },
  {
   "cell_type": "markdown",
   "id": "bb55d358",
   "metadata": {},
   "source": [
    "### Task 1: \n",
    "    Extract values from a dictionary that their keys are present in a given list"
   ]
  },
  {
   "cell_type": "code",
   "execution_count": 2,
   "id": "a3fadbd4",
   "metadata": {},
   "outputs": [],
   "source": [
    "dict_ex = {\"name\": \"Mohammad\",\n",
    "           \"age\" : \"40\",\n",
    "           \"job\" : \"teacher\",\n",
    "           \"salary\": 4000,\n",
    "          }\n",
    "valid_keys = [\"name\", \"salary\"]\n",
    "# output: Mohammad, 4000\n",
    "# answer"
   ]
  },
  {
   "cell_type": "markdown",
   "id": "ea1cdd3b",
   "metadata": {},
   "source": [
    "### Task 2:\n",
    "    flatten a nested dictionary. If a key is already present in the result dict, add a suffix like \"_1\" to distinguish between keys with the same name."
   ]
  },
  {
   "cell_type": "code",
   "execution_count": 6,
   "id": "490a576a",
   "metadata": {},
   "outputs": [],
   "source": [
    "student_data = {'id1':\n",
    "                    {'name': 'Sara',\n",
    "                     'age': 28,\n",
    "                     'salary': 2000\n",
    "                     },\n",
    "                'id2':\n",
    "                    {'name': 'Sara',\n",
    "                     'age': 18,\n",
    "                     'salary': 1000\n",
    "                     },\n",
    "                \"a\": \"A\",\n",
    "                'id3':\n",
    "                    {'name': 'Omid',\n",
    "                     \"age\": 20,\n",
    "                     'salary': 1000\n",
    "                     },\n",
    "                'id4': dict(name=\"Amir\", age=28, salary=2000),\n",
    "                \"last_name\": \"Mohammadi\",\n",
    "                }\n",
    "\n",
    "# output: {name_0: Sara, age_0: 28, salary_0: 2000, ..., a: A, ...,  name_1: sara, ..., last_name: Mohammadi}\n",
    "# Note: a and last_name do not have suffix because for each of them there is only one ... \n",
    "# answer"
   ]
  },
  {
   "cell_type": "markdown",
   "id": "5ba9e68d",
   "metadata": {},
   "source": [
    "### Task 3\n",
    "    Write a Python program to drop items with None or empty values from a given dictionary"
   ]
  },
  {
   "cell_type": "code",
   "execution_count": 7,
   "id": "43748a8d",
   "metadata": {},
   "outputs": [
    {
     "data": {
      "text/plain": [
       "{'a': 'A', 'b': 'B', 'c': None, 'd': ''}"
      ]
     },
     "execution_count": 7,
     "metadata": {},
     "output_type": "execute_result"
    }
   ],
   "source": [
    "dict_ = {\"a\": \"A\", \"b\": \"B\", \"c\": None, \"d\": \"\"}\n",
    "dict_"
   ]
  },
  {
   "cell_type": "code",
   "execution_count": 8,
   "id": "28049a7a",
   "metadata": {},
   "outputs": [],
   "source": [
    "# output: {\"a\": \"A\", \"b\": \"B\"}\n",
    "# answer"
   ]
  },
  {
   "cell_type": "markdown",
   "id": "25accf58",
   "metadata": {},
   "source": [
    "### Task 4\n",
    "    Create a dictionary two given lists using `zip`"
   ]
  },
  {
   "cell_type": "code",
   "execution_count": null,
   "id": "f5c3f7e6",
   "metadata": {},
   "outputs": [],
   "source": [
    "lst_1 = [\"a\", \"ali\", \"b\"]\n",
    "lst_2 = [\"a\", \"ali\", \"b\"]\n",
    "\n",
    "# res_dict = {\"a\": \"a\", ...}\n",
    "# answer"
   ]
  },
  {
   "cell_type": "markdown",
   "id": "2c5c1efe",
   "metadata": {},
   "source": [
    "*:)*"
   ]
  }
 ],
 "metadata": {
  "kernelspec": {
   "display_name": "Python 3 (ipykernel)",
   "language": "python",
   "name": "python3"
  },
  "language_info": {
   "codemirror_mode": {
    "name": "ipython",
    "version": 3
   },
   "file_extension": ".py",
   "mimetype": "text/x-python",
   "name": "python",
   "nbconvert_exporter": "python",
   "pygments_lexer": "ipython3",
   "version": "3.9.12"
  }
 },
 "nbformat": 4,
 "nbformat_minor": 5
}
