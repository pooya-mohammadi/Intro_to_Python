{
 "cells": [
  {
   "cell_type": "markdown",
   "metadata": {},
   "source": [
    "# Loops - part 2\n",
    "   1. [Loops over dictionaries](#Loops_over_dictionaries)\n",
    "   2. [Enumerate loops' iterations](#Enumerate_loops'_iterations)\n",
    "   3. [Zip for iterating over multiple iterables(lists/tuples, ...)](#Zip_for_iterating_over_multiple_iterables)"
   ]
  },
  {
   "cell_type": "markdown",
   "metadata": {},
   "source": [
    "<a id=\"Loops_over_dictionaries\"></a>\n",
    "## Loops over dictionaries"
   ]
  },
  {
   "cell_type": "code",
   "execution_count": 1,
   "metadata": {},
   "outputs": [],
   "source": [
    "capitals = {'Iran': 'Tehran', 'France': 'Paris', 'Italy': 'Rome'}"
   ]
  },
  {
   "cell_type": "code",
   "execution_count": 2,
   "metadata": {},
   "outputs": [
    {
     "name": "stdout",
     "output_type": "stream",
     "text": [
      "Iran Tehran\n",
      "France Paris\n",
      "Italy Rome\n"
     ]
    }
   ],
   "source": [
    "# iterating over keys -> not recommended\n",
    "for key in capitals:\n",
    "    print(key, capitals[key])"
   ]
  },
  {
   "cell_type": "code",
   "execution_count": 4,
   "metadata": {},
   "outputs": [
    {
     "name": "stdout",
     "output_type": "stream",
     "text": [
      "Iran Tehran\n",
      "France Paris\n",
      "Italy Rome\n"
     ]
    }
   ],
   "source": [
    "# iterating over keys -> recommended\n",
    "# explicit is better than implicit\n",
    "for key in capitals.keys(): # recommended\n",
    "    print(key, capitals[key])"
   ]
  },
  {
   "cell_type": "code",
   "execution_count": 5,
   "metadata": {},
   "outputs": [
    {
     "name": "stdout",
     "output_type": "stream",
     "text": [
      "Tehran\n",
      "Paris\n",
      "Rome\n"
     ]
    }
   ],
   "source": [
    "# iterating over values\n",
    "for value in capitals.values():\n",
    "    print(value)"
   ]
  },
  {
   "cell_type": "code",
   "execution_count": 6,
   "metadata": {},
   "outputs": [
    {
     "data": {
      "text/plain": [
       "dict_items([('Iran', 'Tehran'), ('France', 'Paris'), ('Italy', 'Rome')])"
      ]
     },
     "execution_count": 6,
     "metadata": {},
     "output_type": "execute_result"
    }
   ],
   "source": [
    "# how to get keys and values in pairs\n",
    "capitals.items()"
   ]
  },
  {
   "cell_type": "code",
   "execution_count": 8,
   "metadata": {},
   "outputs": [
    {
     "name": "stdout",
     "output_type": "stream",
     "text": [
      "key: Iran, value: Tehran\n",
      "key: France, value: Paris\n",
      "key: Italy, value: Rome\n"
     ]
    }
   ],
   "source": [
    "for item in capitals.items():\n",
    "    print(f\"key: {item[0]}, value: {item[1]}\")"
   ]
  },
  {
   "cell_type": "code",
   "execution_count": 10,
   "metadata": {},
   "outputs": [
    {
     "name": "stdout",
     "output_type": "stream",
     "text": [
      "pooya mohammadi\n"
     ]
    }
   ],
   "source": [
    "# unpacking a sequence data type (a tuple)\n",
    "item_1, item_2 = (\"pooya\", \"mohammadi\")\n",
    "print(item_1, item_2)"
   ]
  },
  {
   "cell_type": "code",
   "execution_count": 11,
   "metadata": {},
   "outputs": [
    {
     "name": "stdout",
     "output_type": "stream",
     "text": [
      "Iran Tehran\n",
      "France Paris\n",
      "Italy Rome\n"
     ]
    }
   ],
   "source": [
    "# iterating over items ...\n",
    "for key, val in capitals.items():\n",
    "    print(key, val)"
   ]
  },
  {
   "cell_type": "markdown",
   "metadata": {},
   "source": [
    "### Task\n",
    "    Create a new dictionary like capitals in which keys and values are replaced."
   ]
  },
  {
   "cell_type": "code",
   "execution_count": 12,
   "metadata": {},
   "outputs": [
    {
     "data": {
      "text/plain": [
       "{'Tehran': 'Iran', 'Paris': 'France', 'Rome': 'Italy'}"
      ]
     },
     "execution_count": 12,
     "metadata": {},
     "output_type": "execute_result"
    }
   ],
   "source": [
    "# answer\n",
    "reversed_capitals = dict()\n",
    "for k, v in capitals.items():\n",
    "    reversed_capitals[v] = k \n",
    "reversed_capitals"
   ]
  },
  {
   "cell_type": "markdown",
   "metadata": {},
   "source": [
    "<a id=\"Enumerate_loops'_iterations\" > </a>\n",
    "## Enumerate\n",
    "### challenge for dictionary using enumerate"
   ]
  },
  {
   "cell_type": "markdown",
   "metadata": {},
   "source": [
    "### Task \n",
    "    print all elements in capitals except the one which comes first"
   ]
  },
  {
   "cell_type": "code",
   "execution_count": 14,
   "metadata": {},
   "outputs": [
    {
     "name": "stdout",
     "output_type": "stream",
     "text": [
      "1 France Paris\n",
      "2 Italy Rome\n"
     ]
    }
   ],
   "source": [
    "counter = 0\n",
    "for key, value in capitals.items():\n",
    "    if counter == 0: # ignore the one at index 0\n",
    "        counter += 1\n",
    "        continue\n",
    "    print(counter, key, value)\n",
    "    counter += 1"
   ]
  },
  {
   "cell_type": "code",
   "execution_count": 16,
   "metadata": {},
   "outputs": [
    {
     "name": "stdout",
     "output_type": "stream",
     "text": [
      "index: 0 >>> 1\n",
      "index: 1 >>> a\n",
      "index: 2 >>> 5\n"
     ]
    }
   ],
   "source": [
    "# enumerate on a list\n",
    "lst_ = [1, 'a', 5]\n",
    "for en, s in enumerate(lst_):\n",
    "    print(\"index:\", en, '>>>', s)"
   ]
  },
  {
   "cell_type": "code",
   "execution_count": 18,
   "metadata": {},
   "outputs": [
    {
     "name": "stdout",
     "output_type": "stream",
     "text": [
      "count: 3 >>> 1\n",
      "count: 4 >>> a\n",
      "count: 5 >>> 5\n"
     ]
    }
   ],
   "source": [
    "# enumerate with a starting point other than 0\n",
    "lst_ = [1,'a', 5]\n",
    "for en, s in enumerate(lst_, 3):\n",
    "    print(\"count:\", en, '>>>', s)"
   ]
  },
  {
   "cell_type": "code",
   "execution_count": 19,
   "metadata": {},
   "outputs": [
    {
     "name": "stdout",
     "output_type": "stream",
     "text": [
      "1 France Paris\n",
      "2 Italy Rome\n"
     ]
    }
   ],
   "source": [
    "# enumerate over objects which have more than one item/element\n",
    "for en, (key, value) in enumerate(capitals.items()):\n",
    "    if en == 0:\n",
    "        continue\n",
    "    print(en, key, value)"
   ]
  },
  {
   "cell_type": "markdown",
   "metadata": {},
   "source": [
    "<a id=\"Zip_for_iterating_over_multiple_iterables\" ></a>\n",
    "### Zip\n",
    "    Zips are used for concatenating multiple iterables(lists/tuples, ...). Then, one can easily loop over several iterables at the same time ..."
   ]
  },
  {
   "cell_type": "code",
   "execution_count": 20,
   "metadata": {},
   "outputs": [
    {
     "data": {
      "text/plain": [
       "[6, 8, 10, 12]"
      ]
     },
     "execution_count": 20,
     "metadata": {},
     "output_type": "execute_result"
    }
   ],
   "source": [
    "lst_1 = [1, 2, 3, 4]\n",
    "lst_2 = [5, 6, 7, 8]\n",
    "\n",
    "lst = []\n",
    "for l_1, l_2 in zip(lst_1, lst_2):\n",
    "    lst.append(l_1 + l_2)\n",
    "lst"
   ]
  },
  {
   "cell_type": "code",
   "execution_count": 22,
   "metadata": {},
   "outputs": [
    {
     "data": {
      "text/plain": [
       "[11, 3, 17, 20]"
      ]
     },
     "execution_count": 22,
     "metadata": {},
     "output_type": "execute_result"
    }
   ],
   "source": [
    "# zip and enumerate\n",
    "lst_1 = [1, 2, 3, 4]\n",
    "lst_2 = [5, 6, 7, 8]\n",
    "lst_3 = [5, -5, 7, 8]\n",
    "\n",
    "lst = []\n",
    "for count, (l_1, l_2, l_3) in enumerate(zip(lst_1, lst_2, lst_3)):\n",
    "    lst.append(l_1 + l_2 + l_3)\n",
    "lst"
   ]
  },
  {
   "cell_type": "markdown",
   "metadata": {},
   "source": [
    "*:)*"
   ]
  }
 ],
 "metadata": {
  "kernelspec": {
   "display_name": "Python 3 (ipykernel)",
   "language": "python",
   "name": "python3"
  },
  "language_info": {
   "codemirror_mode": {
    "name": "ipython",
    "version": 3
   },
   "file_extension": ".py",
   "mimetype": "text/x-python",
   "name": "python",
   "nbconvert_exporter": "python",
   "pygments_lexer": "ipython3",
   "version": "3.9.12"
  }
 },
 "nbformat": 4,
 "nbformat_minor": 2
}
