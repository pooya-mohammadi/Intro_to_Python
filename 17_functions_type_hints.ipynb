{
 "cells": [
  {
   "cell_type": "markdown",
   "id": "a3c3f1ba",
   "metadata": {},
   "source": [
    "# Functions Type Hint\n",
    "    1) Defining Type Hint\n",
    "    2) Typing Module"
   ]
  },
  {
   "cell_type": "markdown",
   "id": "1c64ed15",
   "metadata": {},
   "source": [
    "## Type Hint\n",
    "    Python is a dynamic programming language. It means that the type of variables are not known in advance and can even change several times during process. Therefore, it might become frusterating for users to figure out the best input types to a function. Type hit helps users with the input arguments' and outputs' types.\n",
    "    In Addition python-users can enjoy the auto-complete/intelligence property provided by using type-hint!\n",
    "    Moreover, the defined types are shown using `help` function"
   ]
  },
  {
   "cell_type": "code",
   "execution_count": 2,
   "id": "e111eccf",
   "metadata": {},
   "outputs": [
    {
     "name": "stdout",
     "output_type": "stream",
     "text": [
      "pooya mohammadi\n"
     ]
    }
   ],
   "source": [
    "# before running this cell, after `first_name` or `last_name` type a dot and hit `tab`. \n",
    "# You'll see that nothing pops up because the kernel has no information about the type of\n",
    "# the input\n",
    "def full_name_no_hint(first_name, last_name):\n",
    "    output = first_name + ' ' + last_name\n",
    "    return output\n",
    "\n",
    "output = full_name_no_hint('pooya', 'mohammadi')\n",
    "print(output)"
   ]
  },
  {
   "cell_type": "code",
   "execution_count": 5,
   "id": "8b21a398",
   "metadata": {},
   "outputs": [
    {
     "name": "stdout",
     "output_type": "stream",
     "text": [
      "pooya mohammadi\n"
     ]
    }
   ],
   "source": [
    "# It has specified the expected input and output types\n",
    "# The intelligence of jupyter notebook works on both the input and the output!\n",
    "# before running this cell, after `name` type a dot and hit `tab`. \n",
    "# You'll see that the methods for string is shown!\n",
    "\n",
    "def full_name(first_name: str, last_name: str = \"mohammadi\") -> str:\n",
    "    output = first_name + ' ' + last_name\n",
    "    return output\n",
    "\n",
    "output = full_name('pooya')\n",
    "print(output)"
   ]
  },
  {
   "cell_type": "code",
   "execution_count": 4,
   "id": "0b6b9746",
   "metadata": {},
   "outputs": [
    {
     "name": "stdout",
     "output_type": "stream",
     "text": [
      "Help on function full_name in module __main__:\n",
      "\n",
      "full_name(first_name: str, last_name: str) -> str\n",
      "\n"
     ]
    }
   ],
   "source": [
    "## The types are shown using the help function, eventhough no specific docstring is defined for the this function\n",
    "help(full_name)"
   ]
  },
  {
   "cell_type": "markdown",
   "id": "bb64d711",
   "metadata": {},
   "source": [
    "## Typing Module\n",
    "    There different typing objects are available in typing module. They can be used to define complex typing scenarios.\n"
   ]
  },
  {
   "cell_type": "code",
   "execution_count": null,
   "id": "f83091d4",
   "metadata": {},
   "outputs": [],
   "source": [
    "# Type hinting is not specific to input arguments of functions!\n",
    "from typing import Tuple, List, Dict\n",
    "\n",
    "int_str_tuple: Tuple[int, str] = (2, 'Pooya')\n",
    "triple_int_tuple: Tuple[int, int, int] = (5, 9, 3)\n",
    "triple_str_tuple: Tuple[str, str, str] = ('a', 'b', \"9\")\n",
    "homogeneous_int_tuple: Tuple[int, ...] = (5, 9, 3, 5) # as many int \n",
    "\n",
    "list_dicts: List[Dict[int, str]] = [\n",
    "    {1: 'one', 2: 'two', 3: 'three'},\n",
    "    {11: 'eleven', 12: 'twelve', 13: 'thirteen'}\n",
    "]"
   ]
  },
  {
   "cell_type": "code",
   "execution_count": 7,
   "id": "8f40ee92",
   "metadata": {},
   "outputs": [
    {
     "data": {
      "text/plain": [
       "{1: 'pooya Mohammadi', 2: 'Mehdi Zamani'}"
      ]
     },
     "execution_count": 7,
     "metadata": {},
     "output_type": "execute_result"
    }
   ],
   "source": [
    "from typing import List, Dict\n",
    "\n",
    "def get_full_name(ids:List[int], first_names:List[str], last_names:List[str]) -> Dict[int, str]:\n",
    "    \"\"\"\n",
    "    :param ids: are assumed to be a list of integers\n",
    "    :param first_names: are assumed to be a list of strings\n",
    "    :param last_names: are assumed to be a list of strings\n",
    "    :return: is a dictionary that keys are integers and values are strings \n",
    "    \"\"\"\n",
    "    output: Dict[int, str] = dict()\n",
    "    for id_, first_name, last_name in zip(ids, first_names, last_names):\n",
    "        output[id_] = first_name + \" \" + last_name\n",
    "    return output\n",
    "output = get_full_name([1, 2], [\"pooya\", \"Mehdi\"], [\"Mohammadi\", \"Zamani\"])\n",
    "output"
   ]
  },
  {
   "cell_type": "markdown",
   "id": "c48c76f9",
   "metadata": {},
   "source": [
    "*Note:* We will get to this topic at tutorials about `pycharm`. IDEs like pycharm provide better functionalities regarding type hint."
   ]
  },
  {
   "cell_type": "markdown",
   "id": "9c7fd16d",
   "metadata": {},
   "source": [
    "*_:-)_*"
   ]
  }
 ],
 "metadata": {
  "kernelspec": {
   "display_name": "Python 3 (ipykernel)",
   "language": "python",
   "name": "python3"
  },
  "language_info": {
   "codemirror_mode": {
    "name": "ipython",
    "version": 3
   },
   "file_extension": ".py",
   "mimetype": "text/x-python",
   "name": "python",
   "nbconvert_exporter": "python",
   "pygments_lexer": "ipython3",
   "version": "3.10.6"
  }
 },
 "nbformat": 4,
 "nbformat_minor": 5
}
