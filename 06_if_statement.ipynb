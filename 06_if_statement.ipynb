{
 "cells": [
  {
   "cell_type": "markdown",
   "metadata": {},
   "source": [
    "## if statement\n",
    "    1. if statements\n",
    "    2. scopes\n",
    "    3. if ... else statements\n",
    "    4. nested if statements\n",
    "    5. Boolean value of different data types"
   ]
  },
  {
   "cell_type": "markdown",
   "metadata": {},
   "source": [
    "## if statement\n",
    "An if statement consists of a boolean expression followed by one or more lines of code.\n",
    "\n",
    "Structure:\n",
    "```\n",
    "if condition:\n",
    "    statement 1\n",
    "    statement 2\n",
    "    ...\n",
    "```"
   ]
  },
  {
   "cell_type": "code",
   "execution_count": 44,
   "metadata": {},
   "outputs": [
    {
     "name": "stdout",
     "output_type": "stream",
     "text": [
      "value of expression is 10\n",
      "wow\n"
     ]
    }
   ],
   "source": [
    "val = 10\n",
    "\n",
    "if val == 10:\n",
    "    print('value of expression is 10')\n",
    "print('wow')"
   ]
  },
  {
   "cell_type": "markdown",
   "metadata": {},
   "source": [
    "## Scope\n",
    "Before codes within if statement', tabs are used to separate main code flow from the ones within if group/scope\n",
    "\n",
    "Or simply tabs/4spaces/2spaces are used to create indented blocks..."
   ]
  },
  {
   "cell_type": "code",
   "execution_count": 47,
   "metadata": {},
   "outputs": [
    {
     "ename": "IndentationError",
     "evalue": "expected an indented block after 'if' statement on line 3 (637546560.py, line 4)",
     "output_type": "error",
     "traceback": [
      "\u001b[1;36m  Input \u001b[1;32mIn [47]\u001b[1;36m\u001b[0m\n\u001b[1;33m    print('value of expression is 100')\u001b[0m\n\u001b[1;37m    ^\u001b[0m\n\u001b[1;31mIndentationError\u001b[0m\u001b[1;31m:\u001b[0m expected an indented block after 'if' statement on line 3\n"
     ]
    }
   ],
   "source": [
    "# indentation error\n",
    "val = 100\n",
    "if val == 100:\n",
    "print('value of expression is 100')  \n",
    "print('wow')"
   ]
  },
  {
   "cell_type": "code",
   "execution_count": null,
   "metadata": {},
   "outputs": [],
   "source": [
    "val = int(input(\"please inter val:\"))\n",
    "if val == 100:\n",
    "    print('value of expression is 100')           \n",
    "print('wow')"
   ]
  },
  {
   "cell_type": "markdown",
   "metadata": {},
   "source": [
    "# if...else statement\n",
    "An if statement can be followed by an optional else statement, which is executed when the boolean expression is FALSE.\n",
    "\n",
    "Structure:\n",
    "```\n",
    "if condition:\n",
    "    block\n",
    "else:\n",
    "    ...\n",
    "```"
   ]
  },
  {
   "cell_type": "code",
   "execution_count": null,
   "metadata": {},
   "outputs": [],
   "source": [
    "height = 2.02\n",
    "\n",
    "if height > 2:\n",
    "    print('the guy is qualified to become a basketball player')   \n",
    "else:\n",
    "    print('the guy should follow other sport fields')   "
   ]
  },
  {
   "cell_type": "markdown",
   "metadata": {},
   "source": [
    "## nested if statements\n",
    "You can use one if or else if statement inside another if or else if(elif) statement(s).\n",
    "\n",
    "Structure:\n",
    "```\n",
    "if condition1:\n",
    "    block1\n",
    "elif condition2:\n",
    "    block2\n",
    "elif condition3:\n",
    "    block3\n",
    "\n",
    "...\n",
    "\n",
    "elifk conditionk:\n",
    "    blockk\n",
    "else:\n",
    "    ...\n",
    "```"
   ]
  },
  {
   "cell_type": "code",
   "execution_count": null,
   "metadata": {},
   "outputs": [],
   "source": [
    "height = 2.02\n",
    "\n",
    "if height > 2:\n",
    "    print('the guy is qualified to become a basketball player')\n",
    "elif height > 1.8:\n",
    "    print(\"the guy is qualified to become a volleyball player\")\n",
    "else:\n",
    "    print('the guy should follow other sport fields')   "
   ]
  },
  {
   "cell_type": "markdown",
   "metadata": {},
   "source": [
    "## Boolean value of different data types\n",
    "Python assumes any non-zero and non-none values as TRUE, and if it is either zero or none, then it is assumed as FALSE."
   ]
  },
  {
   "cell_type": "code",
   "execution_count": 48,
   "metadata": {},
   "outputs": [
    {
     "name": "stdout",
     "output_type": "stream",
     "text": [
      "zero is False\n"
     ]
    }
   ],
   "source": [
    "# zero used as condition is equal to False\n",
    "if 0:\n",
    "    print('impossible :(')\n",
    "else:\n",
    "    print('zero is False')"
   ]
  },
  {
   "cell_type": "code",
   "execution_count": 50,
   "metadata": {},
   "outputs": [
    {
     "name": "stdout",
     "output_type": "stream",
     "text": [
      "non-zero numeric values are True\n"
     ]
    }
   ],
   "source": [
    "# non-zero numeric values are True\n",
    "if -0.00000000000001:\n",
    "    print('non-zero numeric values are True')\n",
    "else:\n",
    "    print(\"this is not going to be executed!\")"
   ]
  },
  {
   "cell_type": "code",
   "execution_count": 51,
   "metadata": {},
   "outputs": [
    {
     "name": "stdout",
     "output_type": "stream",
     "text": [
      "None means False\n"
     ]
    }
   ],
   "source": [
    "# None is false\n",
    "val = None\n",
    "if val:  # val is None\n",
    "    print('impossible :(')\n",
    "else:\n",
    "    print('None means False')"
   ]
  },
  {
   "cell_type": "code",
   "execution_count": 54,
   "metadata": {},
   "outputs": [
    {
     "name": "stdout",
     "output_type": "stream",
     "text": [
      "empty sequence:  is equal to False\n"
     ]
    }
   ],
   "source": [
    "# empty sequecenses[list, tuple, str] are False\n",
    "empty_sequence = list() # str(), tuple()\n",
    "if empty_sequence:\n",
    "    print('impossible :(')\n",
    "else:\n",
    "    print(f'empty sequence: {empty_sequence} is equal to False')"
   ]
  },
  {
   "cell_type": "code",
   "execution_count": null,
   "metadata": {},
   "outputs": [],
   "source": [
    "# not recommended\n",
    "lst = [1, 2, 3]\n",
    "if len(lst) != 0: \n",
    "    index = 0\n",
    "    print(f\"item in lst[{index}] is {lst[index]}\")"
   ]
  },
  {
   "cell_type": "code",
   "execution_count": null,
   "metadata": {},
   "outputs": [],
   "source": [
    "# recommended\n",
    "lst = [1, 2, 3]\n",
    "if lst: \n",
    "    index = 0\n",
    "    print(f\"item in lst[{index}] is {lst[index]}\")"
   ]
  },
  {
   "cell_type": "markdown",
   "metadata": {},
   "source": [
    "*:)*"
   ]
  }
 ],
 "metadata": {
  "kernelspec": {
   "display_name": "Python 3 (ipykernel)",
   "language": "python",
   "name": "python3"
  },
  "language_info": {
   "codemirror_mode": {
    "name": "ipython",
    "version": 3
   },
   "file_extension": ".py",
   "mimetype": "text/x-python",
   "name": "python",
   "nbconvert_exporter": "python",
   "pygments_lexer": "ipython3",
   "version": "3.9.12"
  }
 },
 "nbformat": 4,
 "nbformat_minor": 2
}
