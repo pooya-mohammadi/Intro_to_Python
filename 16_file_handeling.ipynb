{
 "cells": [
  {
   "cell_type": "markdown",
   "metadata": {
    "pycharm": {
     "name": "#%% md\n"
    }
   },
   "source": [
    "## Handeling Files\n",
    "   1. 📂[Openning Files](#Openning_Files)\n",
    "   2. 🔒[Closing Files](#Closing_Files)\n",
    "   3. 📖[Reading Files](#Reading_Files)\n",
    "   4. ✍️[Writing Files](#Writing_Files)\n",
    "   5. 🚫[Delete File](#Delete_File)\n",
    "   6. 🔖[Delete Folder](#Delete_Folder)"
   ]
  },
  {
   "cell_type": "markdown",
   "metadata": {
    "pycharm": {
     "name": "#%% md\n"
    }
   },
   "source": [
    "#####   ⭐ \"r\" - Read - Default value. Opens a file for reading, error if the file does not exist\n",
    "\n",
    "#####   ⭐ \"r+\" - Read - Default value. Open the file for reading and writing. Raises I/O error if the file does not exists.\n",
    "\n",
    "#####       ⭐ \"a\" - Append - Opens a file for appending, creates the file if it does not exist\n",
    "\n",
    "#####       ⭐ \"a+\" - Open the file for reading and writing. The file is created if it does not exist. .The data being written will be inserted at the end,  after the existing data.\n",
    "\n",
    "#####       ⭐ \"w\" - Write - Opens a file for writing, creates the file if it does not exist\n",
    "\n",
    "#####       ⭐ \"w+\" -Open the file for reading and writing. For existing file, data is truncated and over-written\n",
    "\n"
   ]
  },
  {
   "cell_type": "markdown",
   "metadata": {
    "pycharm": {
     "name": "#%% md\n"
    }
   },
   "source": [
    "<a id=\"Openning_Files\"></a>\n",
    "### 📂Openning Files\n"
   ]
  },
  {
   "cell_type": "code",
   "execution_count": 7,
   "metadata": {
    "scrolled": true
   },
   "outputs": [],
   "source": [
    "#To open a file for reading it is enough to specify the name of the file:\n",
    "# (same directory) in append mode and \n",
    "file1 = open(\"MyFile.txt\")"
   ]
  },
  {
   "cell_type": "code",
   "execution_count": 8,
   "metadata": {
    "pycharm": {
     "name": "#%%\n"
    }
   },
   "outputs": [],
   "source": [
    "# The code above is the same as:\n",
    "# (same directory) in append mode and \n",
    "file1 = open(\"MyFile.txt\", \"r\") "
   ]
  },
  {
   "cell_type": "code",
   "execution_count": 5,
   "metadata": {
    "pycharm": {
     "name": "#%%\n"
    }
   },
   "outputs": [],
   "source": [
    "# store its reference in the variable file1 \n",
    "# and \"MyFile2.txt\" in D:\\Text in file2 \n",
    "file2 = open(r\"H:\\Python_DM\\Session_02_python_kntu\\MyFile2.txt\", \"w\") "
   ]
  },
  {
   "cell_type": "markdown",
   "metadata": {
    "pycharm": {
     "name": "#%% md\n"
    }
   },
   "source": [
    "<a id=\"Closing_Files\"></a>\n",
    "### 🔒Closing Files"
   ]
  },
  {
   "cell_type": "code",
   "execution_count": 9,
   "metadata": {
    "pycharm": {
     "name": "#%%\n"
    }
   },
   "outputs": [],
   "source": [
    "# Opening and Closing a file \"MyFile.txt\" \n",
    "# for object name file1. \n",
    "file1 = open(\"MyFile.txt\",\"a\") \n",
    "file1.close() \n"
   ]
  },
  {
   "cell_type": "markdown",
   "metadata": {
    "pycharm": {
     "name": "#%% md\n"
    }
   },
   "source": [
    "<a id=\"Reading_Files\"></a>\n",
    "### 📖Reading Files"
   ]
  },
  {
   "cell_type": "code",
   "execution_count": 10,
   "metadata": {
    "pycharm": {
     "name": "#%%\n"
    }
   },
   "outputs": [
    {
     "name": "stdout",
     "output_type": "stream",
     "text": [
      "pooya\n",
      "me\n",
      "we\n"
     ]
    }
   ],
   "source": [
    "# Python code to illustrate with() \n",
    "with open(\"MyFile.txt\") as file: \n",
    "    data = file.read()\n",
    "\n",
    "print(data)\n",
    "# do something with data \n"
   ]
  },
  {
   "cell_type": "code",
   "execution_count": 12,
   "metadata": {
    "pycharm": {
     "name": "#%%\n"
    }
   },
   "outputs": [
    {
     "name": "stdout",
     "output_type": "stream",
     "text": [
      "pooya\n",
      "\n",
      "me\n",
      "\n",
      "we\n"
     ]
    }
   ],
   "source": [
    "for line in open('MyFile.txt'):\n",
    "    print(line)"
   ]
  },
  {
   "cell_type": "code",
   "execution_count": 14,
   "metadata": {
    "pycharm": {
     "name": "#%%\n"
    }
   },
   "outputs": [
    {
     "name": "stdout",
     "output_type": "stream",
     "text": [
      "pooya\n",
      "\n",
      "me\n",
      "\n",
      "we\n"
     ]
    }
   ],
   "source": [
    "with open(\"MyFile.txt\") as file: \n",
    "    for line in file.readlines():\n",
    "        print(line)\n"
   ]
  },
  {
   "cell_type": "code",
   "execution_count": 18,
   "metadata": {
    "pycharm": {
     "name": "#%%\n"
    }
   },
   "outputs": [
    {
     "data": {
      "text/plain": [
       "['pooya\\n', 'me\\n', 'we']"
      ]
     },
     "execution_count": 18,
     "metadata": {},
     "output_type": "execute_result"
    }
   ],
   "source": [
    "files=open(\"MyFile.txt\")\n",
    "lines = files.readlines()\n",
    "lines"
   ]
  },
  {
   "cell_type": "code",
   "execution_count": 15,
   "metadata": {
    "pycharm": {
     "name": "#%%\n"
    }
   },
   "outputs": [
    {
     "name": "stdout",
     "output_type": "stream",
     "text": [
      "pooya\n",
      "me\n",
      "we\n"
     ]
    }
   ],
   "source": [
    "with open(\"MyFile.txt\") as file: \n",
    "    print(file.read())"
   ]
  },
  {
   "cell_type": "markdown",
   "metadata": {
    "pycharm": {
     "name": "#%% md\n"
    }
   },
   "source": [
    "<a id=\"Writing_Files\"></a>\n",
    "### ✍️Writing Files"
   ]
  },
  {
   "cell_type": "code",
   "execution_count": 19,
   "metadata": {
    "pycharm": {
     "name": "#%%\n"
    }
   },
   "outputs": [],
   "source": [
    "with open(\"file.txt\", \"w\") as f:  \n",
    "    f.write(\"Hello World!!!\") "
   ]
  },
  {
   "cell_type": "code",
   "execution_count": 30,
   "metadata": {
    "pycharm": {
     "name": "#%%\n"
    }
   },
   "outputs": [],
   "source": [
    "file = open('file.txt', 'r')"
   ]
  },
  {
   "cell_type": "code",
   "execution_count": 32,
   "metadata": {
    "pycharm": {
     "name": "#%%\n"
    }
   },
   "outputs": [
    {
     "data": {
      "text/plain": [
       "[]"
      ]
     },
     "execution_count": 32,
     "metadata": {},
     "output_type": "execute_result"
    }
   ],
   "source": [
    "file.readlines()"
   ]
  },
  {
   "cell_type": "code",
   "execution_count": 28,
   "metadata": {
    "pycharm": {
     "name": "#%%\n"
    }
   },
   "outputs": [
    {
     "data": {
      "text/plain": [
       "0"
      ]
     },
     "execution_count": 28,
     "metadata": {},
     "output_type": "execute_result"
    }
   ],
   "source": [
    "#After reading the file once and moving the cursor to the end of the line:\n",
    "file.seek(0)"
   ]
  },
  {
   "cell_type": "markdown",
   "metadata": {
    "pycharm": {
     "name": "#%% md\n"
    }
   },
   "source": [
    "*:)*"
   ]
  },
  {
   "cell_type": "markdown",
   "metadata": {},
   "source": [
    "<a id=\"Delete_File\"></a>\n",
    "### 🚫Delete a File"
   ]
  },
  {
   "cell_type": "code",
   "execution_count": 11,
   "metadata": {},
   "outputs": [],
   "source": [
    "#To delete a file, you must import the OS module, and run its os.remove() function: \n",
    "import os\n",
    "os.remove(\"MyFile.txt\")"
   ]
  },
  {
   "cell_type": "code",
   "execution_count": 12,
   "metadata": {},
   "outputs": [
    {
     "name": "stdout",
     "output_type": "stream",
     "text": [
      "The file does not exist\n"
     ]
    }
   ],
   "source": [
    "#Check if File exist:\n",
    "import os\n",
    "if os.path.exists(\"demofile.txt\"):\n",
    "    os.remove(\"demofile.txt\")\n",
    "else:\n",
    "    print(\"The file does not exist\")"
   ]
  },
  {
   "cell_type": "markdown",
   "metadata": {},
   "source": [
    "<a id=\"Delete_Folder\"></a>\n",
    "### 🔖Delete Folder"
   ]
  },
  {
   "cell_type": "code",
   "execution_count": null,
   "metadata": {},
   "outputs": [],
   "source": [
    "#To delete an entire folder, use the os.rmdir() method:\n",
    "import os\n",
    "os.rmdir(\"your_folder\")"
   ]
  }
 ],
 "metadata": {
  "kernelspec": {
   "display_name": "Python 3 (ipykernel)",
   "language": "python",
   "name": "python3"
  },
  "language_info": {
   "codemirror_mode": {
    "name": "ipython",
    "version": 3
   },
   "file_extension": ".py",
   "mimetype": "text/x-python",
   "name": "python",
   "nbconvert_exporter": "python",
   "pygments_lexer": "ipython3",
   "version": "3.9.12"
  }
 },
 "nbformat": 4,
 "nbformat_minor": 2
}
