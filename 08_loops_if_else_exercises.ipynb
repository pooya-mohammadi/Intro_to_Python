{
 "cells": [
  {
   "cell_type": "markdown",
   "metadata": {},
   "source": [
    "# Exercises\n",
    "\n",
    "1. Write a python program to detect integer items in a list of string items, cast them into int, and print/return them out.\n",
    "\n",
    "example: \n",
    "input: lst = ['11', 'pooya', '10', '10.5', \"32K232\", \"0\"]\n",
    "\n",
    "    result: 11 10 0\n",
    "\n",
    "    Note: in this exercise, you are not allowed to use:\n",
    "    try except, str.isdecimal, str.isdigit, and so on. \n",
    "    just use: for, while, True False if, and so on. \n",
    "    hint: you should have two nested for-loops"
   ]
  },
  {
   "cell_type": "code",
   "execution_count": null,
   "metadata": {},
   "outputs": [],
   "source": [
    "# answer"
   ]
  },
  {
   "cell_type": "markdown",
   "metadata": {},
   "source": [
    "2. Write a python program to print all even numbers from a given list of numbers in the same order.\n",
    "Sample numbers list :\n",
    "\n",
    "numbers = [386, 462, 47, 418, 907, 344, 236, 375, 823, 566, 597, 978, 328, 615, 953, 345, \n",
    "    399, 162, 758, 219, 918, 237, 412, 566, 826, 248, 866, 950, 626, 949, 687, 217, \n",
    "    815, 67, 104, 58, 512, 24, 892, 894, 767, 553, 81, 379, 843, 831, 445, 742, 717, \n",
    "    958,743, 527\n",
    "    ]\n"
   ]
  },
  {
   "cell_type": "code",
   "execution_count": null,
   "metadata": {},
   "outputs": [],
   "source": [
    "# answer"
   ]
  },
  {
   "cell_type": "markdown",
   "metadata": {},
   "source": [
    "3. Write a python program to sum two given integers. If the sum is within the range of 15 to 20, it returns 20. Otherwise it returns/prints the sum."
   ]
  },
  {
   "cell_type": "code",
   "execution_count": 8,
   "metadata": {},
   "outputs": [
    {
     "name": "stdout",
     "output_type": "stream",
     "text": [
      "insert first num:12\n",
      "insert second num:10\n"
     ]
    }
   ],
   "source": [
    "first_num = int(input(\"insert first num:\"))\n",
    "second_num = int(input(\"insert second num:\"))\n",
    "# answer"
   ]
  },
  {
   "cell_type": "markdown",
   "metadata": {},
   "source": [
    "4. Write a Python program to count the members of a list and print them. \n",
    "\n",
    "    Note: Count string items in a case insensitive manner.\n",
    "\n",
    "    example = [1, 5, 6, 1, 1, 's', 'S', 'pooya', \"Pooya\"]\n",
    "\n",
    "    res:\n",
    "\n",
    "        1 >>> 3\n",
    "        5 >>> 1\n",
    "        6 >>> 1\n",
    "        's' >>> 2\n",
    "        'pooya' >>> 2\n",
    "\n",
    "    note: in this exercise, you are not allowed to use:\n",
    "    collection.Counter, np.unique, list.count, and so on.\n",
    "    just use for, while, True, False, and ..."
   ]
  },
  {
   "cell_type": "code",
   "execution_count": null,
   "metadata": {},
   "outputs": [],
   "source": [
    "# answer"
   ]
  },
  {
   "cell_type": "markdown",
   "metadata": {},
   "source": [
    "5. Make a two-player Rock-Paper-Scissors game. \n",
    "    1. Ask players to play and get their stands by calling the `input` function two times(each time for each player),\n",
    "    2. compare the two inputs,\n",
    "    3. print out a message of congratulation to the winner, \n",
    "    4. and ask whether the players want to play a new round.\n",
    "    1. If player returns y or yes, it mean they want to play another round. \n",
    "    2. Otherwise, break the loop and exit the code with an appropriate goodbye message!"
   ]
  },
  {
   "cell_type": "code",
   "execution_count": null,
   "metadata": {},
   "outputs": [],
   "source": [
    "# answer"
   ]
  },
  {
   "cell_type": "markdown",
   "metadata": {},
   "source": [
    "6. Write a program that asks the user how many Fibonnaci numbers to generate and then generates them. Make sure to ask the user to enter the number of numbers in the sequence to generate.(Hint: The Fibonnaci seqence is a sequence of numbers which the next number in the sequence is the sum of the previous two numbers to it. The sequence looks like this: 1, 1, 2, 3, 5, 8, 13, …)"
   ]
  },
  {
   "cell_type": "code",
   "execution_count": null,
   "metadata": {},
   "outputs": [],
   "source": [
    "number_of_elements = int(input('Enter how many elements of Fibonnaci you want: '))\n",
    "# answer"
   ]
  },
  {
   "cell_type": "markdown",
   "metadata": {},
   "source": [
    "7. Check a pre-defined password with user inputs for 3 times; let them pass if they're correct with less than 3 tries. Inform the user of being blocked if they enter more password incorrectly more than 4 times"
   ]
  },
  {
   "cell_type": "code",
   "execution_count": null,
   "metadata": {},
   "outputs": [],
   "source": [
    "PASSWORD = \"P@s$W0rd\"\n",
    "\n",
    "while True:\n",
    "    user_pass = input(\"insert your password:\")\n",
    "    # rest of the code.."
   ]
  },
  {
   "cell_type": "markdown",
   "metadata": {},
   "source": [
    "*_:)_*"
   ]
  }
 ],
 "metadata": {
  "kernelspec": {
   "display_name": "Python 3 (ipykernel)",
   "language": "python",
   "name": "python3"
  },
  "language_info": {
   "codemirror_mode": {
    "name": "ipython",
    "version": 3
   },
   "file_extension": ".py",
   "mimetype": "text/x-python",
   "name": "python",
   "nbconvert_exporter": "python",
   "pygments_lexer": "ipython3",
   "version": "3.9.12"
  }
 },
 "nbformat": 4,
 "nbformat_minor": 2
}
