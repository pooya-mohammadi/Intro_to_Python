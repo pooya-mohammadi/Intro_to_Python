{
 "cells": [
  {
   "cell_type": "markdown",
   "id": "291116d3",
   "metadata": {},
   "source": [
    "# generator\n",
    "1.function</p>\n",
    "2.experession"
   ]
  },
  {
   "cell_type": "markdown",
   "id": "2a8db16d",
   "metadata": {},
   "source": [
    "#### function"
   ]
  },
  {
   "cell_type": "code",
   "execution_count": 2,
   "id": "522b00ed",
   "metadata": {},
   "outputs": [
    {
     "name": "stdout",
     "output_type": "stream",
     "text": [
      "pooya...\n"
     ]
    }
   ],
   "source": [
    "def pooya():\n",
    "    return 'pooya...'\n",
    "print(pooya())"
   ]
  },
  {
   "cell_type": "code",
   "execution_count": 4,
   "id": "ccbbc8d8",
   "metadata": {},
   "outputs": [
    {
     "name": "stdout",
     "output_type": "stream",
     "text": [
      "<generator object pooya_1 at 0x000001BE69F551C0>\n"
     ]
    }
   ],
   "source": [
    "def pooya_1():\n",
    "    yield 'pooya...'\n",
    "print(pooya_1())    "
   ]
  },
  {
   "cell_type": "code",
   "execution_count": 5,
   "id": "c5ad366c",
   "metadata": {},
   "outputs": [
    {
     "name": "stdout",
     "output_type": "stream",
     "text": [
      "pooya...\n"
     ]
    }
   ],
   "source": [
    "def pooya():\n",
    "    return 'pooya...'\n",
    "    return 'mohammadi...'#unreachable\n",
    "print(pooya())"
   ]
  },
  {
   "cell_type": "code",
   "execution_count": 10,
   "id": "82624880",
   "metadata": {},
   "outputs": [
    {
     "name": "stdout",
     "output_type": "stream",
     "text": [
      "['pooya...', 'mohammadi...']\n"
     ]
    }
   ],
   "source": [
    "def pooya_1():\n",
    "    yield 'pooya...'\n",
    "    yield 'mohammadi...'\n",
    "print([item for item in pooya_1()])  "
   ]
  },
  {
   "cell_type": "code",
   "execution_count": 11,
   "id": "1472267e",
   "metadata": {},
   "outputs": [
    {
     "name": "stdout",
     "output_type": "stream",
     "text": [
      "pooya...\n"
     ]
    }
   ],
   "source": [
    "p = pooya_1()\n",
    "print(next(p))"
   ]
  },
  {
   "cell_type": "code",
   "execution_count": 12,
   "id": "a7e1f363",
   "metadata": {},
   "outputs": [
    {
     "name": "stdout",
     "output_type": "stream",
     "text": [
      "mohammadi...\n"
     ]
    }
   ],
   "source": [
    "print(next(p))"
   ]
  },
  {
   "cell_type": "code",
   "execution_count": 13,
   "id": "d911f794",
   "metadata": {},
   "outputs": [],
   "source": [
    "def number(number):\n",
    "    while number > 0:\n",
    "        yield number \n",
    "        number -= 1"
   ]
  },
  {
   "cell_type": "code",
   "execution_count": 21,
   "id": "2e03e31a",
   "metadata": {},
   "outputs": [
    {
     "name": "stdout",
     "output_type": "stream",
     "text": [
      "4\n"
     ]
    }
   ],
   "source": [
    "num = number(4)\n",
    "print(next(num))"
   ]
  },
  {
   "cell_type": "code",
   "execution_count": 22,
   "id": "d9ec93d1",
   "metadata": {},
   "outputs": [
    {
     "name": "stdout",
     "output_type": "stream",
     "text": [
      "3\n"
     ]
    }
   ],
   "source": [
    "print(next(num))"
   ]
  },
  {
   "cell_type": "code",
   "execution_count": 23,
   "id": "e578a9c0",
   "metadata": {},
   "outputs": [
    {
     "name": "stdout",
     "output_type": "stream",
     "text": [
      "2\n"
     ]
    }
   ],
   "source": [
    "print(next(num))"
   ]
  },
  {
   "cell_type": "code",
   "execution_count": 24,
   "id": "7b2415cf",
   "metadata": {},
   "outputs": [
    {
     "name": "stdout",
     "output_type": "stream",
     "text": [
      "1\n"
     ]
    }
   ],
   "source": [
    "print(next(num))"
   ]
  },
  {
   "cell_type": "code",
   "execution_count": 25,
   "id": "c515b71c",
   "metadata": {},
   "outputs": [
    {
     "ename": "StopIteration",
     "evalue": "",
     "output_type": "error",
     "traceback": [
      "\u001b[1;31m---------------------------------------------------------------------------\u001b[0m",
      "\u001b[1;31mStopIteration\u001b[0m                             Traceback (most recent call last)",
      "Cell \u001b[1;32mIn [25], line 1\u001b[0m\n\u001b[1;32m----> 1\u001b[0m \u001b[38;5;28mprint\u001b[39m(\u001b[38;5;28mnext\u001b[39m(num))\n",
      "\u001b[1;31mStopIteration\u001b[0m: "
     ]
    }
   ],
   "source": [
    "print(next(num))"
   ]
  },
  {
   "cell_type": "markdown",
   "id": "ed1cdc0f",
   "metadata": {},
   "source": [
    "#### expression"
   ]
  },
  {
   "cell_type": "code",
   "execution_count": 29,
   "id": "ff856bd3",
   "metadata": {},
   "outputs": [
    {
     "name": "stdout",
     "output_type": "stream",
     "text": [
      "[0, 2, 4, 6, 8, 10]\n"
     ]
    }
   ],
   "source": [
    "even_num = [num for num in range(11) if num%2==0]\n",
    "print(even_num)"
   ]
  },
  {
   "cell_type": "code",
   "execution_count": 38,
   "id": "c7e184ac",
   "metadata": {},
   "outputs": [
    {
     "name": "stdout",
     "output_type": "stream",
     "text": [
      "<generator object <genexpr> at 0x000001BE6C7A0190>\n"
     ]
    }
   ],
   "source": [
    "even_num = (num for num in range(11) if num%2==0)\n",
    "print(even_num) #lazy Evaluation"
   ]
  },
  {
   "cell_type": "code",
   "execution_count": 39,
   "id": "ff601fe4",
   "metadata": {},
   "outputs": [
    {
     "name": "stdout",
     "output_type": "stream",
     "text": [
      "0\n"
     ]
    }
   ],
   "source": [
    "print(next(even_num))"
   ]
  },
  {
   "cell_type": "code",
   "execution_count": 40,
   "id": "ceea9cfd",
   "metadata": {},
   "outputs": [
    {
     "name": "stdout",
     "output_type": "stream",
     "text": [
      "2\n"
     ]
    }
   ],
   "source": [
    "print(next(even_num))"
   ]
  },
  {
   "cell_type": "code",
   "execution_count": 41,
   "id": "a0f01449",
   "metadata": {},
   "outputs": [
    {
     "name": "stdout",
     "output_type": "stream",
     "text": [
      "4\n"
     ]
    }
   ],
   "source": [
    "print(next(even_num))"
   ]
  },
  {
   "cell_type": "code",
   "execution_count": 42,
   "id": "cbea281f",
   "metadata": {},
   "outputs": [
    {
     "name": "stdout",
     "output_type": "stream",
     "text": [
      "6\n"
     ]
    }
   ],
   "source": [
    "print(next(even_num))"
   ]
  },
  {
   "cell_type": "code",
   "execution_count": 43,
   "id": "33b58909",
   "metadata": {},
   "outputs": [
    {
     "name": "stdout",
     "output_type": "stream",
     "text": [
      "8\n"
     ]
    }
   ],
   "source": [
    "print(next(even_num))"
   ]
  },
  {
   "cell_type": "code",
   "execution_count": 44,
   "id": "e987bfd9",
   "metadata": {},
   "outputs": [
    {
     "name": "stdout",
     "output_type": "stream",
     "text": [
      "10\n"
     ]
    }
   ],
   "source": [
    "print(next(even_num))"
   ]
  },
  {
   "cell_type": "code",
   "execution_count": 45,
   "id": "adb92000",
   "metadata": {},
   "outputs": [
    {
     "ename": "StopIteration",
     "evalue": "",
     "output_type": "error",
     "traceback": [
      "\u001b[1;31m---------------------------------------------------------------------------\u001b[0m",
      "\u001b[1;31mStopIteration\u001b[0m                             Traceback (most recent call last)",
      "Cell \u001b[1;32mIn [45], line 1\u001b[0m\n\u001b[1;32m----> 1\u001b[0m \u001b[38;5;28mprint\u001b[39m(\u001b[38;5;28mnext\u001b[39m(even_num))\n",
      "\u001b[1;31mStopIteration\u001b[0m: "
     ]
    }
   ],
   "source": [
    "print(next(even_num))"
   ]
  },
  {
   "cell_type": "code",
   "execution_count": null,
   "id": "c2fb6958",
   "metadata": {},
   "outputs": [],
   "source": []
  }
 ],
 "metadata": {
  "kernelspec": {
   "display_name": "Python 3 (ipykernel)",
   "language": "python",
   "name": "python3"
  },
  "language_info": {
   "codemirror_mode": {
    "name": "ipython",
    "version": 3
   },
   "file_extension": ".py",
   "mimetype": "text/x-python",
   "name": "python",
   "nbconvert_exporter": "python",
   "pygments_lexer": "ipython3",
   "version": "3.10.7"
  }
 },
 "nbformat": 4,
 "nbformat_minor": 5
}
