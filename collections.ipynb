{
 "cells": [
  {
   "cell_type": "markdown",
   "id": "bfd911d3",
   "metadata": {},
   "source": [
    "## Collection\n",
    "| 01         | [ChainMap](#ChainMap)         | dict-like class for creating a single view of multiple mappingss </p></p>\n",
    "| 02            | [namedtuple()](#namedtuple())       | factory function for creating tuple subclasses with named fields </p></p>\n",
    "| 03            | [Counter](#Counter)           | dict subclass for counting hashable objects</p>\n",
    "| 04            | [defaultdict](#defaultdict)   | dict subclass that calls a factory function to supply missing values </p>"
   ]
  },
  {
   "cell_type": "markdown",
   "id": "a3f3eb93",
   "metadata": {},
   "source": [
    "### ChainMap\n",
    "<a id = \"ChainMap\" ></a>"
   ]
  },
  {
   "cell_type": "code",
   "execution_count": 2,
   "id": "0363e849",
   "metadata": {},
   "outputs": [],
   "source": [
    "from collections import ChainMap "
   ]
  },
  {
   "cell_type": "code",
   "execution_count": 9,
   "id": "e2040f72",
   "metadata": {},
   "outputs": [],
   "source": [
    "dict_1 = {'a': 1, 'b': 2} \n",
    "dict_2 = {'c': 3, 'd': 4} \n",
    "dict_3 = {'e': 5, 'f': 6} "
   ]
  },
  {
   "cell_type": "code",
   "execution_count": 8,
   "id": "461d29aa",
   "metadata": {},
   "outputs": [
    {
     "data": {
      "text/plain": [
       "ChainMap({'a': 1, 'b': 2}, {'c': 3, 'd': 4}, {'e': 5, 'f': 6})"
      ]
     },
     "execution_count": 8,
     "metadata": {},
     "output_type": "execute_result"
    }
   ],
   "source": [
    "# Defining the chainmap  \n",
    "result = ChainMap(dict_1, dict_2, dict_3)\n",
    "result"
   ]
  },
  {
   "cell_type": "code",
   "execution_count": 11,
   "id": "254d4d73",
   "metadata": {},
   "outputs": [
    {
     "data": {
      "text/plain": [
       "[{'a': 1, 'b': 2}, {'c': 3, 'd': 4}, {'e': 5, 'f': 6}]"
      ]
     },
     "execution_count": 11,
     "metadata": {},
     "output_type": "execute_result"
    }
   ],
   "source": [
    "result.maps"
   ]
  },
  {
   "cell_type": "code",
   "execution_count": 10,
   "id": "b6b14355",
   "metadata": {},
   "outputs": [
    {
     "data": {
      "text/plain": [
       "['e', 'f', 'c', 'd', 'a', 'b']"
      ]
     },
     "execution_count": 10,
     "metadata": {},
     "output_type": "execute_result"
    }
   ],
   "source": [
    "list(result.keys())"
   ]
  },
  {
   "cell_type": "code",
   "execution_count": 15,
   "id": "f194b518",
   "metadata": {},
   "outputs": [],
   "source": [
    "dict_4 = {'s': 6, 'b': 0}"
   ]
  },
  {
   "cell_type": "code",
   "execution_count": 37,
   "id": "9f625aea",
   "metadata": {},
   "outputs": [
    {
     "data": {
      "text/plain": [
       "ChainMap({'s': 6, 'b': 0}, {'a': 1, 'b': 2}, {'c': 3, 'd': 4}, {'e': 5, 'f': 6})"
      ]
     },
     "execution_count": 37,
     "metadata": {},
     "output_type": "execute_result"
    }
   ],
   "source": [
    "res = result.new_child(dict_4)\n",
    "res"
   ]
  },
  {
   "cell_type": "code",
   "execution_count": 41,
   "id": "11bcd6b1",
   "metadata": {},
   "outputs": [
    {
     "data": {
      "text/plain": [
       "ChainMap({'s': 6, 'b': 0}, {'a': 1, 'b': 2}, {'c': 3, 'd': 4}, {'e': 5, 'f': 6}, {'m': 13}, {'m': 13})"
      ]
     },
     "execution_count": 41,
     "metadata": {},
     "output_type": "execute_result"
    }
   ],
   "source": [
    "res.maps.append({'m': 13})\n",
    "res"
   ]
  },
  {
   "cell_type": "code",
   "execution_count": 40,
   "id": "8f356039",
   "metadata": {},
   "outputs": [
    {
     "name": "stdout",
     "output_type": "stream",
     "text": [
      "{'s': 6, 'b': 0}\n",
      "{'a': 1, 'b': 2}\n",
      "{'c': 3, 'd': 4}\n",
      "{'e': 5, 'f': 6}\n",
      "{'m': 13}\n"
     ]
    }
   ],
   "source": [
    "for mapping in res.maps:\n",
    "    print(mapping)"
   ]
  },
  {
   "cell_type": "code",
   "execution_count": 44,
   "id": "09831470",
   "metadata": {},
   "outputs": [
    {
     "name": "stdout",
     "output_type": "stream",
     "text": [
      "m --- 13\n",
      "e --- 5\n",
      "f --- 6\n",
      "c --- 3\n",
      "d --- 4\n",
      "a --- 1\n",
      "b --- 0\n",
      "s --- 6\n"
     ]
    }
   ],
   "source": [
    "for key, value in res.items():\n",
    "    print(key,'---', value)\n",
    "    "
   ]
  },
  {
   "cell_type": "code",
   "execution_count": 17,
   "id": "21a5134d",
   "metadata": {},
   "outputs": [
    {
     "data": {
      "text/plain": [
       "0"
      ]
     },
     "execution_count": 17,
     "metadata": {},
     "output_type": "execute_result"
    }
   ],
   "source": [
    "res['b']"
   ]
  },
  {
   "cell_type": "code",
   "execution_count": 26,
   "id": "79314ffb",
   "metadata": {},
   "outputs": [
    {
     "data": {
      "text/plain": [
       "ChainMap({'e': 5, 'f': 6}, {'c': 3, 'd': 4}, {'a': 1, 'b': 2}, {'s': 6, 'b': 0})"
      ]
     },
     "execution_count": 26,
     "metadata": {},
     "output_type": "execute_result"
    }
   ],
   "source": [
    "res.maps = reversed(res.maps)\n",
    "res"
   ]
  },
  {
   "cell_type": "code",
   "execution_count": 22,
   "id": "9755b9d2",
   "metadata": {},
   "outputs": [
    {
     "data": {
      "text/plain": [
       "2"
      ]
     },
     "execution_count": 22,
     "metadata": {},
     "output_type": "execute_result"
    }
   ],
   "source": [
    "res['b']"
   ]
  },
  {
   "cell_type": "code",
   "execution_count": 30,
   "id": "be2efffa",
   "metadata": {},
   "outputs": [],
   "source": [
    "dict_1 = {'a': 1, 'b': 2} \n",
    "dict_2 = {'c': 3, 'd': 4} \n",
    "dict_3 = {'e': 5, 'f': 6} \n",
    "dict_4 = {'s': 6, 'b': 0}"
   ]
  },
  {
   "cell_type": "code",
   "execution_count": 31,
   "id": "d93b30b4",
   "metadata": {},
   "outputs": [],
   "source": [
    "res_ = {}\n",
    "res_.update(dict_1)\n",
    "res_.update(dict_2)\n",
    "res_.update(dict_3)\n",
    "res_.update(dict_4)\n",
    "res_.update(dict_5)"
   ]
  },
  {
   "cell_type": "code",
   "execution_count": 32,
   "id": "cab51e36",
   "metadata": {},
   "outputs": [
    {
     "data": {
      "text/plain": [
       "{'a': 1, 'b': 0, 'c': 3, 'd': 4, 'e': 5, 'f': 6, 's': 6, 'l': 11, 'm': 12}"
      ]
     },
     "execution_count": 32,
     "metadata": {},
     "output_type": "execute_result"
    }
   ],
   "source": [
    "res_ # throwing out the ability to manage and prioritize the access to repeated keys using multiple scopes or contexts. "
   ]
  },
  {
   "cell_type": "markdown",
   "id": "a166383a",
   "metadata": {},
   "source": [
    "<a id = \"namedtuple()\" ></a>\n",
    "### namedtuple()"
   ]
  },
  {
   "cell_type": "code",
   "execution_count": 4,
   "id": "77fceaf0",
   "metadata": {},
   "outputs": [],
   "source": [
    "from collections import namedtuple"
   ]
  },
  {
   "cell_type": "code",
   "execution_count": 5,
   "id": "76cf132c",
   "metadata": {},
   "outputs": [],
   "source": [
    "Student = namedtuple('Student', ['name', 'age', 'DOB'])"
   ]
  },
  {
   "cell_type": "code",
   "execution_count": 6,
   "id": "073eeb69",
   "metadata": {},
   "outputs": [
    {
     "data": {
      "text/plain": [
       "Student(name='Zahra', age=21, DOB='1380')"
      ]
     },
     "execution_count": 6,
     "metadata": {},
     "output_type": "execute_result"
    }
   ],
   "source": [
    "S_1 = Student('Zahra', 21, '1380')\n",
    "S_1"
   ]
  },
  {
   "cell_type": "code",
   "execution_count": 7,
   "id": "c069c08d",
   "metadata": {},
   "outputs": [
    {
     "data": {
      "text/plain": [
       "21"
      ]
     },
     "execution_count": 7,
     "metadata": {},
     "output_type": "execute_result"
    }
   ],
   "source": [
    "S_1[1]"
   ]
  },
  {
   "cell_type": "code",
   "execution_count": 13,
   "id": "9075aecc",
   "metadata": {},
   "outputs": [
    {
     "data": {
      "text/plain": [
       "Student(name='Anahid', age=21, DOB='1380')"
      ]
     },
     "execution_count": 13,
     "metadata": {},
     "output_type": "execute_result"
    }
   ],
   "source": [
    "S_1._replace(name='Anahid')"
   ]
  },
  {
   "cell_type": "code",
   "execution_count": 8,
   "id": "1af6422a",
   "metadata": {},
   "outputs": [],
   "source": [
    "dic = {'name': \"Fereshteh\", 'age': 19, 'DOB': '1381'}"
   ]
  },
  {
   "cell_type": "code",
   "execution_count": 9,
   "id": "3279ffc2",
   "metadata": {},
   "outputs": [
    {
     "data": {
      "text/plain": [
       "Student(name='Fereshteh', age=19, DOB='1381')"
      ]
     },
     "execution_count": 9,
     "metadata": {},
     "output_type": "execute_result"
    }
   ],
   "source": [
    "Student(**dic)"
   ]
  },
  {
   "cell_type": "code",
   "execution_count": 10,
   "id": "47c965a3",
   "metadata": {},
   "outputs": [],
   "source": [
    "li = ['pooya', 28, '1373']"
   ]
  },
  {
   "cell_type": "code",
   "execution_count": 11,
   "id": "300e6a05",
   "metadata": {},
   "outputs": [
    {
     "data": {
      "text/plain": [
       "Student(name='pooya', age=28, DOB='1373')"
      ]
     },
     "execution_count": 11,
     "metadata": {},
     "output_type": "execute_result"
    }
   ],
   "source": [
    "Student._make(li)"
   ]
  },
  {
   "cell_type": "markdown",
   "id": "3975daae",
   "metadata": {},
   "source": [
    "<a id = \"Counter\" ></a>\n",
    "### Counter"
   ]
  },
  {
   "cell_type": "code",
   "execution_count": 22,
   "id": "debe780c",
   "metadata": {},
   "outputs": [
    {
     "data": {
      "text/plain": [
       "{'g': 2, 'e': 4, 'k': 2, 's': 2, 'f': 1, 'o': 1, 'r': 1}"
      ]
     },
     "execution_count": 22,
     "metadata": {},
     "output_type": "execute_result"
    }
   ],
   "source": [
    "word = \"geeksforgeeks\"\n",
    "counter = {}\n",
    "for letter in word:\n",
    "    counter[letter] = counter.get(letter, 0) + 1\n",
    "\n",
    "\n",
    "counter"
   ]
  },
  {
   "cell_type": "code",
   "execution_count": 14,
   "id": "a8062e3f",
   "metadata": {},
   "outputs": [],
   "source": [
    "from collections import Counter"
   ]
  },
  {
   "cell_type": "code",
   "execution_count": 15,
   "id": "e74b6445",
   "metadata": {},
   "outputs": [
    {
     "data": {
      "text/plain": [
       "Counter({'g': 2, 'e': 4, 'k': 2, 's': 2, 'f': 1, 'o': 1, 'r': 1})"
      ]
     },
     "execution_count": 15,
     "metadata": {},
     "output_type": "execute_result"
    }
   ],
   "source": [
    "example = Counter(\"geeksforgeeks\")\n",
    "example"
   ]
  },
  {
   "cell_type": "code",
   "execution_count": 17,
   "id": "ad2a3c19",
   "metadata": {},
   "outputs": [
    {
     "name": "stdout",
     "output_type": "stream",
     "text": [
      "g g e e e e k k s s f o r "
     ]
    }
   ],
   "source": [
    "for item in example.elements():\n",
    "    print (item, end = \" \")"
   ]
  },
  {
   "cell_type": "code",
   "execution_count": 19,
   "id": "a21cd697",
   "metadata": {},
   "outputs": [
    {
     "data": {
      "text/plain": [
       "Counter({'geeks': 4, 'for': 1, 'gfg': 2, 'python': 3})"
      ]
     },
     "execution_count": 19,
     "metadata": {},
     "output_type": "execute_result"
    }
   ],
   "source": [
    "example_2 = Counter({'geeks' : 4, 'for' : 1, 'gfg' : 2, 'python' : 3})\n",
    "example_2"
   ]
  },
  {
   "cell_type": "code",
   "execution_count": 20,
   "id": "7ba849ae",
   "metadata": {},
   "outputs": [
    {
     "name": "stdout",
     "output_type": "stream",
     "text": [
      "geeks geeks geeks geeks for gfg gfg python python python "
     ]
    }
   ],
   "source": [
    "for item in example_2.elements():\n",
    "    print ( item, end = \" \")"
   ]
  },
  {
   "cell_type": "code",
   "execution_count": 23,
   "id": "0eeb0350",
   "metadata": {},
   "outputs": [
    {
     "data": {
      "text/plain": [
       "Counter({'i': 6, 's': 6, 'p': 2, 'm': 2, 'o': 1, 'u': 1, 'r': 1})"
      ]
     },
     "execution_count": 23,
     "metadata": {},
     "output_type": "execute_result"
    }
   ],
   "source": [
    "letters = Counter({\"i\": 4, \"s\": 4, \"p\": 2, \"m\": 1})\n",
    "letters.update(\"missouri\")\n",
    "letters"
   ]
  },
  {
   "cell_type": "markdown",
   "id": "924b21e1",
   "metadata": {},
   "source": [
    "<a id = \"defaultdict\" ></a>\n",
    "### defaultdict()"
   ]
  },
  {
   "cell_type": "code",
   "execution_count": 25,
   "id": "23c83b3f",
   "metadata": {},
   "outputs": [
    {
     "name": "stdout",
     "output_type": "stream",
     "text": [
      "1\n",
      "2\n"
     ]
    },
    {
     "ename": "KeyError",
     "evalue": "'c'",
     "output_type": "error",
     "traceback": [
      "\u001b[1;31m---------------------------------------------------------------------------\u001b[0m",
      "\u001b[1;31mKeyError\u001b[0m                                  Traceback (most recent call last)",
      "Cell \u001b[1;32mIn [25], line 7\u001b[0m\n\u001b[0;32m      5\u001b[0m \u001b[38;5;28mprint\u001b[39m(dic[\u001b[38;5;124m\"\u001b[39m\u001b[38;5;124ma\u001b[39m\u001b[38;5;124m\"\u001b[39m])\n\u001b[0;32m      6\u001b[0m \u001b[38;5;28mprint\u001b[39m(dic[\u001b[38;5;124m\"\u001b[39m\u001b[38;5;124mb\u001b[39m\u001b[38;5;124m\"\u001b[39m])\n\u001b[1;32m----> 7\u001b[0m \u001b[38;5;28mprint\u001b[39m(dic[\u001b[38;5;124m\"\u001b[39m\u001b[38;5;124mc\u001b[39m\u001b[38;5;124m\"\u001b[39m])\n",
      "\u001b[1;31mKeyError\u001b[0m: 'c'"
     ]
    }
   ],
   "source": [
    "dic = {}\n",
    "dic[\"a\"] = 1\n",
    "dic[\"b\"] = 2\n",
    "  \n",
    "print(dic[\"a\"])\n",
    "print(dic[\"b\"])\n",
    "print(dic[\"c\"])"
   ]
  },
  {
   "cell_type": "code",
   "execution_count": 26,
   "id": "4ec3ea01",
   "metadata": {},
   "outputs": [],
   "source": [
    "from collections import defaultdict"
   ]
  },
  {
   "cell_type": "code",
   "execution_count": 28,
   "id": "846646cc",
   "metadata": {},
   "outputs": [
    {
     "name": "stdout",
     "output_type": "stream",
     "text": [
      "1\n",
      "2\n",
      "0\n"
     ]
    }
   ],
   "source": [
    "dic = defaultdict(int)\n",
    "dic[\"a\"] = 1\n",
    "dic[\"b\"] = 2\n",
    "  \n",
    "print(dic[\"a\"])\n",
    "print(dic[\"b\"])\n",
    "print(dic[\"c\"])"
   ]
  },
  {
   "cell_type": "code",
   "execution_count": 30,
   "id": "7cc47b7a",
   "metadata": {},
   "outputs": [
    {
     "data": {
      "text/plain": [
       "[]"
      ]
     },
     "execution_count": 30,
     "metadata": {},
     "output_type": "execute_result"
    }
   ],
   "source": [
    "dic = defaultdict(list)\n",
    "dic[\"c\"]"
   ]
  },
  {
   "cell_type": "code",
   "execution_count": 31,
   "id": "bd40eda6",
   "metadata": {},
   "outputs": [
    {
     "data": {
      "text/plain": [
       "set()"
      ]
     },
     "execution_count": 31,
     "metadata": {},
     "output_type": "execute_result"
    }
   ],
   "source": [
    "dic = defaultdict(set)\n",
    "dic[\"c\"]"
   ]
  },
  {
   "cell_type": "code",
   "execution_count": 32,
   "id": "24e2d5ea",
   "metadata": {},
   "outputs": [
    {
     "data": {
      "text/plain": [
       "'Not Present'"
      ]
     },
     "execution_count": 32,
     "metadata": {},
     "output_type": "execute_result"
    }
   ],
   "source": [
    "dic = defaultdict(lambda: \"Not Present\")\n",
    "dic[\"c\"]"
   ]
  },
  {
   "cell_type": "code",
   "execution_count": 38,
   "id": "c8abb8fe",
   "metadata": {},
   "outputs": [],
   "source": [
    "dic = defaultdict(list)\n",
    "  \n",
    "for num in range(5):\n",
    "    dic[num].append(num)\n"
   ]
  },
  {
   "cell_type": "code",
   "execution_count": 39,
   "id": "c1e43a72",
   "metadata": {},
   "outputs": [
    {
     "data": {
      "text/plain": [
       "defaultdict(list, {0: [0], 1: [1], 2: [2], 3: [3], 4: [4]})"
      ]
     },
     "execution_count": 39,
     "metadata": {},
     "output_type": "execute_result"
    }
   ],
   "source": [
    "dic"
   ]
  },
  {
   "cell_type": "code",
   "execution_count": 40,
   "id": "0c13689f",
   "metadata": {},
   "outputs": [
    {
     "data": {
      "text/plain": [
       "defaultdict(int, {1: 2, 2: 3, 3: 1, 4: 2})"
      ]
     },
     "execution_count": 40,
     "metadata": {},
     "output_type": "execute_result"
    }
   ],
   "source": [
    "dic = defaultdict(int)\n",
    "   \n",
    "number = [1, 2, 3, 4, 2, 4, 1, 2]\n",
    "for num in number:\n",
    "    dic[num] += 1\n",
    "dic"
   ]
  },
  {
   "cell_type": "code",
   "execution_count": null,
   "id": "e4fbc5e7",
   "metadata": {},
   "outputs": [],
   "source": []
  }
 ],
 "metadata": {
  "kernelspec": {
   "display_name": "Python 3 (ipykernel)",
   "language": "python",
   "name": "python3"
  },
  "language_info": {
   "codemirror_mode": {
    "name": "ipython",
    "version": 3
   },
   "file_extension": ".py",
   "mimetype": "text/x-python",
   "name": "python",
   "nbconvert_exporter": "python",
   "pygments_lexer": "ipython3",
   "version": "3.10.7"
  }
 },
 "nbformat": 4,
 "nbformat_minor": 5
}
