{
 "cells": [
  {
   "cell_type": "markdown",
   "id": "0c0e687d",
   "metadata": {},
   "source": [
    "## Standard Data Types\n",
    "    1. numeric types:\n",
    "        1. int\n",
    "        2. float\n",
    "        3. complex\n",
    "        4. bool\n",
    "    2. sequence types:\n",
    "        1. str\n",
    "        2. list\n",
    "        3. tuple:\n",
    "            1. how to create one \n",
    "            2. basic operations\n",
    "            3. indexing\n",
    "            4. slicing\n",
    "            5. immutable"
   ]
  },
  {
   "cell_type": "markdown",
   "id": "1c359e03",
   "metadata": {},
   "source": [
    "### Tuples"
   ]
  },
  {
   "cell_type": "code",
   "execution_count": 2,
   "id": "6248d322",
   "metadata": {},
   "outputs": [
    {
     "name": "stdout",
     "output_type": "stream",
     "text": [
      "((4, 5), '125', 786, 2.23, 'Pooya', 70.2)\n",
      "(4, 5)\n",
      "('125', 786)\n",
      "(786, 2.23, 'Pooya', 70.2)\n",
      "4\n",
      "(123, 'Mohammadi', 123, 'Mohammadi')\n",
      "((4, 5), '125', 786, 2.23, 'Pooya', 70.2, 123, 'Mohammadi')\n",
      "('12345', (4, 5), '125', 786, 2.23, 'Pooya', 70.2, 123, 'Mohammadi')\n",
      "tuple length 6\n"
     ]
    }
   ],
   "source": [
    "# How to create a tuple\n",
    "tuple_ = ((4, 5), '125', 786 , 2.23, 'Pooya', 70.2)\n",
    "tiny_tuple = (123, 'Mohammadi')\n",
    "\n",
    "# indexing & slicing\n",
    "print(tuple_)                              # Prints the whole tuple\n",
    "print(tuple_[0])                           # Prints the first item of the tuple\n",
    "print(tuple_[1:3])                         # Prints items starting from 2nd till the 3rd one\n",
    "print(tuple_[2:])                          # Prints items starting from the 3rd one\n",
    "\n",
    "# nested indexing\n",
    "print(tuple_[0][0])                        # Prints the first item of the first element in variable tuple_, which is also a tuple \n",
    "\n",
    "# basic operations \n",
    "print(tiny_tuple * 2)                      # Prints tuple two times\n",
    "print(tuple_ + tiny_tuple)                 # Prints concatenated tuples\n",
    "print((\"12345\", *tuple_, *tiny_tuple))     # Prints concatenated tuples\n",
    "print(\"tuple length:\", len(tuple_))         # Prints tuples length"
   ]
  },
  {
   "cell_type": "markdown",
   "id": "ac50c444",
   "metadata": {},
   "source": [
    "### How to create a tuple with one item?!"
   ]
  },
  {
   "cell_type": "code",
   "execution_count": 4,
   "id": "b059fcf5",
   "metadata": {},
   "outputs": [
    {
     "data": {
      "text/plain": [
       "int"
      ]
     },
     "execution_count": 4,
     "metadata": {},
     "output_type": "execute_result"
    }
   ],
   "source": [
    "not_a_tuple = (10)\n",
    "type(not_a_tuple)"
   ]
  },
  {
   "cell_type": "code",
   "execution_count": 5,
   "id": "b4f7d895",
   "metadata": {},
   "outputs": [
    {
     "data": {
      "text/plain": [
       "tuple"
      ]
     },
     "execution_count": 5,
     "metadata": {},
     "output_type": "execute_result"
    }
   ],
   "source": [
    "# recommended\n",
    "a_tuple= (10, ) \n",
    "type(a_tuple)"
   ]
  },
  {
   "cell_type": "code",
   "execution_count": 7,
   "id": "b4d88e92",
   "metadata": {},
   "outputs": [
    {
     "name": "stdout",
     "output_type": "stream",
     "text": [
      "type:  <class 'tuple'> value: (10,)\n"
     ]
    }
   ],
   "source": [
    "# not recommended\n",
    "a_tuple= 10,\n",
    "print(\"type: \", type(a_tuple), \"value:\", a_tuple)"
   ]
  },
  {
   "cell_type": "markdown",
   "id": "d507a59f",
   "metadata": {},
   "source": [
    "#### Tuples are immutable"
   ]
  },
  {
   "cell_type": "code",
   "execution_count": 8,
   "id": "35c0911c",
   "metadata": {},
   "outputs": [
    {
     "data": {
      "text/plain": [
       "((4, 5), '125', 786, 2.23, 'Pooya', 70.2)"
      ]
     },
     "execution_count": 8,
     "metadata": {},
     "output_type": "execute_result"
    }
   ],
   "source": [
    "tuple_"
   ]
  },
  {
   "cell_type": "code",
   "execution_count": 9,
   "id": "c9b470e3",
   "metadata": {},
   "outputs": [
    {
     "ename": "TypeError",
     "evalue": "'tuple' object does not support item assignment",
     "output_type": "error",
     "traceback": [
      "\u001b[1;31m---------------------------------------------------------------------------\u001b[0m",
      "\u001b[1;31mTypeError\u001b[0m                                 Traceback (most recent call last)",
      "Input \u001b[1;32mIn [9]\u001b[0m, in \u001b[0;36m<cell line: 1>\u001b[1;34m()\u001b[0m\n\u001b[1;32m----> 1\u001b[0m tuple_[\u001b[38;5;241m0\u001b[39m] \u001b[38;5;241m=\u001b[39m \u001b[38;5;241m15\u001b[39m\n",
      "\u001b[1;31mTypeError\u001b[0m: 'tuple' object does not support item assignment"
     ]
    }
   ],
   "source": [
    "tuple_[0] = 15"
   ]
  },
  {
   "cell_type": "code",
   "execution_count": 10,
   "id": "8aa3a9f0",
   "metadata": {},
   "outputs": [
    {
     "ename": "TypeError",
     "evalue": "'tuple' object doesn't support item deletion",
     "output_type": "error",
     "traceback": [
      "\u001b[1;31m---------------------------------------------------------------------------\u001b[0m",
      "\u001b[1;31mTypeError\u001b[0m                                 Traceback (most recent call last)",
      "Input \u001b[1;32mIn [10]\u001b[0m, in \u001b[0;36m<cell line: 1>\u001b[1;34m()\u001b[0m\n\u001b[1;32m----> 1\u001b[0m \u001b[38;5;28;01mdel\u001b[39;00m tuple_[\u001b[38;5;241m0\u001b[39m]\n",
      "\u001b[1;31mTypeError\u001b[0m: 'tuple' object doesn't support item deletion"
     ]
    }
   ],
   "source": [
    "del tuple_[0]"
   ]
  },
  {
   "cell_type": "markdown",
   "id": "aa802b31",
   "metadata": {},
   "source": [
    "#### Tuple: .index"
   ]
  },
  {
   "cell_type": "code",
   "execution_count": 14,
   "id": "ad77435f",
   "metadata": {},
   "outputs": [],
   "source": [
    "tuple_ = ((4, 5), '125', 786, 2.23, 'Pooya', 70.2, '125')"
   ]
  },
  {
   "cell_type": "code",
   "execution_count": 15,
   "id": "f1990e6d",
   "metadata": {},
   "outputs": [
    {
     "name": "stdout",
     "output_type": "stream",
     "text": [
      "Index of item 125 is 1\n"
     ]
    }
   ],
   "source": [
    "value = \"125\"\n",
    "item_index = tuple_.index(value)\n",
    "print(f'Index of item {value} is {item_index}')"
   ]
  },
  {
   "cell_type": "code",
   "execution_count": 16,
   "id": "c2a53600",
   "metadata": {},
   "outputs": [
    {
     "data": {
      "text/plain": [
       "2"
      ]
     },
     "execution_count": 16,
     "metadata": {},
     "output_type": "execute_result"
    }
   ],
   "source": [
    "value = \"125\"\n",
    "tuple_.count(value)"
   ]
  },
  {
   "cell_type": "markdown",
   "id": "bceea8e3",
   "metadata": {},
   "source": [
    "*_:)_*"
   ]
  }
 ],
 "metadata": {
  "kernelspec": {
   "display_name": "Python 3 (ipykernel)",
   "language": "python",
   "name": "python3"
  },
  "language_info": {
   "codemirror_mode": {
    "name": "ipython",
    "version": 3
   },
   "file_extension": ".py",
   "mimetype": "text/x-python",
   "name": "python",
   "nbconvert_exporter": "python",
   "pygments_lexer": "ipython3",
   "version": "3.9.12"
  }
 },
 "nbformat": 4,
 "nbformat_minor": 5
}
