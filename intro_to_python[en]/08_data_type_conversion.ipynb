{
 "cells": [
  {
   "cell_type": "markdown",
   "id": "1cc14ec7",
   "metadata": {},
   "source": [
    "# Data Type Conversion\n",
    "    1. string digit to int and int to string\n",
    "    2. float to int & int to float\n",
    "    3. set/list to tuple\n",
    "    4. tuple/list to set \n",
    "    5. ValueError\n",
    "    6. TypeError\n",
    "    7. list/tuple to dictionary"
   ]
  },
  {
   "cell_type": "code",
   "execution_count": 9,
   "id": "5efcae39",
   "metadata": {},
   "outputs": [
    {
     "name": "stdout",
     "output_type": "stream",
     "text": [
      "str_to_int 20 <class 'int'>\n",
      "int_to_str 10 <class 'str'>\n"
     ]
    }
   ],
   "source": [
    "# string to int\n",
    "str_to_int = int('20')\n",
    "print('str_to_int', str_to_int, type(str_to_int))\n",
    "\n",
    "# int to string\n",
    "int_to_str = str(10)\n",
    "print('int_to_str', int_to_str, type(int_to_str))"
   ]
  },
  {
   "cell_type": "code",
   "execution_count": 11,
   "id": "2dc60e60",
   "metadata": {},
   "outputs": [
    {
     "name": "stdout",
     "output_type": "stream",
     "text": [
      "float_to_int 10 <class 'int'>\n",
      "int_to_float 10.0 <class 'float'>\n"
     ]
    }
   ],
   "source": [
    "# float to int\n",
    "float_to_int = int(10.99)\n",
    "print('float_to_int', float_to_int, type(float_to_int))\n",
    "\n",
    "# int to float\n",
    "int_to_float = float(10)\n",
    "print('int_to_float', int_to_float, type(int_to_float))"
   ]
  },
  {
   "cell_type": "code",
   "execution_count": 12,
   "id": "bbc719c6",
   "metadata": {},
   "outputs": [
    {
     "name": "stdout",
     "output_type": "stream",
     "text": [
      "set_to_tuple (10, 20, 30) <class 'tuple'>\n",
      "tuple_to_set  {10, 20} <class 'set'>\n",
      "list_to_set  {10, 20} <class 'set'>\n"
     ]
    }
   ],
   "source": [
    "# set to tuple\n",
    "set_to_tuple = tuple({10, 20, 20, 30})\n",
    "print('set_to_tuple', set_to_tuple, type(set_to_tuple))\n",
    "\n",
    "# tuple to set\n",
    "tuple_to_set = set((10, 20, 10))\n",
    "print('tuple_to_set ', tuple_to_set, type(tuple_to_set))\n",
    "\n",
    "# list to set\n",
    "list_to_set = set([10, 20, 10])\n",
    "print('list_to_set ', list_to_set, type(list_to_set))"
   ]
  },
  {
   "cell_type": "code",
   "execution_count": 13,
   "id": "e481c88d",
   "metadata": {},
   "outputs": [
    {
     "ename": "ValueError",
     "evalue": "invalid literal for int() with base 10: '4.5'",
     "output_type": "error",
     "traceback": [
      "\u001b[1;31m---------------------------------------------------------------------------\u001b[0m",
      "\u001b[1;31mValueError\u001b[0m                                Traceback (most recent call last)",
      "Input \u001b[1;32mIn [13]\u001b[0m, in \u001b[0;36m<cell line: 2>\u001b[1;34m()\u001b[0m\n\u001b[0;32m      1\u001b[0m \u001b[38;5;66;03m# ValueError\u001b[39;00m\n\u001b[1;32m----> 2\u001b[0m \u001b[38;5;28;43mint\u001b[39;49m\u001b[43m(\u001b[49m\u001b[38;5;124;43m\"\u001b[39;49m\u001b[38;5;124;43m4.5\u001b[39;49m\u001b[38;5;124;43m\"\u001b[39;49m\u001b[43m)\u001b[49m\n",
      "\u001b[1;31mValueError\u001b[0m: invalid literal for int() with base 10: '4.5'"
     ]
    }
   ],
   "source": [
    "# ValueError\n",
    "int(\"4.5\")"
   ]
  },
  {
   "cell_type": "code",
   "execution_count": 14,
   "id": "ebf94463",
   "metadata": {},
   "outputs": [
    {
     "ename": "TypeError",
     "evalue": "unhashable type: 'list'",
     "output_type": "error",
     "traceback": [
      "\u001b[1;31m---------------------------------------------------------------------------\u001b[0m",
      "\u001b[1;31mTypeError\u001b[0m                                 Traceback (most recent call last)",
      "Input \u001b[1;32mIn [14]\u001b[0m, in \u001b[0;36m<cell line: 3>\u001b[1;34m()\u001b[0m\n\u001b[0;32m      1\u001b[0m \u001b[38;5;66;03m# TypeError\u001b[39;00m\n\u001b[0;32m      2\u001b[0m list_ \u001b[38;5;241m=\u001b[39m [\u001b[38;5;241m10\u001b[39m, [\u001b[38;5;241m10\u001b[39m, \u001b[38;5;241m10\u001b[39m]]\n\u001b[1;32m----> 3\u001b[0m list_to_set \u001b[38;5;241m=\u001b[39m \u001b[38;5;28;43mset\u001b[39;49m\u001b[43m(\u001b[49m\u001b[43mlist_\u001b[49m\u001b[43m)\u001b[49m\n",
      "\u001b[1;31mTypeError\u001b[0m: unhashable type: 'list'"
     ]
    }
   ],
   "source": [
    "# TypeError\n",
    "list_ = [10, [10, 10]]\n",
    "list_to_set = set(list_)"
   ]
  },
  {
   "cell_type": "markdown",
   "id": "9d461590",
   "metadata": {},
   "source": [
    "### converting list to dict"
   ]
  },
  {
   "cell_type": "code",
   "execution_count": 16,
   "id": "ee61bf54",
   "metadata": {},
   "outputs": [
    {
     "ename": "ValueError",
     "evalue": "dictionary update sequence element #0 has length 3; 2 is required",
     "output_type": "error",
     "traceback": [
      "\u001b[1;31m---------------------------------------------------------------------------\u001b[0m",
      "\u001b[1;31mValueError\u001b[0m                                Traceback (most recent call last)",
      "Input \u001b[1;32mIn [16]\u001b[0m, in \u001b[0;36m<cell line: 3>\u001b[1;34m()\u001b[0m\n\u001b[0;32m      1\u001b[0m \u001b[38;5;66;03m# ValueError\u001b[39;00m\n\u001b[0;32m      2\u001b[0m lst_ \u001b[38;5;241m=\u001b[39m [\u001b[38;5;124m\"\u001b[39m\u001b[38;5;124mIra\u001b[39m\u001b[38;5;124m\"\u001b[39m, \u001b[38;5;124m\"\u001b[39m\u001b[38;5;124mTehran\u001b[39m\u001b[38;5;124m\"\u001b[39m, \u001b[38;5;124m\"\u001b[39m\u001b[38;5;124mFrance\u001b[39m\u001b[38;5;124m\"\u001b[39m, \u001b[38;5;124m\"\u001b[39m\u001b[38;5;124mParis\u001b[39m\u001b[38;5;124m\"\u001b[39m]\n\u001b[1;32m----> 3\u001b[0m list_to_dict \u001b[38;5;241m=\u001b[39m \u001b[38;5;28;43mdict\u001b[39;49m\u001b[43m(\u001b[49m\u001b[43mlst_\u001b[49m\u001b[43m)\u001b[49m\n",
      "\u001b[1;31mValueError\u001b[0m: dictionary update sequence element #0 has length 3; 2 is required"
     ]
    }
   ],
   "source": [
    "# ValueError\n",
    "lst_ = [\"Iran\", \"Tehran\", \"France\", \"Paris\"]\n",
    "list_to_dict = dict(lst_)"
   ]
  },
  {
   "cell_type": "code",
   "execution_count": 18,
   "id": "4d4fb5db",
   "metadata": {},
   "outputs": [
    {
     "name": "stdout",
     "output_type": "stream",
     "text": [
      "{'Iran': 'Tehran', 'France': 'Paris'}\n"
     ]
    }
   ],
   "source": [
    "lst_ = [(\"Iran\", \"Tehran\"), (\"France\", \"Paris\")]\n",
    "list_to_dict = dict(lst_)\n",
    "print(list_to_dict)"
   ]
  },
  {
   "cell_type": "code",
   "execution_count": 19,
   "id": "3e240c1c",
   "metadata": {},
   "outputs": [
    {
     "name": "stdout",
     "output_type": "stream",
     "text": [
      "{'Iran': 'Tehran', 'France': 'Paris'}\n"
     ]
    }
   ],
   "source": [
    "tuple_ = ((\"Iran\", \"Tehran\"), (\"France\", \"Paris\"))\n",
    "tuple_to_dict = dict(tuple_)\n",
    "print(tuple_to_dict)"
   ]
  },
  {
   "cell_type": "code",
   "execution_count": 20,
   "id": "17627d7f",
   "metadata": {},
   "outputs": [
    {
     "name": "stdout",
     "output_type": "stream",
     "text": [
      "[('Iran', 'Tehran'), ('France', 'Paris')]\n"
     ]
    }
   ],
   "source": [
    "# dict to list\n",
    "dict_ = {'Iran': 'Tehran', 'France': 'Paris'}\n",
    "dict_to_list = list(dict_.items())\n",
    "print(dict_to_list)"
   ]
  },
  {
   "cell_type": "markdown",
   "id": "6d733cb9",
   "metadata": {},
   "source": [
    "*:)*"
   ]
  }
 ],
 "metadata": {
  "kernelspec": {
   "display_name": "Python 3 (ipykernel)",
   "language": "python",
   "name": "python3"
  },
  "language_info": {
   "codemirror_mode": {
    "name": "ipython",
    "version": 3
   },
   "file_extension": ".py",
   "mimetype": "text/x-python",
   "name": "python",
   "nbconvert_exporter": "python",
   "pygments_lexer": "ipython3",
   "version": "3.9.12"
  }
 },
 "nbformat": 4,
 "nbformat_minor": 5
}
