{
 "cells": [
  {
   "cell_type": "markdown",
   "metadata": {},
   "source": [
    "## Loops\n",
    "    1. while loop\n",
    "        1. while structure\n",
    "    2. For Loop\n",
    "        1. for structure\n",
    "    3. range\n",
    "        1. range structure \n",
    "        2. how to use range in a for loop\n",
    "    4. break & continue keywords"
   ]
  },
  {
   "cell_type": "markdown",
   "metadata": {},
   "source": [
    "## While Loop\n",
    "    Repeats a statement or group of statements while a given condition is TRUE.\n",
    "    \n",
    "    Each time, it checks the condition before executing the statements.\n",
    "    \n",
    "    structure:\n",
    "    while condition:\n",
    "        blocks of code/statements"
   ]
  },
  {
   "cell_type": "code",
   "execution_count": 1,
   "metadata": {},
   "outputs": [
    {
     "name": "stdout",
     "output_type": "stream",
     "text": [
      "0\n",
      "1\n",
      "2\n",
      "3\n",
      "4\n",
      "5\n",
      "6\n",
      "7\n",
      "8\n",
      "9\n"
     ]
    }
   ],
   "source": [
    "counter = 0\n",
    "while counter < 10:\n",
    "    print(counter)\n",
    "    counter += 1"
   ]
  },
  {
   "cell_type": "markdown",
   "metadata": {},
   "source": [
    "# For loop\n",
    "    Iterates over items of a sequenced data type like list, tuple, and str.\n",
    "    In each iteration, an item is read from the sequence(the reading is in order) and is assigned to the variable defined before `in` and after `for` keywords.\n",
    "    Then, the codes in for-block is executed.\n",
    "    Notice: in each iteration, the value of the defiend variable changes...\n",
    "    \n",
    "    Structure:\n",
    "    for variable in sequence-data-type:\n",
    "        for-block"
   ]
  },
  {
   "cell_type": "code",
   "execution_count": 2,
   "metadata": {},
   "outputs": [
    {
     "name": "stdout",
     "output_type": "stream",
     "text": [
      "pooya\n",
      "menoo\n",
      "you\n"
     ]
    }
   ],
   "source": [
    "lst = ['pooya', 'menoo', 'you'] # sequence data type\n",
    "for name in lst: # in this case, defined variable is name\n",
    "    print(name)"
   ]
  },
  {
   "cell_type": "code",
   "execution_count": 3,
   "metadata": {
    "scrolled": true
   },
   "outputs": [
    {
     "name": "stdout",
     "output_type": "stream",
     "text": [
      "H\n",
      "e\n",
      "l\n",
      "l\n",
      "o\n",
      " \n",
      "W\n",
      "o\n",
      "r\n",
      "l\n",
      "d\n"
     ]
    }
   ],
   "source": [
    "# a string variable is used as a sequenced data\n",
    "str_ = 'Hello World' \n",
    "for ch in str_:\n",
    "    print(ch)"
   ]
  },
  {
   "cell_type": "code",
   "execution_count": 4,
   "metadata": {},
   "outputs": [
    {
     "name": "stdout",
     "output_type": "stream",
     "text": [
      "a\n",
      "y\n",
      "o\n",
      "o\n",
      "p\n"
     ]
    }
   ],
   "source": [
    "# Task 1: print the character of your name from the end\n",
    "var='pooya'\n",
    "for ch in var[::-1]:\n",
    "    print(ch)"
   ]
  },
  {
   "cell_type": "code",
   "execution_count": 5,
   "metadata": {},
   "outputs": [
    {
     "name": "stdout",
     "output_type": "stream",
     "text": [
      "['pooya', 'menoo', 'golsa']\n",
      "['pooya', 'menoo', 'golsa']\n",
      "['pooya', 'menoo', 'golsa']\n"
     ]
    }
   ],
   "source": [
    "# Task 2: print the variable lst len(lst) times\n",
    "# by convention _(underline) means the items in the input sequence variable are not important and the for is used\n",
    "# to iterate as long as the input variable's length\n",
    "lst = ['pooya', 'menoo', 'golsa']\n",
    "\n",
    "for _ in lst: \n",
    "    print(lst)"
   ]
  },
  {
   "cell_type": "code",
   "execution_count": 6,
   "metadata": {},
   "outputs": [
    {
     "data": {
      "text/plain": [
       "[-5, 228, 10, 408]"
      ]
     },
     "execution_count": 6,
     "metadata": {},
     "output_type": "execute_result"
    }
   ],
   "source": [
    "# Task 3: sum lst_1 and lst_2 element_wise: use for\n",
    "# res: [6, 8, 10, 12]\n",
    "\n",
    "lst_1 = [-10, 222, 3, 400]\n",
    "lst_2 = [5, 6, 7, 8]\n",
    " \n",
    "\n",
    "res = []\n",
    "index_counter = 0\n",
    "for lst_item in lst_1:\n",
    "    res.append(lst_item + lst_2[index_counter])\n",
    "    index_counter += 1\n",
    "res"
   ]
  },
  {
   "cell_type": "markdown",
   "metadata": {},
   "source": [
    "### Range\n",
    "    The built-in range function in Python is very useful to generate sequences of \n",
    "    numbers in the form of a list. \n",
    "\n",
    "    The given end point is never part of the generated list, it's excluded! \n",
    "    \n",
    "    It is possible to let the range start at another number or to specify a different incremental order  (even negative orders) \n",
    "    Sometimes this is called the ‘step’ or stride.\n",
    "    \n",
    "    range(10) generates a list of 10 values and returns one value at each time it's called->[0, 1, 2, 3, 4, 5, 6, 7, 8, 9]\n",
    "    To save space and for convinience, range does not create the list of numbers at the begining and only returns a vlue when it's called\n",
    "\n",
    "    "
   ]
  },
  {
   "cell_type": "code",
   "execution_count": 7,
   "metadata": {},
   "outputs": [
    {
     "data": {
      "text/plain": [
       "range(0, 10)"
      ]
     },
     "execution_count": 7,
     "metadata": {},
     "output_type": "execute_result"
    }
   ],
   "source": [
    "# what is range...\n",
    "range(10)"
   ]
  },
  {
   "cell_type": "code",
   "execution_count": 8,
   "metadata": {},
   "outputs": [
    {
     "data": {
      "text/plain": [
       "[0, 1, 2, 3, 4, 5, 6, 7, 8, 9]"
      ]
     },
     "execution_count": 8,
     "metadata": {},
     "output_type": "execute_result"
    }
   ],
   "source": [
    "# simple range, starts from 0 to 10\n",
    "list(range(10))"
   ]
  },
  {
   "cell_type": "code",
   "execution_count": 9,
   "metadata": {},
   "outputs": [
    {
     "data": {
      "text/plain": [
       "[1, 2, 3, 4, 5, 6, 7, 8, 9]"
      ]
     },
     "execution_count": 9,
     "metadata": {},
     "output_type": "execute_result"
    }
   ],
   "source": [
    "# starts from 1 to 10\n",
    "list(range(1, 10))"
   ]
  },
  {
   "cell_type": "code",
   "execution_count": 10,
   "metadata": {},
   "outputs": [
    {
     "data": {
      "text/plain": [
       "[1, 3, 5, 7, 9]"
      ]
     },
     "execution_count": 10,
     "metadata": {},
     "output_type": "execute_result"
    }
   ],
   "source": [
    "# starts from 1, ends at 10 with a step of 2\n",
    "list(range(1, 10, 2))"
   ]
  },
  {
   "cell_type": "markdown",
   "metadata": {},
   "source": [
    "## How to use range in a for loop:"
   ]
  },
  {
   "cell_type": "code",
   "execution_count": 11,
   "metadata": {},
   "outputs": [
    {
     "name": "stdout",
     "output_type": "stream",
     "text": [
      "counter: 1\n",
      "counter: 3\n",
      "counter: 5\n",
      "counter: 7\n",
      "counter: 9\n"
     ]
    }
   ],
   "source": [
    "for counter in range(1, 10, 2):\n",
    "    print(f\"counter: {counter}\")"
   ]
  },
  {
   "cell_type": "code",
   "execution_count": 12,
   "metadata": {},
   "outputs": [
    {
     "data": {
      "text/plain": [
       "[-5, 228, 10, 408]"
      ]
     },
     "execution_count": 12,
     "metadata": {},
     "output_type": "execute_result"
    }
   ],
   "source": [
    "# Task 4: sum lst_1 and lst_2 element_wise: using for and range\n",
    "\n",
    "lst_1 = [-10, 222, 3, 400]\n",
    "lst_2 = [5, 6, 7, 8]\n",
    "res = []\n",
    "for i in range(len(lst_1)):\n",
    "    res.append(lst_1[i] + lst_2[i])\n",
    "res"
   ]
  },
  {
   "cell_type": "code",
   "execution_count": 13,
   "metadata": {},
   "outputs": [
    {
     "name": "stdout",
     "output_type": "stream",
     "text": [
      "12\n",
      "10\n",
      "menoo\n",
      "pooya\n"
     ]
    }
   ],
   "source": [
    "# Task 5: print lst backwards using range, although it's not recommended\n",
    "\n",
    "lst = ['pooya', 'menoo', 10, 12]\n",
    "for lst_index in range(len(lst) - 1, -1, -1):\n",
    "    print(lst[lst_index])"
   ]
  },
  {
   "cell_type": "code",
   "execution_count": 14,
   "metadata": {},
   "outputs": [
    {
     "name": "stdout",
     "output_type": "stream",
     "text": [
      "11\n",
      "14\n",
      "19\n",
      "26\n",
      "35\n",
      "46\n"
     ]
    }
   ],
   "source": [
    "# How not to use range, not recommended!\n",
    "list_ =[1, 4, 9, 16, 25, 36]\n",
    "for lst_index in range(len(list_)):\n",
    "    print(list_[lst_index] + 10)"
   ]
  },
  {
   "cell_type": "code",
   "execution_count": 15,
   "metadata": {},
   "outputs": [
    {
     "name": "stdout",
     "output_type": "stream",
     "text": [
      "11\n",
      "14\n",
      "19\n",
      "26\n",
      "35\n",
      "46\n"
     ]
    }
   ],
   "source": [
    "# When not to used range, recommended\n",
    "# If iterating over items of a sequence, it's better not to use range.\n",
    "list_ =[1, 4, 9, 16, 25, 36]\n",
    "for lst_item in list_:\n",
    "    print(lst_item + 10)"
   ]
  },
  {
   "cell_type": "markdown",
   "metadata": {},
   "source": [
    "## break statement\n",
    "Terminates the loop(for and while loops) statements and transfers the execution to the statement immediately following the loop."
   ]
  },
  {
   "cell_type": "code",
   "execution_count": 16,
   "metadata": {},
   "outputs": [
    {
     "name": "stdout",
     "output_type": "stream",
     "text": [
      "0\n",
      "1\n",
      "2\n",
      "3\n",
      "4\n",
      "5\n",
      "6\n",
      "7\n",
      "8\n",
      "9\n",
      "break statement has been triggered beacuse the while's condition is set to True\n"
     ]
    }
   ],
   "source": [
    "counter = 0\n",
    "while True:\n",
    "    print(counter)\n",
    "    counter += 1\n",
    "    if counter >= 10:\n",
    "        break\n",
    "print(\"break statement has been triggered beacuse the while's condition is set to True\")"
   ]
  },
  {
   "cell_type": "markdown",
   "metadata": {},
   "source": [
    "## continue keyword\n",
    "Causes the loop to skip the remainder of its body and immediately starts a new iteration from the begining of the loop. If it's a for-loop, new item is taken from the input iterator/sequence type and the code block is executed. If it's a while-loop, the conditioin is evaluated and if it was True, the code block is executed otherwise it gets out of the while-loop."
   ]
  },
  {
   "cell_type": "code",
   "execution_count": 17,
   "metadata": {},
   "outputs": [
    {
     "name": "stdout",
     "output_type": "stream",
     "text": [
      "0\n",
      "1\n",
      "2\n",
      "3\n",
      "4\n",
      "6\n",
      "7\n",
      "8\n",
      "9\n"
     ]
    }
   ],
   "source": [
    "for counter in range(10):\n",
    "    if counter == 5:\n",
    "        continue\n",
    "    print(counter)"
   ]
  },
  {
   "cell_type": "code",
   "execution_count": 18,
   "metadata": {},
   "outputs": [
    {
     "name": "stdout",
     "output_type": "stream",
     "text": [
      "counter: 2\n",
      "counter: 4\n",
      "counter: 6\n",
      "counter: 8\n",
      "counter: 10\n"
     ]
    }
   ],
   "source": [
    "counter = 1\n",
    "while counter < 10:\n",
    "    counter += 1\n",
    "    if counter % 2 == 1:\n",
    "        continue\n",
    "    print(f\"counter: {counter}\")  "
   ]
  },
  {
   "cell_type": "markdown",
   "metadata": {},
   "source": [
    "*:)*"
   ]
  }
 ],
 "metadata": {
  "kernelspec": {
   "display_name": "Python 3 (ipykernel)",
   "language": "python",
   "name": "python3"
  },
  "language_info": {
   "codemirror_mode": {
    "name": "ipython",
    "version": 3
   },
   "file_extension": ".py",
   "mimetype": "text/x-python",
   "name": "python",
   "nbconvert_exporter": "python",
   "pygments_lexer": "ipython3",
   "version": "3.9.12"
  }
 },
 "nbformat": 4,
 "nbformat_minor": 2
}
