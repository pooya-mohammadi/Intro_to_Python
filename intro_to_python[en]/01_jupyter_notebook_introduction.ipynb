{
 "cells": [
  {
   "cell_type": "markdown",
   "id": "f4373935",
   "metadata": {},
   "source": [
    "## Run a simple python code"
   ]
  },
  {
   "cell_type": "code",
   "execution_count": 1,
   "id": "a7af0819",
   "metadata": {},
   "outputs": [
    {
     "name": "stdout",
     "output_type": "stream",
     "text": [
      "Hello World\n",
      "Pooya Mohammadi, Welcome to introduction to python course:)\n"
     ]
    }
   ],
   "source": [
    "print(\"Hello World\")\n",
    "print(\"Pooya Mohammadi, Welcome to introduction to python course:)\")"
   ]
  },
  {
   "cell_type": "markdown",
   "id": "668632d6",
   "metadata": {},
   "source": [
    "# Jupyter Notebook Introduction\n",
    "## Course Instructor\n",
    "* Name: Pooya Mohammadi\n",
    "* EMail: pooyamohammadikazaj@gmail.com\n",
    "* GitHub: https://github.com/pooya-mohammadi\n",
    "\n",
    "### Instructions\n",
    "* How to run a cell: Shift + Enter | Ctrl + Enter "
   ]
  },
  {
   "cell_type": "markdown",
   "id": "e3c1cd8b",
   "metadata": {},
   "source": [
    "### Latex Syntax\n",
    "\n",
    "$\\sqrt{x}$"
   ]
  },
  {
   "cell_type": "markdown",
   "id": "0cbb6728",
   "metadata": {},
   "source": [
    "## More Instructions:\n",
    "1. To create a cell above the selected cell: A\n",
    "2. To create a cell below the selected cell: B\n",
    "3. To delete a cell: D, D\n",
    "4. To interrupt the kernel: I, I"
   ]
  },
  {
   "cell_type": "code",
   "execution_count": null,
   "id": "d39a5ae5",
   "metadata": {},
   "outputs": [],
   "source": [
    "# This loop will last for ever\n",
    "while True:\n",
    "    pass"
   ]
  },
  {
   "cell_type": "markdown",
   "id": "01f72cf2",
   "metadata": {},
   "source": [
    "## Why it's called interactive?"
   ]
  },
  {
   "cell_type": "code",
   "execution_count": 2,
   "id": "ad902b18",
   "metadata": {},
   "outputs": [
    {
     "name": "stdout",
     "output_type": "stream",
     "text": [
      "pooya\n"
     ]
    }
   ],
   "source": [
    "print(\"pooya\")"
   ]
  },
  {
   "cell_type": "code",
   "execution_count": 11,
   "id": "61208ff1",
   "metadata": {
    "scrolled": false
   },
   "outputs": [],
   "source": [
    "variable = \"pooya\""
   ]
  },
  {
   "cell_type": "code",
   "execution_count": 10,
   "id": "498797cb",
   "metadata": {},
   "outputs": [
    {
     "name": "stdout",
     "output_type": "stream",
     "text": [
      "pooya\n"
     ]
    }
   ],
   "source": [
    "print(variable)"
   ]
  },
  {
   "cell_type": "markdown",
   "id": "15814e03",
   "metadata": {},
   "source": [
    "## How to restart the kernel?"
   ]
  },
  {
   "cell_type": "code",
   "execution_count": null,
   "id": "56eef6db",
   "metadata": {},
   "outputs": [],
   "source": [
    "print(variable)"
   ]
  },
  {
   "cell_type": "markdown",
   "id": "55623f30",
   "metadata": {},
   "source": [
    "*_:)_*"
   ]
  }
 ],
 "metadata": {
  "kernelspec": {
   "display_name": "Python 3 (ipykernel)",
   "language": "python",
   "name": "python3"
  },
  "language_info": {
   "codemirror_mode": {
    "name": "ipython",
    "version": 3
   },
   "file_extension": ".py",
   "mimetype": "text/x-python",
   "name": "python",
   "nbconvert_exporter": "python",
   "pygments_lexer": "ipython3",
   "version": "3.9.12"
  }
 },
 "nbformat": 4,
 "nbformat_minor": 5
}
