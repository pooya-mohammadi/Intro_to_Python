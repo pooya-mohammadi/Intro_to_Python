{
 "cells": [
  {
   "cell_type": "markdown",
   "id": "fc751789",
   "metadata": {},
   "source": [
    "## Standard Data Types\n",
    "    1. numeric types:\n",
    "        1. int\n",
    "        2. float\n",
    "        3. complex\n",
    "        4. bool\n",
    "    2. sequence types:\n",
    "        1. str\n",
    "        2. list\n",
    "        3. tuple:\n",
    "        4. set:\n",
    "            1. how to create one\n",
    "            2. basic operations\n",
    "            3. indexing?!\n",
    "            4. add\n",
    "            5. remove\n",
    "            6. how to create an empty set"
   ]
  },
  {
   "cell_type": "markdown",
   "id": "915537f1",
   "metadata": {},
   "source": [
    "### Sets"
   ]
  },
  {
   "cell_type": "code",
   "execution_count": 3,
   "id": "87455963",
   "metadata": {},
   "outputs": [
    {
     "name": "stdout",
     "output_type": "stream",
     "text": [
      "set_: {5, 15, 45, 'Pooya'}\n",
      "False\n",
      "True\n",
      "{'Pooya', 5, 'Ali', 45, 15}\n",
      "{5, 'Pooya', 15, 'Ali'}\n",
      "False\n",
      "False\n",
      "{45}\n",
      "{'Pooya', 5, 15}\n",
      "4\n"
     ]
    }
   ],
   "source": [
    "# how to create a set\n",
    "set_ = {'Pooya', 45, 5, 5, 5, 5, 15}\n",
    "tiny_set = {'Ali', 45}\n",
    "\n",
    "print(\"set_:\", set_)           # Prints complete set\n",
    "# basic operations\n",
    "print('Ali' in set_)           # Prints first element of the set\n",
    "print('Ali' in tiny_set)       # Prints first element of the set\n",
    "print(set_ | tiny_set)         # All the items in both\n",
    "print(set_ ^ tiny_set)         # All the items in either of them but not in both\n",
    "print(set_ > tiny_set)         # Prints True if the first set contains all the items in the second one\n",
    "print(set_ < tiny_set)         # Prints True if second set contains all items in the first one\n",
    "print(set_ & tiny_set)         # Every item which exists in both of the input sets\n",
    "print(set_ - tiny_set)         # Every item in the former but not the latter.\n",
    "print(len(set_))               # Prints variable set_'s length"
   ]
  },
  {
   "cell_type": "markdown",
   "id": "40f77df1",
   "metadata": {},
   "source": [
    "#### items in sets are immutable/hashable"
   ]
  },
  {
   "cell_type": "code",
   "execution_count": 4,
   "id": "eccb52ac",
   "metadata": {},
   "outputs": [
    {
     "data": {
      "text/plain": [
       "{(10,), 10}"
      ]
     },
     "execution_count": 4,
     "metadata": {},
     "output_type": "execute_result"
    }
   ],
   "source": [
    "# tuples are hashable\n",
    "{(10, ), 10}"
   ]
  },
  {
   "cell_type": "code",
   "execution_count": 5,
   "id": "2495c295",
   "metadata": {},
   "outputs": [
    {
     "ename": "TypeError",
     "evalue": "unhashable type: 'list'",
     "output_type": "error",
     "traceback": [
      "\u001b[1;31m---------------------------------------------------------------------------\u001b[0m",
      "\u001b[1;31mTypeError\u001b[0m                                 Traceback (most recent call last)",
      "Input \u001b[1;32mIn [5]\u001b[0m, in \u001b[0;36m<cell line: 2>\u001b[1;34m()\u001b[0m\n\u001b[0;32m      1\u001b[0m \u001b[38;5;66;03m# lists are unhashable\u001b[39;00m\n\u001b[1;32m----> 2\u001b[0m {[\u001b[38;5;241m10\u001b[39m, ], \u001b[38;5;241m10\u001b[39m}\n",
      "\u001b[1;31mTypeError\u001b[0m: unhashable type: 'list'"
     ]
    }
   ],
   "source": [
    "# lists are unhashable\n",
    "{[10, ], 10}"
   ]
  },
  {
   "cell_type": "markdown",
   "id": "582cba12",
   "metadata": {},
   "source": [
    "#### Sets: indexing is not available for sets"
   ]
  },
  {
   "cell_type": "code",
   "execution_count": 6,
   "id": "e8a058c6",
   "metadata": {},
   "outputs": [
    {
     "ename": "TypeError",
     "evalue": "'set' object is not subscriptable",
     "output_type": "error",
     "traceback": [
      "\u001b[1;31m---------------------------------------------------------------------------\u001b[0m",
      "\u001b[1;31mTypeError\u001b[0m                                 Traceback (most recent call last)",
      "Input \u001b[1;32mIn [6]\u001b[0m, in \u001b[0;36m<cell line: 1>\u001b[1;34m()\u001b[0m\n\u001b[1;32m----> 1\u001b[0m \u001b[43mset_\u001b[49m\u001b[43m[\u001b[49m\u001b[38;5;241;43m0\u001b[39;49m\u001b[43m]\u001b[49m\n",
      "\u001b[1;31mTypeError\u001b[0m: 'set' object is not subscriptable"
     ]
    }
   ],
   "source": [
    "set_[0]"
   ]
  },
  {
   "cell_type": "code",
   "execution_count": 7,
   "id": "669374b7",
   "metadata": {},
   "outputs": [
    {
     "ename": "TypeError",
     "evalue": "'set' object is not subscriptable",
     "output_type": "error",
     "traceback": [
      "\u001b[1;31m---------------------------------------------------------------------------\u001b[0m",
      "\u001b[1;31mTypeError\u001b[0m                                 Traceback (most recent call last)",
      "Input \u001b[1;32mIn [7]\u001b[0m, in \u001b[0;36m<cell line: 1>\u001b[1;34m()\u001b[0m\n\u001b[1;32m----> 1\u001b[0m \u001b[43mset_\u001b[49m\u001b[43m[\u001b[49m\u001b[38;5;241;43m0\u001b[39;49m\u001b[43m:\u001b[49m\u001b[43m \u001b[49m\u001b[38;5;241;43m4\u001b[39;49m\u001b[43m]\u001b[49m\n",
      "\u001b[1;31mTypeError\u001b[0m: 'set' object is not subscriptable"
     ]
    }
   ],
   "source": [
    "set_[0: 4]"
   ]
  },
  {
   "cell_type": "markdown",
   "id": "a91a0b2b",
   "metadata": {},
   "source": [
    "#### Set: operations"
   ]
  },
  {
   "cell_type": "code",
   "execution_count": 11,
   "id": "bd588a8a",
   "metadata": {},
   "outputs": [
    {
     "data": {
      "text/plain": [
       "{15, 45, 5, 'Pooya'}"
      ]
     },
     "execution_count": 11,
     "metadata": {},
     "output_type": "execute_result"
    }
   ],
   "source": [
    "set_ = {'Pooya', 45, 5, 5, 5, 5, 15}\n",
    "set_"
   ]
  },
  {
   "cell_type": "code",
   "execution_count": 12,
   "id": "9e594834",
   "metadata": {
    "scrolled": false
   },
   "outputs": [
    {
     "name": "stdout",
     "output_type": "stream",
     "text": [
      "{5, 45, 15, 'Pooya', 'pooya'}\n"
     ]
    }
   ],
   "source": [
    "# add a new item\n",
    "set_.add('pooya')\n",
    "print(set_)"
   ]
  },
  {
   "cell_type": "code",
   "execution_count": 13,
   "id": "f85b0ca3",
   "metadata": {},
   "outputs": [
    {
     "name": "stdout",
     "output_type": "stream",
     "text": [
      "{5, 45, 15, 'Pooya', 'pooya'}\n"
     ]
    }
   ],
   "source": [
    "# add a new item which is already present\n",
    "set_.add(45)\n",
    "print(set_)"
   ]
  },
  {
   "cell_type": "code",
   "execution_count": 14,
   "id": "e08bee8e",
   "metadata": {},
   "outputs": [
    {
     "name": "stdout",
     "output_type": "stream",
     "text": [
      "{45, 15, 'Pooya', 'pooya'}\n"
     ]
    }
   ],
   "source": [
    "# remove an item\n",
    "set_.remove(5)\n",
    "print(set_)"
   ]
  },
  {
   "cell_type": "code",
   "execution_count": 15,
   "id": "bbe89288",
   "metadata": {},
   "outputs": [
    {
     "ename": "KeyError",
     "evalue": "50",
     "output_type": "error",
     "traceback": [
      "\u001b[1;31m---------------------------------------------------------------------------\u001b[0m",
      "\u001b[1;31mKeyError\u001b[0m                                  Traceback (most recent call last)",
      "Input \u001b[1;32mIn [15]\u001b[0m, in \u001b[0;36m<cell line: 2>\u001b[1;34m()\u001b[0m\n\u001b[0;32m      1\u001b[0m \u001b[38;5;66;03m# remove an item which is not a member\u001b[39;00m\n\u001b[1;32m----> 2\u001b[0m \u001b[43mset_\u001b[49m\u001b[38;5;241;43m.\u001b[39;49m\u001b[43mremove\u001b[49m\u001b[43m(\u001b[49m\u001b[38;5;241;43m50\u001b[39;49m\u001b[43m)\u001b[49m\n\u001b[0;32m      3\u001b[0m \u001b[38;5;28mprint\u001b[39m(set_)\n",
      "\u001b[1;31mKeyError\u001b[0m: 50"
     ]
    }
   ],
   "source": [
    "# remove an item which is not a member\n",
    "set_.remove(50)\n",
    "print(set_)"
   ]
  },
  {
   "cell_type": "code",
   "execution_count": 18,
   "id": "298401d5",
   "metadata": {},
   "outputs": [
    {
     "name": "stdout",
     "output_type": "stream",
     "text": [
      "15 set_:  {'Pooya', 'pooya'}\n"
     ]
    }
   ],
   "source": [
    "removed_value = set_.pop()\n",
    "print(removed_value, \",set_: \", set_)"
   ]
  },
  {
   "cell_type": "code",
   "execution_count": 19,
   "id": "0778a17d",
   "metadata": {},
   "outputs": [
    {
     "data": {
      "text/plain": [
       "set"
      ]
     },
     "execution_count": 19,
     "metadata": {},
     "output_type": "execute_result"
    }
   ],
   "source": [
    "# how to create an empty set\n",
    "empty_set = set()\n",
    "type(empty_set)"
   ]
  },
  {
   "cell_type": "markdown",
   "id": "b53ddbb7",
   "metadata": {},
   "source": [
    "### Sets are mutable"
   ]
  },
  {
   "cell_type": "code",
   "execution_count": 20,
   "id": "ed05e20f",
   "metadata": {},
   "outputs": [
    {
     "data": {
      "text/plain": [
       "{15, 45, 5, 'Pooya'}"
      ]
     },
     "execution_count": 20,
     "metadata": {},
     "output_type": "execute_result"
    }
   ],
   "source": [
    "set_ = {'Pooya', 45, 5, 5, 5, 5, 15}\n",
    "set_"
   ]
  },
  {
   "cell_type": "code",
   "execution_count": 23,
   "id": "c61c035c",
   "metadata": {},
   "outputs": [
    {
     "data": {
      "text/plain": [
       "{15, 45, 5, 'Mohammadi', 'Pooya'}"
      ]
     },
     "execution_count": 23,
     "metadata": {},
     "output_type": "execute_result"
    }
   ],
   "source": [
    "# adding\n",
    "set_.add(\"Mohammadi\")\n",
    "set_"
   ]
  },
  {
   "cell_type": "code",
   "execution_count": 24,
   "id": "0ee70bcf",
   "metadata": {},
   "outputs": [
    {
     "data": {
      "text/plain": [
       "{15, 45, 5, 'Pooya'}"
      ]
     },
     "execution_count": 24,
     "metadata": {},
     "output_type": "execute_result"
    }
   ],
   "source": [
    "# removing\n",
    "set_.remove(\"Mohammadi\")\n",
    "set_"
   ]
  },
  {
   "cell_type": "code",
   "execution_count": 25,
   "id": "02d640f0",
   "metadata": {},
   "outputs": [
    {
     "ename": "TypeError",
     "evalue": "unhashable type: 'set'",
     "output_type": "error",
     "traceback": [
      "\u001b[1;31m---------------------------------------------------------------------------\u001b[0m",
      "\u001b[1;31mTypeError\u001b[0m                                 Traceback (most recent call last)",
      "Input \u001b[1;32mIn [25]\u001b[0m, in \u001b[0;36m<cell line: 1>\u001b[1;34m()\u001b[0m\n\u001b[1;32m----> 1\u001b[0m {(\u001b[38;5;241m1\u001b[39m, ), \u001b[38;5;241m10\u001b[39m , {\u001b[38;5;241m1\u001b[39m, \u001b[38;5;241m2\u001b[39m}}\n",
      "\u001b[1;31mTypeError\u001b[0m: unhashable type: 'set'"
     ]
    }
   ],
   "source": [
    "# Note: sets are unhashable ...\n",
    "{(1, ), 10 , {1, 2}}"
   ]
  },
  {
   "cell_type": "markdown",
   "id": "e0ffa795",
   "metadata": {},
   "source": [
    "*_:)_*"
   ]
  }
 ],
 "metadata": {
  "kernelspec": {
   "display_name": "Python 3 (ipykernel)",
   "language": "python",
   "name": "python3"
  },
  "language_info": {
   "codemirror_mode": {
    "name": "ipython",
    "version": 3
   },
   "file_extension": ".py",
   "mimetype": "text/x-python",
   "name": "python",
   "nbconvert_exporter": "python",
   "pygments_lexer": "ipython3",
   "version": "3.9.12"
  }
 },
 "nbformat": 4,
 "nbformat_minor": 5
}
