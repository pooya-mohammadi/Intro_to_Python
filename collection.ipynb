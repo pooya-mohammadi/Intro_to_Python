{
 "cells": [
  {
   "cell_type": "markdown",
   "id": "bfd911d3",
   "metadata": {},
   "source": [
    "## Collection\n",
    "| 01           | [ChainMap](#ChainMap)         | dict-like class for creating a single view of multiple mappingss </p></p>\n",
    "| 02            | [namedtuple()](#namedtuple())       | factory function for creating tuple subclasses with named fields </p>\n",
    "| 03            | [defaultdict](#defaultdict)   | dict subclass that calls a factory function to supply missing values </p>\n",
    "| 04            | [Counter](#Counter)           | dict subclass for counting hashable objects</p>\n",
    "\n"
   ]
  },
  {
   "cell_type": "markdown",
   "id": "5bf75ec4",
   "metadata": {},
   "source": [
    "\n",
    "## ChainMap\n",
    "  <a id=\"ChainMap\"></a>"
   ]
  },
  {
   "cell_type": "code",
   "execution_count": 2,
   "id": "0363e849",
   "metadata": {},
   "outputs": [],
   "source": [
    "from collections import ChainMap  "
   ]
  },
  {
   "cell_type": "code",
   "execution_count": 6,
   "id": "15bbfc9f",
   "metadata": {},
   "outputs": [
    {
     "data": {
      "text/plain": [
       "ChainMap({'a': 1, 'b': 2}, {'c': 3, 'd': 4}, {'e': 5, 'f': 6})"
      ]
     },
     "execution_count": 6,
     "metadata": {},
     "output_type": "execute_result"
    }
   ],
   "source": [
    "d1 = {'a': 1, 'b': 2} \n",
    "d2 = {'c': 3, 'd': 4} \n",
    "d3 = {'e': 5, 'f': 6} \n",
    "    \n",
    "# Defining the chainmap  \n",
    "c = ChainMap(d1, d2, d3)  \n",
    "c"
   ]
  },
  {
   "cell_type": "code",
   "execution_count": 55,
   "id": "e2040f72",
   "metadata": {},
   "outputs": [
    {
     "data": {
      "text/plain": [
       "ChainMap({'a': 1, 'b': 2}, {'b': 3, 'c': 4})"
      ]
     },
     "execution_count": 55,
     "metadata": {},
     "output_type": "execute_result"
    }
   ],
   "source": [
    "# importing collections for ChainMap operations\n",
    "import collections\n",
    "  \n",
    "# initializing dictionaries\n",
    "dic1 = { 'a' : 1, 'b' : 2 }\n",
    "dic2 = { 'b' : 3, 'c' : 4 }\n",
    "dic3 = { 'f' : 5 }\n",
    "  \n",
    "# initializing ChainMap\n",
    "chain = collections.ChainMap(dic1, dic2)\n",
    "chain"
   ]
  },
  {
   "cell_type": "code",
   "execution_count": 15,
   "id": "e7766a58",
   "metadata": {},
   "outputs": [
    {
     "name": "stdout",
     "output_type": "stream",
     "text": [
      "All the ChainMap contents are : [{'a': 1, 'b': 2}, {'b': 3, 'c': 4}]\n"
     ]
    }
   ],
   "source": [
    "# printing chainMap using maps\n",
    "print (f\"All the ChainMap contents are : {chain.maps}\")"
   ]
  },
  {
   "cell_type": "code",
   "execution_count": 16,
   "id": "69fc8f37",
   "metadata": {},
   "outputs": [
    {
     "name": "stdout",
     "output_type": "stream",
     "text": [
      "All keys of ChainMap are : ['b', 'c', 'a']\n"
     ]
    }
   ],
   "source": [
    "# printing keys using keys()\n",
    "print (f\"All keys of ChainMap are : {list(chain.keys())}\")"
   ]
  },
  {
   "cell_type": "code",
   "execution_count": 17,
   "id": "f922c065",
   "metadata": {},
   "outputs": [
    {
     "name": "stdout",
     "output_type": "stream",
     "text": [
      "All values of ChainMap are :[2, 4, 1] \n"
     ]
    }
   ],
   "source": [
    "# printing keys using keys()\n",
    "print (f\"All values of ChainMap are :{list(chain.values())} \")"
   ]
  },
  {
   "cell_type": "code",
   "execution_count": 29,
   "id": "58af3310",
   "metadata": {},
   "outputs": [
    {
     "name": "stdout",
     "output_type": "stream",
     "text": [
      "Displaying new ChainMap :[{'f': 5}, {'a': 1, 'b': 2}, {'b': 3, 'c': 4}] \n"
     ]
    }
   ],
   "source": [
    "# using new_child() to add new dictionary\n",
    "chain1 = chain.new_child(dic3)\n",
    "print (f\"Displaying new ChainMap :{chain1.maps} \")"
   ]
  },
  {
   "cell_type": "code",
   "execution_count": 20,
   "id": "3267e985",
   "metadata": {},
   "outputs": [
    {
     "name": "stdout",
     "output_type": "stream",
     "text": [
      "Value associated with b before reversing is :2 \n"
     ]
    }
   ],
   "source": [
    "# displaying value associated with b before reversing\n",
    "print (f\"Value associated with b before reversing is :{chain1['b']} \")\n"
   ]
  },
  {
   "cell_type": "code",
   "execution_count": 30,
   "id": "5108010c",
   "metadata": {},
   "outputs": [
    {
     "name": "stdout",
     "output_type": "stream",
     "text": [
      "Value associated with b before reversing is :3 \n"
     ]
    }
   ],
   "source": [
    "# reversing the ChainMap\n",
    "chain1.maps = reversed(chain1.maps)\n",
    "print (f\"Value associated with b before reversing is :{chain1['b']} \")"
   ]
  },
  {
   "cell_type": "markdown",
   "id": "a816694e",
   "metadata": {},
   "source": [
    " <a id=\"namedtuple()\"></a>\n",
    "### namedtuple() "
   ]
  },
  {
   "cell_type": "code",
   "execution_count": 46,
   "id": "5bf6c5cf",
   "metadata": {},
   "outputs": [],
   "source": [
    "\n",
    "from collections import namedtuple\n",
    "\n",
    "# Declaring namedtuple()\n",
    "Student = namedtuple('Student', ['name', 'age', 'DOB'])\n",
    "\n",
    "# Adding values\n",
    "S = Student('Nandini', '19', '2541997')\n"
   ]
  },
  {
   "cell_type": "code",
   "execution_count": 44,
   "id": "4875b723",
   "metadata": {},
   "outputs": [
    {
     "data": {
      "text/plain": [
       "'19'"
      ]
     },
     "execution_count": 44,
     "metadata": {},
     "output_type": "execute_result"
    }
   ],
   "source": [
    "# Access using index\n",
    "S[1]"
   ]
  },
  {
   "cell_type": "code",
   "execution_count": 45,
   "id": "8f5600d2",
   "metadata": {},
   "outputs": [
    {
     "data": {
      "text/plain": [
       "'19'"
      ]
     },
     "execution_count": 45,
     "metadata": {},
     "output_type": "execute_result"
    }
   ],
   "source": [
    "# Access using name\n",
    "S.age"
   ]
  },
  {
   "cell_type": "code",
   "execution_count": 36,
   "id": "b855ee94",
   "metadata": {},
   "outputs": [],
   "source": [
    "# initializing iterable\n",
    "li = ['Manjeet', '19', '411997']"
   ]
  },
  {
   "cell_type": "code",
   "execution_count": 43,
   "id": "2f255161",
   "metadata": {},
   "outputs": [
    {
     "data": {
      "text/plain": [
       "Student(name='Manjeet', age='19', DOB='411997')"
      ]
     },
     "execution_count": 43,
     "metadata": {},
     "output_type": "execute_result"
    }
   ],
   "source": [
    "# using _make() to return namedtuple()\n",
    "Student._make(li)"
   ]
  },
  {
   "cell_type": "code",
   "execution_count": 38,
   "id": "adb1e998",
   "metadata": {},
   "outputs": [],
   "source": [
    "# initializing dict\n",
    "di = {'name': \"Nikhil\", 'age': 19, 'DOB': '1391997'}"
   ]
  },
  {
   "cell_type": "code",
   "execution_count": 47,
   "id": "24ce96cd",
   "metadata": {},
   "outputs": [
    {
     "data": {
      "text/plain": [
       "Student(name='Nikhil', age=19, DOB='1391997')"
      ]
     },
     "execution_count": 47,
     "metadata": {},
     "output_type": "execute_result"
    }
   ],
   "source": [
    "# using ** operator to return namedtuple from dictionary\n",
    "Student(**di)"
   ]
  },
  {
   "cell_type": "code",
   "execution_count": 49,
   "id": "e286e2f9",
   "metadata": {},
   "outputs": [
    {
     "data": {
      "text/plain": [
       "Student(name='Manjeet', age='19', DOB='2541997')"
      ]
     },
     "execution_count": 49,
     "metadata": {},
     "output_type": "execute_result"
    }
   ],
   "source": [
    "S._replace(name='Manjeet')\n"
   ]
  },
  {
   "cell_type": "code",
   "execution_count": 50,
   "id": "85f97da6",
   "metadata": {},
   "outputs": [
    {
     "data": {
      "text/plain": [
       "Student(name='Nandini', age='19', DOB='2541997')"
      ]
     },
     "execution_count": 50,
     "metadata": {},
     "output_type": "execute_result"
    }
   ],
   "source": [
    "S"
   ]
  },
  {
   "cell_type": "markdown",
   "id": "cb5a0850",
   "metadata": {},
   "source": [
    "## defaultdict\n",
    " <a id=\"defaultdict\"></a>"
   ]
  },
  {
   "cell_type": "code",
   "execution_count": 56,
   "id": "2f389dbd",
   "metadata": {},
   "outputs": [
    {
     "ename": "KeyError",
     "evalue": "3",
     "output_type": "error",
     "traceback": [
      "\u001b[1;31m---------------------------------------------------------------------------\u001b[0m",
      "\u001b[1;31mKeyError\u001b[0m                                  Traceback (most recent call last)",
      "Input \u001b[1;32mIn [56]\u001b[0m, in \u001b[0;36m<cell line: 2>\u001b[1;34m()\u001b[0m\n\u001b[0;32m      1\u001b[0m dict_demo \u001b[38;5;241m=\u001b[39m \u001b[38;5;28mdict\u001b[39m()\n\u001b[1;32m----> 2\u001b[0m \u001b[38;5;28mprint\u001b[39m(\u001b[43mdict_demo\u001b[49m\u001b[43m[\u001b[49m\u001b[38;5;241;43m3\u001b[39;49m\u001b[43m]\u001b[49m)\n",
      "\u001b[1;31mKeyError\u001b[0m: 3"
     ]
    }
   ],
   "source": [
    "dict_demo = dict()\n",
    "print(dict_demo[3])"
   ]
  },
  {
   "cell_type": "code",
   "execution_count": 60,
   "id": "a018f970",
   "metadata": {},
   "outputs": [
    {
     "name": "stdout",
     "output_type": "stream",
     "text": [
      "[]\n"
     ]
    }
   ],
   "source": [
    "from collections import defaultdict\n",
    "defaultdict_demo = defaultdict(list)\n",
    "print(defaultdict_demo[3])"
   ]
  },
  {
   "cell_type": "code",
   "execution_count": 61,
   "id": "7dbcc026",
   "metadata": {},
   "outputs": [
    {
     "name": "stdout",
     "output_type": "stream",
     "text": [
      "0\n"
     ]
    }
   ],
   "source": [
    "defaultdict_demo = defaultdict(int)\n",
    "print(defaultdict_demo[1])"
   ]
  },
  {
   "cell_type": "code",
   "execution_count": 62,
   "id": "3050e50c",
   "metadata": {},
   "outputs": [
    {
     "name": "stdout",
     "output_type": "stream",
     "text": [
      "{}\n"
     ]
    }
   ],
   "source": [
    "defaultdict_demo = defaultdict(dict)\n",
    "print(defaultdict_demo[1])"
   ]
  },
  {
   "cell_type": "code",
   "execution_count": 63,
   "id": "e26bda20",
   "metadata": {},
   "outputs": [
    {
     "name": "stdout",
     "output_type": "stream",
     "text": [
      "{'one': {1, '1'}, 'two': {2}, 'three': set()}\n"
     ]
    }
   ],
   "source": [
    "defaultdict_demo = defaultdict(set)\n",
    "\n",
    "defaultdict_demo['one'].add(1)\n",
    "defaultdict_demo['two'].add(2)\n",
    "defaultdict_demo['one'].add('1')\n",
    "defaultdict_demo['three']\n",
    "\n",
    "print(dict(defaultdict_demo.items()))"
   ]
  },
  {
   "cell_type": "code",
   "execution_count": 65,
   "id": "077123a6",
   "metadata": {},
   "outputs": [
    {
     "data": {
      "text/plain": [
       "defaultdict(list, {0: [0], 1: [1], 2: [2], 3: [3], 4: [4]})"
      ]
     },
     "execution_count": 65,
     "metadata": {},
     "output_type": "execute_result"
    }
   ],
   "source": [
    "defaultdict_demo = defaultdict(list)\n",
    "  \n",
    "for item in range(5):\n",
    "    defaultdict_demo[item].append(item)\n",
    "defaultdict_demo"
   ]
  },
  {
   "cell_type": "code",
   "execution_count": 69,
   "id": "7531e806",
   "metadata": {},
   "outputs": [
    {
     "name": "stdout",
     "output_type": "stream",
     "text": [
      "1\n",
      "2\n",
      "Not Present\n"
     ]
    }
   ],
   "source": [
    "default = defaultdict(lambda: \"Not Present\")\n",
    "default[\"a\"] = 1\n",
    "default[\"b\"] = 2\n",
    "print(default[\"a\"])\n",
    "print(default[\"b\"])\n",
    "print(default[\"c\"])"
   ]
  },
  {
   "cell_type": "markdown",
   "id": "c77e1741",
   "metadata": {},
   "source": [
    "## Counter\n",
    " <a id=\"Counter\"></a>"
   ]
  },
  {
   "cell_type": "code",
   "execution_count": 71,
   "id": "4085f8c9",
   "metadata": {},
   "outputs": [
    {
     "name": "stdout",
     "output_type": "stream",
     "text": [
      "<itertools.chain object at 0x000002072454F100>\n"
     ]
    }
   ],
   "source": [
    "# import Counter from collections\n",
    "from collections import Counter\n",
    "# creating a raw data-set\n",
    "x = Counter (\"geeksforgeeks\")\n",
    "# will return a itertools chain object\n",
    "# which is basically a pseudo iterable container whose\n",
    "# elements can be used when called with a iterable tool\n",
    "print(x.elements())"
   ]
  },
  {
   "cell_type": "code",
   "execution_count": 77,
   "id": "44f98018",
   "metadata": {},
   "outputs": [
    {
     "data": {
      "text/plain": [
       "Counter({'m': 1, 'i': 4, 's': 4, 'p': 2})"
      ]
     },
     "execution_count": 77,
     "metadata": {},
     "output_type": "execute_result"
    }
   ],
   "source": [
    "Counter(\"mississippi\")"
   ]
  },
  {
   "cell_type": "code",
   "execution_count": 78,
   "id": "2e9ccde6",
   "metadata": {},
   "outputs": [
    {
     "data": {
      "text/plain": [
       "Counter({'i': 6, 's': 6, 'p': 2, 'm': 2, 'o': 1, 'u': 1, 'r': 1})"
      ]
     },
     "execution_count": 78,
     "metadata": {},
     "output_type": "execute_result"
    }
   ],
   "source": [
    "letters = Counter({\"i\": 4, \"s\": 4, \"p\": 2, \"m\": 1})\n",
    "letters.update(\"missouri\")\n",
    "letters"
   ]
  },
  {
   "cell_type": "code",
   "execution_count": 79,
   "id": "ae104e86",
   "metadata": {},
   "outputs": [
    {
     "ename": "TypeError",
     "evalue": "can only concatenate str (not \"int\") to str",
     "output_type": "error",
     "traceback": [
      "\u001b[1;31m---------------------------------------------------------------------------\u001b[0m",
      "\u001b[1;31mTypeError\u001b[0m                                 Traceback (most recent call last)",
      "Input \u001b[1;32mIn [79]\u001b[0m, in \u001b[0;36m<cell line: 3>\u001b[1;34m()\u001b[0m\n\u001b[0;32m      1\u001b[0m letters \u001b[38;5;241m=\u001b[39m Counter({\u001b[38;5;124m\"\u001b[39m\u001b[38;5;124mi\u001b[39m\u001b[38;5;124m\"\u001b[39m: \u001b[38;5;124m\"\u001b[39m\u001b[38;5;124m4\u001b[39m\u001b[38;5;124m\"\u001b[39m, \u001b[38;5;124m\"\u001b[39m\u001b[38;5;124ms\u001b[39m\u001b[38;5;124m\"\u001b[39m: \u001b[38;5;124m\"\u001b[39m\u001b[38;5;124m4\u001b[39m\u001b[38;5;124m\"\u001b[39m, \u001b[38;5;124m\"\u001b[39m\u001b[38;5;124mp\u001b[39m\u001b[38;5;124m\"\u001b[39m: \u001b[38;5;124m\"\u001b[39m\u001b[38;5;124m2\u001b[39m\u001b[38;5;124m\"\u001b[39m, \u001b[38;5;124m\"\u001b[39m\u001b[38;5;124mm\u001b[39m\u001b[38;5;124m\"\u001b[39m: \u001b[38;5;124m\"\u001b[39m\u001b[38;5;124m1\u001b[39m\u001b[38;5;124m\"\u001b[39m})\n\u001b[1;32m----> 3\u001b[0m \u001b[43mletters\u001b[49m\u001b[38;5;241;43m.\u001b[39;49m\u001b[43mupdate\u001b[49m\u001b[43m(\u001b[49m\u001b[38;5;124;43m\"\u001b[39;49m\u001b[38;5;124;43mmissouri\u001b[39;49m\u001b[38;5;124;43m\"\u001b[39;49m\u001b[43m)\u001b[49m\n",
      "File \u001b[1;32m~\\AppData\\Local\\Programs\\Python\\Python310\\lib\\collections\\__init__.py:670\u001b[0m, in \u001b[0;36mCounter.update\u001b[1;34m(self, iterable, **kwds)\u001b[0m\n\u001b[0;32m    668\u001b[0m             \u001b[38;5;28msuper\u001b[39m()\u001b[38;5;241m.\u001b[39mupdate(iterable)\n\u001b[0;32m    669\u001b[0m     \u001b[38;5;28;01melse\u001b[39;00m:\n\u001b[1;32m--> 670\u001b[0m         \u001b[43m_count_elements\u001b[49m\u001b[43m(\u001b[49m\u001b[38;5;28;43mself\u001b[39;49m\u001b[43m,\u001b[49m\u001b[43m \u001b[49m\u001b[43miterable\u001b[49m\u001b[43m)\u001b[49m\n\u001b[0;32m    671\u001b[0m \u001b[38;5;28;01mif\u001b[39;00m kwds:\n\u001b[0;32m    672\u001b[0m     \u001b[38;5;28mself\u001b[39m\u001b[38;5;241m.\u001b[39mupdate(kwds)\n",
      "\u001b[1;31mTypeError\u001b[0m: can only concatenate str (not \"int\") to str"
     ]
    }
   ],
   "source": [
    "letters = Counter({\"i\": \"4\", \"s\": \"4\", \"p\": \"2\", \"m\": \"1\"})\n",
    "letters.update(\"missouri\")"
   ]
  },
  {
   "cell_type": "code",
   "execution_count": null,
   "id": "7bc93cd9",
   "metadata": {},
   "outputs": [],
   "source": []
  }
 ],
 "metadata": {
  "kernelspec": {
   "display_name": "Python 3 (ipykernel)",
   "language": "python",
   "name": "python3"
  },
  "language_info": {
   "codemirror_mode": {
    "name": "ipython",
    "version": 3
   },
   "file_extension": ".py",
   "mimetype": "text/x-python",
   "name": "python",
   "nbconvert_exporter": "python",
   "pygments_lexer": "ipython3",
   "version": "3.10.5"
  }
 },
 "nbformat": 4,
 "nbformat_minor": 5
}
