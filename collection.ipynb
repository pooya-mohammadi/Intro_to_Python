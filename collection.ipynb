{
 "cells": [
  {
   "cell_type": "markdown",
   "id": "bfd911d3",
   "metadata": {},
   "source": [
    "## Collection\n",
    "| 01            | [namedtuple()](#namedtuple())       | factory function for creating tuple subclasses with named fields </p></p>\n",
    "| 02            | [deque](#deque)               | list-like container with fast appends and pops on either end </p>\n",
    "| 03            | [ChainMap](#ChainMap)         | dict-like class for creating a single view of multiple mappingss </p>\n",
    "| 04            | [Counter](#Counter)           | dict subclass for counting hashable objects</p>\n",
    "| 05            | [OrderedDict](#OrderedDict)   | dict subclass that remembers the order entries were added </p>\n",
    "| 06            | [defaultdict](#defaultdict)   | dict subclass that calls a factory function to supply missing values </p>\n",
    "| 07            | [UserDict](#UserDict)         | wrapper around dictionary objects for easier dict subclassing </p>\n",
    "| 08            | [UserList](#UserDict)         | wrapper around list objects for easier list subclassing </p>\n",
    "| 09            | [UserString](#UserDict)       | wrapper around string objects for easier string subclassing </p>\n",
    "\n"
   ]
  },
  {
   "cell_type": "code",
   "execution_count": 1,
   "id": "0363e849",
   "metadata": {},
   "outputs": [
    {
     "ename": "SyntaxError",
     "evalue": "invalid syntax (3076499024.py, line 1)",
     "output_type": "error",
     "traceback": [
      "\u001b[1;36m  Cell \u001b[1;32mIn [1], line 1\u001b[1;36m\u001b[0m\n\u001b[1;33m    import ChainMap from collections\u001b[0m\n\u001b[1;37m                    ^\u001b[0m\n\u001b[1;31mSyntaxError\u001b[0m\u001b[1;31m:\u001b[0m invalid syntax\n"
     ]
    }
   ],
   "source": [
    "import ChainMap from collections"
   ]
  },
  {
   "cell_type": "code",
   "execution_count": 2,
   "id": "4f8080e5",
   "metadata": {},
   "outputs": [],
   "source": [
    "import builtins"
   ]
  },
  {
   "cell_type": "code",
   "execution_count": 6,
   "id": "15bbfc9f",
   "metadata": {},
   "outputs": [
    {
     "ename": "NameError",
     "evalue": "name 'ChainMap' is not defined",
     "output_type": "error",
     "traceback": [
      "\u001b[1;31m---------------------------------------------------------------------------\u001b[0m",
      "\u001b[1;31mNameError\u001b[0m                                 Traceback (most recent call last)",
      "Cell \u001b[1;32mIn [6], line 2\u001b[0m\n\u001b[0;32m      1\u001b[0m \u001b[38;5;28;01mimport\u001b[39;00m \u001b[38;5;21;01mbuiltins\u001b[39;00m\n\u001b[1;32m----> 2\u001b[0m pylookup \u001b[38;5;241m=\u001b[39m ChainMap(\u001b[38;5;28mlocals\u001b[39m(), \u001b[38;5;28mglobals\u001b[39m(), \u001b[38;5;28mvars\u001b[39m(builtins))\n",
      "\u001b[1;31mNameError\u001b[0m: name 'ChainMap' is not defined"
     ]
    }
   ],
   "source": [
    "import builtins\n",
    "pylookup = ChainMap(locals(), globals(), vars(builtins))"
   ]
  },
  {
   "cell_type": "code",
   "execution_count": 4,
   "id": "19e498c6",
   "metadata": {},
   "outputs": [
    {
     "name": "stdout",
     "output_type": "stream",
     "text": [
      "Collecting ChainMap\n",
      "  Downloading chainmap-1.0.3-py3-none-any.whl (9.2 kB)\n",
      "Installing collected packages: ChainMap\n",
      "Successfully installed ChainMap-1.0.3\n"
     ]
    },
    {
     "name": "stderr",
     "output_type": "stream",
     "text": [
      "\n",
      "[notice] A new release of pip available: 22.2.2 -> 22.3.1\n",
      "[notice] To update, run: python.exe -m pip install --upgrade pip\n"
     ]
    }
   ],
   "source": [
    "! pip install ChainMap"
   ]
  },
  {
   "cell_type": "code",
   "execution_count": null,
   "id": "e2040f72",
   "metadata": {},
   "outputs": [],
   "source": []
  }
 ],
 "metadata": {
  "kernelspec": {
   "display_name": "Python 3 (ipykernel)",
   "language": "python",
   "name": "python3"
  },
  "language_info": {
   "codemirror_mode": {
    "name": "ipython",
    "version": 3
   },
   "file_extension": ".py",
   "mimetype": "text/x-python",
   "name": "python",
   "nbconvert_exporter": "python",
   "pygments_lexer": "ipython3",
   "version": "3.10.7"
  }
 },
 "nbformat": 4,
 "nbformat_minor": 5
}
