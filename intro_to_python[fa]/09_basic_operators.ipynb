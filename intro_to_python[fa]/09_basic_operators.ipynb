{
 "cells": [
  {
   "cell_type": "markdown",
   "metadata": {},
   "source": [
    "## Basic Operators\n",
    "\n",
    "    * Arithmetic Operators\n",
    "    * Comparison (Relational) Operators\n",
    "    * Assignment Operators\n",
    "    * Membership Operators\n",
    "    * Identity Operators\n"
   ]
  },
  {
   "cell_type": "markdown",
   "metadata": {},
   "source": [
    "### Arithmetic Operators"
   ]
  },
  {
   "cell_type": "code",
   "execution_count": 3,
   "metadata": {},
   "outputs": [
    {
     "name": "stdout",
     "output_type": "stream",
     "text": [
      "a = 10, b = 20\n",
      "the result of 10 + 20 is 30\n",
      "the result of 10 - 20 is -10\n",
      "the result of 10 * 20 is 200\n",
      "the result of 10 / 20 is 0.5\n"
     ]
    }
   ],
   "source": [
    "a, b = 10, 20\n",
    "print(f'a = {a}, b = {b}')\n",
    "print(f'the result of {a} + {b} is {a + b}')        # Addition       -------> Adds values on either side of the operator\n",
    "print(f'the result of {a} - {b} is {a - b}')        # Subtraction    -------> Subtracts right hand operand from left hand operand\n",
    "print(f'the result of {a} * {b} is {a * b}')        # Multiplication -------> Multiplies values on either side of the operator\n",
    "print(f'the result of {a} / {b} is {a / b}')        # Division       -------> Divides left hand operand by right hand operand "
   ]
  },
  {
   "cell_type": "code",
   "execution_count": 4,
   "metadata": {},
   "outputs": [
    {
     "name": "stdout",
     "output_type": "stream",
     "text": [
      "the result of 7 % 2 is 1\n",
      "the result of 7 ** 2 is 49\n",
      "the result of 7 // 2 is 3\n"
     ]
    }
   ],
   "source": [
    "a, b = 7, 2\n",
    "print(f'the result of {a} % {b} is {a % b}')        # Modulus        -------> Divides left hand operand by right hand operand and returns remainder\n",
    "print(f'the result of {a} ** {b} is {a ** b}')      # Exponent       -------> Performs exponential (power) calculation on operators\n",
    "print(f'the result of {a} // {b} is {a // b}')      # Floor Division -------> The division of operands where the result is the quotient in which the digits after the decimal point are removed. "
   ]
  },
  {
   "cell_type": "markdown",
   "metadata": {},
   "source": [
    "### Comparison Operators"
   ]
  },
  {
   "cell_type": "code",
   "execution_count": 6,
   "metadata": {},
   "outputs": [
    {
     "name": "stdout",
     "output_type": "stream",
     "text": [
      "the result of 3 == 2 is False\n",
      "the result of 3 != 2 is True\n",
      "the result of 3 > 2 is True\n",
      "the result of 3 < 2 is False\n",
      "the result of 3 >= 2 is True\n",
      "the result of 3 <= 2 is False\n"
     ]
    }
   ],
   "source": [
    "a, b = 3, 2\n",
    "print(f'the result of {a} == {b} is {a == b}')      # -------> If the values of two operands are equal, then the condition becomes true.\n",
    "print(f'the result of {a} != {b} is {a != b}')      # -------> If values of two operands are not equal, then condition becomes true.\n",
    "print(f'the result of {a} > {b} is {a > b}')        # -------> If the value of left operand is greater than the value of right operand, then condition becomes true.\n",
    "print(f'the result of {a} < {b} is {a < b}')        # -------> If the value of left operand is less than the value of right operand, then condition becomes true.\n",
    "print(f'the result of {a} >= {b} is {a >= b}')      # -------> If the value of left operand is greater than or equal to the value of right operand, then condition becomes true.\n",
    "print(f'the result of {a} <= {b} is {a <= b}')      # -------> If the value of left operand is less than or equal to the value of right operand, then condition becomes true."
   ]
  },
  {
   "cell_type": "markdown",
   "metadata": {},
   "source": [
    "## Assignment & Arithmetic Operators"
   ]
  },
  {
   "cell_type": "code",
   "execution_count": 8,
   "metadata": {},
   "outputs": [
    {
     "name": "stdout",
     "output_type": "stream",
     "text": [
      "a = 7, b = 2\n",
      "the result a after a = b is 2\n",
      "a = 7, b = 2\n",
      "the result a after a += b is 9\n",
      "the result a after -= b is 8\n",
      "the result a after a *= b is 20\n",
      "the result a after a /= b is 5.0\n",
      "the result a after a %= b is 0\n",
      "the result a after a **= b is 100\n",
      "the result a after a //= b is 5\n"
     ]
    }
   ],
   "source": [
    "a, b = 7, 2\n",
    "print(f'a = {a}, b = {b}')\n",
    "a = b\n",
    "print(f'the result a after a = b is {a}')       #                    -------> Assigns values from right side operands to left side operand\n",
    "a = 7\n",
    "print(f'a = {a}, b = {b}')\n",
    "a += b  # a = a + b\n",
    "print(f'the result a after a += b is {a}')       # Add AND            -------> It adds right operand to the left operand and assign the result to left operand\n",
    "a = 10\n",
    "a -= b # a = a - b\n",
    "print(f'the result a after -= b is {a}')       # Subtract AND       -------> It subtracts right operand from the left operand and assign the result to left operand\n",
    "a = 10\n",
    "a *= b\n",
    "print(f'the result a after a *= b is {a}')       # Multiply AND       -------> It multiplies right operand with the left operand and assign the result to left operand\n",
    "a = 10\n",
    "a /= b\n",
    "print(f'the result a after a /= b is {a}')       # Divide AND         -------> It divides left operand by the right operand and assign the result to left operand\n",
    "a = 10\n",
    "a %= b\n",
    "print(f'the result a after a %= b is {a}')       # Modulus AND        -------> It takes modulus using two operands and assign the result to left operand\n",
    "a = 10\n",
    "a **= b\n",
    "print(f'the result a after a **= b is {a}')     # Exponent AND       -------> Performs exponential (power) calculation on operators and assign value to the left operand\n",
    "a = 10\n",
    "a //= b\n",
    "print(f'the result a after a //= b is {a}')     # Floor Devision AND -------> It performs floor division on operators and assign value to the left operand"
   ]
  },
  {
   "cell_type": "markdown",
   "metadata": {},
   "source": [
    "### Membership Operators"
   ]
  },
  {
   "cell_type": "code",
   "execution_count": 10,
   "metadata": {},
   "outputs": [
    {
     "name": "stdout",
     "output_type": "stream",
     "text": [
      "the result of 10 in [1, 2, 3, 6, 5] is False\n",
      "the result of 10 not in [1, 2, 3, 6, 5] is True\n"
     ]
    }
   ],
   "source": [
    "a = 10\n",
    "b = [1, 2, 3, 6, 5]\n",
    "print(f'the result of {a} in {b} is {a in b}')       # -------> Evaluates to true if it finds a variable in the specified sequence and false otherwise.\n",
    "print(f'the result of {a} not in {b} is {a not in b}') # -------> Evaluates to true if it does not finds a variable in the specified sequence and false otherwise."
   ]
  },
  {
   "cell_type": "markdown",
   "metadata": {},
   "source": [
    "### Identity Operators"
   ]
  },
  {
   "cell_type": "code",
   "execution_count": 12,
   "metadata": {
    "scrolled": true
   },
   "outputs": [
    {
     "name": "stdout",
     "output_type": "stream",
     "text": [
      "the result of (1, 2, 3) is (1, 2, 3, 6, 5) is False\n",
      "the result of (1, 2, 3) is not (1, 2, 3, 6, 5) is True\n"
     ]
    }
   ],
   "source": [
    "a = (1, 2, 3)\n",
    "b = (1, 2, 3, 6, 5)\n",
    "print(f'the result of {a} is {b} is {a is b}')         # -------> Evaluates to true if the variables on either side of the operator point to the same object and false otherwise.\n",
    "print(f'the result of {a} is not {b} is {a is not b}') # -------> Evaluates to false if the variables on either side of the operator point to the same object and true otherwise."
   ]
  },
  {
   "cell_type": "code",
   "execution_count": 14,
   "metadata": {},
   "outputs": [
    {
     "name": "stdout",
     "output_type": "stream",
     "text": [
      "whether a's value is equal to b's value: True\n",
      "whether a's identity is equal to b's identity: False\n",
      "identity of a is equal to: 1514353554368\n",
      "identity of b is equal to: 1514353552064\n"
     ]
    }
   ],
   "source": [
    "# A counterexample\n",
    "a = [1, 2]\n",
    "b = [1, 2]\n",
    "print(f\"whether a's value is equal to b's value: {a == b}\")\n",
    "print(f\"whether a's identity is equal to b's identity: {a is b}\")\n",
    "print(f\"identity of a is equal to: {id(a)}\")\n",
    "print(f\"identity of b is equal to: {id(b)}\")"
   ]
  },
  {
   "cell_type": "code",
   "execution_count": 15,
   "metadata": {},
   "outputs": [
    {
     "name": "stdout",
     "output_type": "stream",
     "text": [
      "identity of a is equal to: 1514275406064\n",
      "identity of b is equal to: 1514275406064\n",
      "whether a's identity is equal to b's identity: True\n"
     ]
    }
   ],
   "source": [
    "# Not recommended\n",
    "a = 1\n",
    "b = 1\n",
    "print(f\"identity of a is equal to: {id(a)}\")\n",
    "print(f\"identity of b is equal to: {id(b)}\")\n",
    "print(f\"whether a's identity is equal to b's identity: {a is b}\")"
   ]
  },
  {
   "cell_type": "code",
   "execution_count": 16,
   "metadata": {},
   "outputs": [
    {
     "name": "stdout",
     "output_type": "stream",
     "text": [
      "identity of a is equal to: 140717737127488\n",
      "identity of b is equal to: 1514275406064\n",
      "whether a's identity is equal to b's identity: False\n",
      "whether a's value is equal to b's value: False\n"
     ]
    }
   ],
   "source": [
    "# Recommended\n",
    "a = None\n",
    "b = 1\n",
    "\n",
    "print(f\"identity of a is equal to: {id(a)}\")\n",
    "print(f\"identity of b is equal to: {id(b)}\")\n",
    "print(f\"whether a's identity is equal to b's identity: {a is b}\")\n",
    "\n",
    "# not recommended\n",
    "print(f\"whether a's value is equal to b's value: {a == b}\")"
   ]
  },
  {
   "cell_type": "markdown",
   "metadata": {},
   "source": [
    "*:)*"
   ]
  }
 ],
 "metadata": {
  "kernelspec": {
   "display_name": "Python 3 (ipykernel)",
   "language": "python",
   "name": "python3"
  },
  "language_info": {
   "codemirror_mode": {
    "name": "ipython",
    "version": 3
   },
   "file_extension": ".py",
   "mimetype": "text/x-python",
   "name": "python",
   "nbconvert_exporter": "python",
   "pygments_lexer": "ipython3",
   "version": "3.9.12"
  }
 },
 "nbformat": 4,
 "nbformat_minor": 2
}
