{
 "cells": [
  {
   "cell_type": "markdown",
   "metadata": {},
   "source": [
    "## Standard Data Types\n",
    "1. numeric types:\n",
    "    1. int\n",
    "    2. float\n",
    "    3. complex\n",
    "    4. bool\n",
    "2. sequence types:\n",
    "    1. str\n",
    "    2. list\n",
    "    3. tuple\n",
    "    4. set\n",
    "    5. dictionary\n",
    "        1. how to create one -> key: value\n",
    "        2. how to retrieve a value \n",
    "        3. add a new key, value pair\n",
    "        4. how to delete a key, value pair\n",
    "        5. how to remove a key nad return its value(pop)\n",
    "        6. KeyError\n",
    "        7. how to create an empty dict\n",
    "        8. [keys are immutable/unhashable](#keys_are_immutable_hashable)"
   ]
  },
  {
   "cell_type": "markdown",
   "metadata": {},
   "source": [
    "### Dictionaries"
   ]
  },
  {
   "cell_type": "code",
   "execution_count": 5,
   "metadata": {},
   "outputs": [
    {
     "name": "stdout",
     "output_type": "stream",
     "text": [
      "capitals:  {'Iran': 'Tehran', 'France': 'paris', 'Italy': 'Rome'}\n",
      "capitals_1:  {'Iran': 'Tehran', 'France': 'Paris', 'Italy': 'Rome'}\n"
     ]
    }
   ],
   "source": [
    "# how to create a dictionary\n",
    "capitals = {'Iran': 'Tehran',\n",
    "            'France': 'paris',\n",
    "            'Italy': 'Rome',\n",
    "           }\n",
    "# or \n",
    "\n",
    "capitals_1 = dict(Iran=\"Tehran\", France=\"Paris\", Italy=\"Rome\")\n",
    "\n",
    "print(\"capitals: \", capitals)\n",
    "print(\"capitals_1: \", capitals_1)"
   ]
  },
  {
   "cell_type": "code",
   "execution_count": 7,
   "metadata": {},
   "outputs": [
    {
     "data": {
      "text/plain": [
       "'Tehran'"
      ]
     },
     "execution_count": 7,
     "metadata": {},
     "output_type": "execute_result"
    }
   ],
   "source": [
    "# retrieve a value\n",
    "capitals['Iran']"
   ]
  },
  {
   "cell_type": "code",
   "execution_count": 8,
   "metadata": {},
   "outputs": [
    {
     "name": "stdout",
     "output_type": "stream",
     "text": [
      "{'Iran': 'Tehran', 'France': 'paris', 'Italy': 'Rome', 'Spain': 'Madrid'}\n"
     ]
    }
   ],
   "source": [
    "# add a new key, value pair\n",
    "capitals['Spain'] = 'Madrid'\n",
    "print(capitals)"
   ]
  },
  {
   "cell_type": "code",
   "execution_count": 10,
   "metadata": {},
   "outputs": [
    {
     "name": "stdout",
     "output_type": "stream",
     "text": [
      "{'Iran': 'Tehran', 'France': 'paris', 'Italy': 'Rome', 'Spain': 'Madrid', 'Turkey': 'Ancara'}\n",
      "{'Iran': 'Tehran', 'France': 'paris', 'Italy': 'Rome', 'Spain': 'Madrid', 'Turkey': 'Ankara'}\n"
     ]
    }
   ],
   "source": [
    "# updating a key with a new value\n",
    "capitals['Turkey'] = 'Ancara' # misspelling\n",
    "print(capitals)\n",
    "capitals['Turkey'] = 'Ankara'\n",
    "print(capitals)"
   ]
  },
  {
   "cell_type": "code",
   "execution_count": 11,
   "metadata": {},
   "outputs": [
    {
     "data": {
      "text/plain": [
       "{'France': 'paris', 'Italy': 'Rome', 'Spain': 'Madrid', 'Turkey': 'Ankara'}"
      ]
     },
     "execution_count": 11,
     "metadata": {},
     "output_type": "execute_result"
    }
   ],
   "source": [
    "# how to delete a key, value pair\n",
    "del capitals['Iran']\n",
    "capitals"
   ]
  },
  {
   "cell_type": "code",
   "execution_count": 12,
   "metadata": {},
   "outputs": [
    {
     "name": "stdout",
     "output_type": "stream",
     "text": [
      "popped value: Rome\n",
      "{'France': 'paris', 'Spain': 'Madrid', 'Turkey': 'Ankara'}\n"
     ]
    }
   ],
   "source": [
    "# how to remove a key and return its value\n",
    "value = capitals.pop(\"Italy\")\n",
    "print(\"popped value:\", value)\n",
    "print(capitals)"
   ]
  },
  {
   "cell_type": "code",
   "execution_count": 15,
   "metadata": {},
   "outputs": [
    {
     "name": "stdout",
     "output_type": "stream",
     "text": [
      "{'France': 'paris', 'Spain': 'Madrid', 'Turkey': 'Ankara'}\n"
     ]
    },
    {
     "ename": "KeyError",
     "evalue": "'Germany'",
     "output_type": "error",
     "traceback": [
      "\u001b[1;31m---------------------------------------------------------------------------\u001b[0m",
      "\u001b[1;31mKeyError\u001b[0m                                  Traceback (most recent call last)",
      "Input \u001b[1;32mIn [15]\u001b[0m, in \u001b[0;36m<cell line: 3>\u001b[1;34m()\u001b[0m\n\u001b[0;32m      1\u001b[0m \u001b[38;5;66;03m# KeyError\u001b[39;00m\n\u001b[0;32m      2\u001b[0m \u001b[38;5;28mprint\u001b[39m(capitals)\n\u001b[1;32m----> 3\u001b[0m \u001b[43mcapitals\u001b[49m\u001b[43m[\u001b[49m\u001b[38;5;124;43m'\u001b[39;49m\u001b[38;5;124;43mGermany\u001b[39;49m\u001b[38;5;124;43m'\u001b[39;49m\u001b[43m]\u001b[49m\n",
      "\u001b[1;31mKeyError\u001b[0m: 'Germany'"
     ]
    }
   ],
   "source": [
    "# KeyError\n",
    "print(capitals)\n",
    "capitals['Germany']"
   ]
  },
  {
   "cell_type": "code",
   "execution_count": 16,
   "metadata": {},
   "outputs": [
    {
     "data": {
      "text/plain": [
       "False"
      ]
     },
     "execution_count": 16,
     "metadata": {},
     "output_type": "execute_result"
    }
   ],
   "source": [
    "# whether a key exists \n",
    "'Germany' in capitals"
   ]
  },
  {
   "cell_type": "code",
   "execution_count": 22,
   "metadata": {},
   "outputs": [
    {
     "name": "stdout",
     "output_type": "stream",
     "text": [
      "None\n"
     ]
    }
   ],
   "source": [
    "# safe retrieve\n",
    "value = capitals.get(\"Germany\", None)\n",
    "print(value)"
   ]
  },
  {
   "cell_type": "code",
   "execution_count": 23,
   "metadata": {},
   "outputs": [
    {
     "name": "stdout",
     "output_type": "stream",
     "text": [
      "{'France': 'paris', 'Spain': 'Madrid', 'Turkey': 'Ankara'}\n"
     ]
    },
    {
     "data": {
      "text/plain": [
       "{'France': 'Paris',\n",
       " 'Spain': 'Madrid',\n",
       " 'Turkey': 'Ankara',\n",
       " 'Germany': 'Berlin',\n",
       " 'United Kingdom': 'London'}"
      ]
     },
     "execution_count": 23,
     "metadata": {},
     "output_type": "execute_result"
    }
   ],
   "source": [
    "# update a dictionary using another dictionary\n",
    "print(capitals)\n",
    "more_capitals = {'Germany': 'Berlin', 'United Kingdom': 'London', 'France': 'Paris'}\n",
    "capitals.update(more_capitals)\n",
    "capitals"
   ]
  },
  {
   "cell_type": "code",
   "execution_count": 24,
   "metadata": {},
   "outputs": [
    {
     "data": {
      "text/plain": [
       "dict_keys(['France', 'Spain', 'Turkey', 'Germany', 'United Kingdom'])"
      ]
     },
     "execution_count": 24,
     "metadata": {},
     "output_type": "execute_result"
    }
   ],
   "source": [
    "# how access all the keys\n",
    "capitals.keys()"
   ]
  },
  {
   "cell_type": "code",
   "execution_count": 26,
   "metadata": {},
   "outputs": [
    {
     "data": {
      "text/plain": [
       "dict_values(['Paris', 'Madrid', 'Ankara', 'Berlin', 'London'])"
      ]
     },
     "execution_count": 26,
     "metadata": {},
     "output_type": "execute_result"
    }
   ],
   "source": [
    "# how to access all the values\n",
    "capitals.values()"
   ]
  },
  {
   "cell_type": "code",
   "execution_count": 27,
   "metadata": {},
   "outputs": [
    {
     "data": {
      "text/plain": [
       "dict_items([('France', 'Paris'), ('Spain', 'Madrid'), ('Turkey', 'Ankara'), ('Germany', 'Berlin'), ('United Kingdom', 'London')])"
      ]
     },
     "execution_count": 27,
     "metadata": {},
     "output_type": "execute_result"
    }
   ],
   "source": [
    "# how to access both keys and values\n",
    "capitals.items()"
   ]
  },
  {
   "cell_type": "code",
   "execution_count": 28,
   "metadata": {},
   "outputs": [
    {
     "data": {
      "text/plain": [
       "(dict, dict, set)"
      ]
     },
     "execution_count": 28,
     "metadata": {},
     "output_type": "execute_result"
    }
   ],
   "source": [
    "# how to create an empty dict\n",
    "empty_dict_1 = dict()\n",
    "empty_dict_2 = {}\n",
    "empty_set = set()\n",
    "type(empty_dict_1), type(empty_dict_2) , type(empty_set)"
   ]
  },
  {
   "cell_type": "markdown",
   "metadata": {},
   "source": [
    "<a id=\"keys_are_immutable_hashable\"></a>\n",
    "#### dictionaries' keys are immutable/unhashable"
   ]
  },
  {
   "cell_type": "code",
   "execution_count": 31,
   "metadata": {},
   "outputs": [
    {
     "name": "stdout",
     "output_type": "stream",
     "text": [
      "tuples are hashable {(10, 10): 10}\n"
     ]
    }
   ],
   "source": [
    "a_dict = {(10, 10): 10}\n",
    "print(\"tuples are hashable\", a_dict)"
   ]
  },
  {
   "cell_type": "code",
   "execution_count": 32,
   "metadata": {},
   "outputs": [
    {
     "ename": "TypeError",
     "evalue": "unhashable type: 'list'",
     "output_type": "error",
     "traceback": [
      "\u001b[1;31m---------------------------------------------------------------------------\u001b[0m",
      "\u001b[1;31mTypeError\u001b[0m                                 Traceback (most recent call last)",
      "Input \u001b[1;32mIn [32]\u001b[0m, in \u001b[0;36m<cell line: 1>\u001b[1;34m()\u001b[0m\n\u001b[1;32m----> 1\u001b[0m a_dict \u001b[38;5;241m=\u001b[39m {[\u001b[38;5;241m10\u001b[39m, \u001b[38;5;241m10\u001b[39m]: \u001b[38;5;241m10\u001b[39m}\n\u001b[0;32m      2\u001b[0m \u001b[38;5;28mprint\u001b[39m(\u001b[38;5;124m\"\u001b[39m\u001b[38;5;124mlists are not hashable\u001b[39m\u001b[38;5;124m\"\u001b[39m, a_dict)\n",
      "\u001b[1;31mTypeError\u001b[0m: unhashable type: 'list'"
     ]
    }
   ],
   "source": [
    "a_dict = {[10, 10]: 10}\n",
    "print(\"lists are not hashable\", a_dict)"
   ]
  },
  {
   "cell_type": "code",
   "execution_count": 35,
   "metadata": {},
   "outputs": [
    {
     "data": {
      "text/plain": [
       "{10: 10}"
      ]
     },
     "execution_count": 35,
     "metadata": {},
     "output_type": "execute_result"
    }
   ],
   "source": [
    "another_dict = {10: 10}\n",
    "another_dict"
   ]
  },
  {
   "cell_type": "code",
   "execution_count": 36,
   "metadata": {},
   "outputs": [
    {
     "ename": "TypeError",
     "evalue": "unhashable type: 'dict'",
     "output_type": "error",
     "traceback": [
      "\u001b[1;31m---------------------------------------------------------------------------\u001b[0m",
      "\u001b[1;31mTypeError\u001b[0m                                 Traceback (most recent call last)",
      "Input \u001b[1;32mIn [36]\u001b[0m, in \u001b[0;36m<cell line: 1>\u001b[1;34m()\u001b[0m\n\u001b[1;32m----> 1\u001b[0m a_dict \u001b[38;5;241m=\u001b[39m {another_dict: \u001b[38;5;241m10\u001b[39m}\n\u001b[0;32m      2\u001b[0m \u001b[38;5;28mprint\u001b[39m(\u001b[38;5;124m\"\u001b[39m\u001b[38;5;124mdictionaries are not hashable\u001b[39m\u001b[38;5;124m\"\u001b[39m, a_dict)\n",
      "\u001b[1;31mTypeError\u001b[0m: unhashable type: 'dict'"
     ]
    }
   ],
   "source": [
    "a_dict = {another_dict: 10}\n",
    "print(\"dictionaries are not hashable\", a_dict)"
   ]
  },
  {
   "cell_type": "markdown",
   "metadata": {},
   "source": [
    "*:)*"
   ]
  }
 ],
 "metadata": {
  "kernelspec": {
   "display_name": "Python 3 (ipykernel)",
   "language": "python",
   "name": "python3"
  },
  "language_info": {
   "codemirror_mode": {
    "name": "ipython",
    "version": 3
   },
   "file_extension": ".py",
   "mimetype": "text/x-python",
   "name": "python",
   "nbconvert_exporter": "python",
   "pygments_lexer": "ipython3",
   "version": "3.9.12"
  }
 },
 "nbformat": 4,
 "nbformat_minor": 2
}
